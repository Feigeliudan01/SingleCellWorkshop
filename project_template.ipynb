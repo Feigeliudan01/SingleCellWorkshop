{
 "cells": [
  {
   "cell_type": "markdown",
   "metadata": {},
   "source": [
    "# Project template\n",
    "\n",
    "You can use this notebook to just start your independent project work.\n",
    "\n",
    "## 1. Install\n",
    "\n",
    "#### Install Python packages"
   ]
  },
  {
   "cell_type": "code",
   "execution_count": null,
   "metadata": {},
   "outputs": [],
   "source": [
    "!pip install --user scprep phate magic-impute umap-learn \n",
    "!pip install --user git+https://github.com/jacoblevine/phenograph.git"
   ]
  },
  {
   "cell_type": "markdown",
   "metadata": {},
   "source": [
    "#### Install Louvain"
   ]
  },
  {
   "cell_type": "code",
   "execution_count": null,
   "metadata": {},
   "outputs": [],
   "source": [
    "import scprep\n",
    "scprep.io.download.download_google_drive(\"1cpwiEVJhEhXPNvO3K6-jxEg3k3H-d1Sg\", \"python_igraph-0.7.1.post6-cp36-cp36m-linux_x86_64.whl\")\n",
    "scprep.io.download.download_google_drive(\"1IsD8uMy_7g-yydMRy2W6Mc4XLqXaF6ea\", \"louvain-0.6.1-cp36-cp36m-linux_x86_64.whl\")"
   ]
  },
  {
   "cell_type": "code",
   "execution_count": null,
   "metadata": {},
   "outputs": [],
   "source": [
    "!pip install --user python_igraph-0.7.1.post6-cp36-cp36m-linux_x86_64.whl louvain-0.6.1-cp36-cp36m-linux_x86_64.whl"
   ]
  },
  {
   "cell_type": "markdown",
   "metadata": {},
   "source": [
    "#### Install R packages (Splatter and Slingshot)"
   ]
  },
  {
   "cell_type": "code",
   "execution_count": null,
   "metadata": {},
   "outputs": [],
   "source": [
    "scprep.io.download.download_google_drive('1VuddKA7Xa23NAFKvRUmtuND16eEMHL9z',\n",
    "                                         '/content/r_packages.tar.gz')\n",
    "!tar xzf /content/r_packages.tar.gz && rm /content/r_packages.tar.gz\n",
    "!apt-get install -yqq libgsl-dev=2.4+dfsg-6\n",
    "!pip install --user --upgrade rpy2\n",
    "!echo \"R_LIBS_USER='/content/.r_packages'\" >> ~/.Renviron"
   ]
  },
  {
   "cell_type": "markdown",
   "metadata": {},
   "source": [
    "## 2. Analysis\n",
    "\n",
    "Go forth and machine learn!"
   ]
  },
  {
   "cell_type": "code",
   "execution_count": null,
   "metadata": {},
   "outputs": [],
   "source": []
  }
 ],
 "metadata": {
  "kernelspec": {
   "display_name": "Python 3",
   "language": "python",
   "name": "python3"
  },
  "language_info": {
   "codemirror_mode": {
    "name": "ipython",
    "version": 3
   },
   "file_extension": ".py",
   "mimetype": "text/x-python",
   "name": "python",
   "nbconvert_exporter": "python",
   "pygments_lexer": "ipython3",
   "version": "3.7.3"
  }
 },
 "nbformat": 4,
 "nbformat_minor": 2
}
