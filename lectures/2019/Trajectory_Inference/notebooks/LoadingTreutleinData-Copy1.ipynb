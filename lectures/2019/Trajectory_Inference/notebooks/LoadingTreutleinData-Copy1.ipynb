{
 "cells": [
  {
   "cell_type": "code",
   "execution_count": null,
   "metadata": {},
   "outputs": [],
   "source": [
    "version"
   ]
  },
  {
   "cell_type": "code",
   "execution_count": null,
   "metadata": {},
   "outputs": [],
   "source": [
    "install.packages(\"devtools\")\n",
    "devtools::install_github(\"dynverse/dyno\")"
   ]
  },
  {
   "cell_type": "code",
   "execution_count": null,
   "metadata": {},
   "outputs": [],
   "source": [
    "install.packages(\"BiocManager\")\n",
    "\n",
    "BiocManager::install(\"slingshot\")"
   ]
  },
  {
   "cell_type": "code",
   "execution_count": null,
   "metadata": {},
   "outputs": [],
   "source": []
  },
  {
   "cell_type": "code",
   "execution_count": 1,
   "metadata": {},
   "outputs": [
    {
     "name": "stderr",
     "output_type": "stream",
     "text": [
      "Loading required package: dynfeature\n",
      "Loading required package: dynguidelines\n",
      "Loading required package: dynmethods\n",
      "Loading required package: dynplot\n",
      "Loading required package: dynwrap\n",
      "── Attaching packages ─────────────────────────────────────── tidyverse 1.2.1 ──\n",
      "✔ ggplot2 3.2.1     ✔ purrr   0.3.2\n",
      "✔ tibble  2.1.3     ✔ dplyr   0.8.3\n",
      "✔ tidyr   1.0.0     ✔ stringr 1.4.0\n",
      "✔ readr   1.3.1     ✔ forcats 0.4.0\n",
      "── Conflicts ────────────────────────────────────────── tidyverse_conflicts() ──\n",
      "✖ dplyr::filter() masks stats::filter()\n",
      "✖ dplyr::lag()    masks stats::lag()\n"
     ]
    }
   ],
   "source": [
    "library(dyno)\n",
    "library(tidyverse)\n",
    "\n",
    "data(\"fibroblast_reprogramming_treutlein\")\n",
    "\n",
    "dataset <- wrap_expression(\n",
    "  counts = fibroblast_reprogramming_treutlein$counts,\n",
    "  expression = fibroblast_reprogramming_treutlein$expression\n",
    ")"
   ]
  },
  {
   "cell_type": "code",
   "execution_count": 18,
   "metadata": {},
   "outputs": [
    {
     "name": "stderr",
     "output_type": "stream",
     "text": [
      "Loading required namespace: akima\n"
     ]
    }
   ],
   "source": [
    "guidelines <- guidelines(\n",
    "  dataset,\n",
    "  answers = answer_questions(\n",
    "    dataset,\n",
    "    multiple_disconnected = FALSE,\n",
    "    expect_topology = TRUE,\n",
    "    expected_topology = \"bifurcation\"\n",
    "  )\n",
    ")"
   ]
  },
  {
   "cell_type": "code",
   "execution_count": 19,
   "metadata": {},
   "outputs": [
    {
     "name": "stdout",
     "output_type": "stream",
     "text": [
      "Cannot connect to the Docker daemon at unix:///var/run/docker.sock. Is the docker daemon running?\n"
     ]
    },
    {
     "ename": "ERROR",
     "evalue": "Error in processx::run(\"docker\", c(\"images\", paste0(\"--format=\", format), : System command error, exit status: 1, stderr:\nE> Cannot connect to the Docker daemon at unix:///var/run/docker.sock. Is the docker daemon running?\n",
     "output_type": "error",
     "traceback": [
      "Error in processx::run(\"docker\", c(\"images\", paste0(\"--format=\", format), : System command error, exit status: 1, stderr:\nE> Cannot connect to the Docker daemon at unix:///var/run/docker.sock. Is the docker daemon running?\nTraceback:\n",
      "1. infer_trajectory(dataset, \"slingshot\")",
      "2. infer_trajectories(dataset = dataset, method = method, parameters = list(parameters), \n .     give_priors = give_priors, seed = seed, verbose = verbose, \n .     return_verbose = return_verbose, debug = debug)",
      "3. list_as_tibble(map(descs$fun, ~.()))",
      "4. list_of_rows %>% map(class)",
      "5. eval(lhs, parent, parent)",
      "6. eval(lhs, parent, parent)",
      "7. map(descs$fun, ~.())",
      "8. .f(.x[[i]], ...)",
      "9. .()",
      "10. create_ti_method_container(container_id = \"dynverse/ti_slingshot:v1.0.3\")",
      "11. list_docker_images(container_id)",
      "12. processx::run(\"docker\", c(\"images\", paste0(\"--format=\", format), \n  .     container_id), echo = FALSE)",
      "13. throw(new_process_error(res, call = sys.call(), echo = echo, \n  .     stderr_to_stdout, res$status))"
     ]
    }
   ],
   "source": [
    "model <- infer_trajectory(dataset, \"slingshot\")"
   ]
  },
  {
   "cell_type": "code",
   "execution_count": 17,
   "metadata": {},
   "outputs": [
    {
     "ename": "ERROR",
     "evalue": "Error in eval(lhs, parent, parent): object 'model' not found\n",
     "output_type": "error",
     "traceback": [
      "Error in eval(lhs, parent, parent): object 'model' not found\nTraceback:\n",
      "1. model %>% add_dimred(dyndimred::dimred_mds, expression_source = dataset$expression)",
      "2. eval(lhs, parent, parent)",
      "3. eval(lhs, parent, parent)"
     ]
    }
   ],
   "source": [
    "model <- model %>% add_dimred(dyndimred::dimred_mds, expression_source = dataset$expression)"
   ]
  },
  {
   "cell_type": "code",
   "execution_count": 16,
   "metadata": {},
   "outputs": [
    {
     "name": "stdout",
     "output_type": "stream",
     "text": [
      "List of 8\n",
      " $ id                  : chr \"20191002_105338__data_wrapper__wyfGSoyYQa\"\n",
      " $ cell_ids            : chr [1:392] \"1_iN1_C01\" \"1_iN1_C02\" \"1_iN1_C03\" \"1_iN1_C04\" ...\n",
      " $ cell_info           : NULL\n",
      " $ counts              :Formal class 'dgCMatrix' [package \"Matrix\"] with 6 slots\n",
      "  .. ..@ i       : int [1:502036] 0 1 2 4 6 7 8 9 11 12 ...\n",
      "  .. ..@ p       : int [1:2001] 0 276 589 885 1233 1440 1773 1993 2326 2520 ...\n",
      "  .. ..@ Dim     : int [1:2] 392 2000\n",
      "  .. ..@ Dimnames:List of 2\n",
      "  .. .. ..$ : chr [1:392] \"1_iN1_C01\" \"1_iN1_C02\" \"1_iN1_C03\" \"1_iN1_C04\" ...\n",
      "  .. .. ..$ : chr [1:2000] \"Hmgb3\" \"Tmem30a\" \"Bloc1s2\" \"Pdcl3\" ...\n",
      "  .. ..@ x       : num [1:502036] 213 28.45 4.52 3.25 18.77 ...\n",
      "  .. ..@ factors : list()\n",
      " $ expression          :Formal class 'dgCMatrix' [package \"Matrix\"] with 6 slots\n",
      "  .. ..@ i       : int [1:502036] 0 1 2 4 6 7 8 9 11 12 ...\n",
      "  .. ..@ p       : int [1:2001] 0 276 589 885 1233 1440 1773 1993 2326 2520 ...\n",
      "  .. ..@ Dim     : int [1:2] 392 2000\n",
      "  .. ..@ Dimnames:List of 2\n",
      "  .. .. ..$ : chr [1:392] \"1_iN1_C01\" \"1_iN1_C02\" \"1_iN1_C03\" \"1_iN1_C04\" ...\n",
      "  .. .. ..$ : chr [1:2000] \"Hmgb3\" \"Tmem30a\" \"Bloc1s2\" \"Pdcl3\" ...\n",
      "  .. ..@ x       : num [1:502036] 7.74 4.88 2.46 2.09 4.31 ...\n",
      "  .. ..@ factors : list()\n",
      " $ expression_projected: NULL\n",
      " $ feature_info        :Classes ‘tbl_df’, ‘tbl’ and 'data.frame':\t2000 obs. of  1 variable:\n",
      "  ..$ feature_id: chr [1:2000] \"Hmgb3\" \"Tmem30a\" \"Bloc1s2\" \"Pdcl3\" ...\n",
      " $ feature_ids         : chr [1:2000] \"Hmgb3\" \"Tmem30a\" \"Bloc1s2\" \"Pdcl3\" ...\n",
      " - attr(*, \"class\")= chr [1:3] \"dynwrap::with_expression\" \"dynwrap::data_wrapper\" \"list\"\n"
     ]
    }
   ],
   "source": [
    "str(dataset)"
   ]
  },
  {
   "cell_type": "code",
   "execution_count": 15,
   "metadata": {},
   "outputs": [],
   "source": [
    "write.csv(fibroblast_reprogramming_treutlein$grouping, file='/home/dan/scRNAseq/Treutlein.groups.csv')"
   ]
  },
  {
   "cell_type": "code",
   "execution_count": 9,
   "metadata": {},
   "outputs": [],
   "source": [
    "write.csv(as.matrix(dataset$counts), file='/home/dan/scRNAseq/Treutlein.counts.csv')"
   ]
  },
  {
   "cell_type": "code",
   "execution_count": 10,
   "metadata": {},
   "outputs": [],
   "source": [
    "write.csv(as.matrix(dataset$expression), file='/home/dan/scRNAseq/Treutlein.expression.csv')"
   ]
  },
  {
   "cell_type": "code",
   "execution_count": 12,
   "metadata": {},
   "outputs": [],
   "source": [
    "write.csv(as.matrix(dataset$feature_info), file='/home/dan/scRNAseq/Treutlein.gene_names.csv')"
   ]
  },
  {
   "cell_type": "code",
   "execution_count": null,
   "metadata": {},
   "outputs": [],
   "source": []
  },
  {
   "cell_type": "code",
   "execution_count": null,
   "metadata": {},
   "outputs": [],
   "source": []
  },
  {
   "cell_type": "code",
   "execution_count": null,
   "metadata": {},
   "outputs": [],
   "source": []
  },
  {
   "cell_type": "code",
   "execution_count": null,
   "metadata": {},
   "outputs": [],
   "source": []
  },
  {
   "cell_type": "code",
   "execution_count": null,
   "metadata": {},
   "outputs": [],
   "source": []
  },
  {
   "cell_type": "code",
   "execution_count": null,
   "metadata": {},
   "outputs": [],
   "source": []
  },
  {
   "cell_type": "code",
   "execution_count": null,
   "metadata": {},
   "outputs": [],
   "source": []
  },
  {
   "cell_type": "code",
   "execution_count": null,
   "metadata": {},
   "outputs": [],
   "source": []
  },
  {
   "cell_type": "code",
   "execution_count": null,
   "metadata": {},
   "outputs": [],
   "source": []
  },
  {
   "cell_type": "code",
   "execution_count": null,
   "metadata": {},
   "outputs": [],
   "source": []
  },
  {
   "cell_type": "code",
   "execution_count": null,
   "metadata": {},
   "outputs": [],
   "source": []
  }
 ],
 "metadata": {
  "kernelspec": {
   "display_name": "R",
   "language": "R",
   "name": "ir"
  },
  "language_info": {
   "codemirror_mode": "r",
   "file_extension": ".r",
   "mimetype": "text/x-r-source",
   "name": "R",
   "pygments_lexer": "r",
   "version": "3.6.0"
  }
 },
 "nbformat": 4,
 "nbformat_minor": 2
}
