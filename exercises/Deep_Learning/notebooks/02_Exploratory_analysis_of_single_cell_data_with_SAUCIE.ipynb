{
 "cells": [
  {
   "cell_type": "markdown",
   "metadata": {},
   "source": [
    "# Exploratory analysis of single cell data with SAUCIE\n",
    "\n",
    "In this notebook, we will use SAUCIE, a multitasking neural network, that can be used for visualization, clustering, batch correction and denoising of single cell data. We will apply it once again to the Shekhar et al. retinal bipolar data.\n",
    "\n",
    "## 1. Imports"
   ]
  },
  {
   "cell_type": "code",
   "execution_count": null,
   "metadata": {
    "colab": {},
    "colab_type": "code",
    "id": "NQM54ZUU61dE"
   },
   "outputs": [],
   "source": [
    "!pip install scprep\n",
    "!pip install tensorflow==1.12.0"
   ]
  },
  {
   "cell_type": "code",
   "execution_count": 2,
   "metadata": {
    "colab": {},
    "colab_type": "code",
    "id": "KgaZZU8r4drd"
   },
   "outputs": [],
   "source": [
    "import scprep\n",
    "import matplotlib as mpl\n",
    "import matplotlib.pyplot as plt\n",
    "import scipy.io\n",
    "import numpy as np\n",
    "import sklearn.manifold\n",
    "import h5py\n",
    "import pandas as pd\n",
    "import os\n",
    "import sys\n",
    "import scprep\n",
    "import tensorflow as tf"
   ]
  },
  {
   "cell_type": "markdown",
   "metadata": {},
   "source": [
    "SAUCIE is not available on PyPi, but we can download it from GitHub and add it to our Python path to run it without any further installation."
   ]
  },
  {
   "cell_type": "code",
   "execution_count": null,
   "metadata": {
    "colab": {},
    "colab_type": "code",
    "id": "KgaZZU8r4drd"
   },
   "outputs": [],
   "source": [
    "# download SAUCIE from Github\n",
    "!git clone https://github.com/KrishnaswamyLab/SAUCIE.git"
   ]
  },
  {
   "cell_type": "code",
   "execution_count": 5,
   "metadata": {
    "colab": {},
    "colab_type": "code",
    "id": "KgaZZU8r4drd"
   },
   "outputs": [],
   "source": [
    "# add SAUCIE to the python path\n",
    "sys.path.append('./SAUCIE')"
   ]
  },
  {
   "cell_type": "code",
   "execution_count": 6,
   "metadata": {
    "colab": {},
    "colab_type": "code",
    "id": "KgaZZU8r4drd"
   },
   "outputs": [],
   "source": [
    "# SAUCIE imports\n",
    "from model import SAUCIE\n",
    "from loader import Loader\n",
    "%matplotlib inline"
   ]
  },
  {
   "cell_type": "code",
   "execution_count": 3,
   "metadata": {
    "colab": {},
    "colab_type": "code",
    "id": "9cFcDskDHNBT"
   },
   "outputs": [],
   "source": [
    "scprep.io.download.download_google_drive(\"1GYqmGgv-QY6mRTJhOCE1sHWszRGMFpnf\", \"data.pickle.gz\")\n",
    "scprep.io.download.download_google_drive(\"1q1N1s044FGWzYnQEoYMDJOjdWPm_Uone\", \"metadata.pickle.gz\")"
   ]
  },
  {
   "cell_type": "code",
   "execution_count": 10,
   "metadata": {
    "colab": {},
    "colab_type": "code",
    "id": "ujIUq8Km9jNr"
   },
   "outputs": [
    {
     "data": {
      "text/html": [
       "<div>\n",
       "<style scoped>\n",
       "    .dataframe tbody tr th:only-of-type {\n",
       "        vertical-align: middle;\n",
       "    }\n",
       "\n",
       "    .dataframe tbody tr th {\n",
       "        vertical-align: top;\n",
       "    }\n",
       "\n",
       "    .dataframe thead th {\n",
       "        text-align: right;\n",
       "    }\n",
       "</style>\n",
       "<table border=\"1\" class=\"dataframe\">\n",
       "  <thead>\n",
       "    <tr style=\"text-align: right;\">\n",
       "      <th></th>\n",
       "      <th>0610005C13Rik</th>\n",
       "      <th>0610007P14Rik</th>\n",
       "      <th>0610009B22Rik</th>\n",
       "      <th>0610009E02Rik</th>\n",
       "      <th>0610009L18Rik</th>\n",
       "      <th>0610009O20Rik</th>\n",
       "      <th>0610010F05Rik</th>\n",
       "      <th>0610010K14Rik</th>\n",
       "      <th>0610011F06Rik</th>\n",
       "      <th>0610030E20Rik</th>\n",
       "      <th>...</th>\n",
       "      <th>mt-Tl1</th>\n",
       "      <th>mt-Tl2</th>\n",
       "      <th>mt-Tm</th>\n",
       "      <th>mt-Tp</th>\n",
       "      <th>mt-Tq</th>\n",
       "      <th>mt-Ts2</th>\n",
       "      <th>mt-Tt</th>\n",
       "      <th>mt-Tv</th>\n",
       "      <th>mt-Tw</th>\n",
       "      <th>mt-Ty</th>\n",
       "    </tr>\n",
       "  </thead>\n",
       "  <tbody>\n",
       "    <tr>\n",
       "      <th>Bipolar1_CTCCTAAACAAG</th>\n",
       "      <td>0.0</td>\n",
       "      <td>0.0</td>\n",
       "      <td>0.0</td>\n",
       "      <td>0.0</td>\n",
       "      <td>0.0</td>\n",
       "      <td>0.0</td>\n",
       "      <td>0.000000</td>\n",
       "      <td>0.0</td>\n",
       "      <td>0.0</td>\n",
       "      <td>0.0</td>\n",
       "      <td>...</td>\n",
       "      <td>0.0</td>\n",
       "      <td>0.0</td>\n",
       "      <td>0.0</td>\n",
       "      <td>0.000000</td>\n",
       "      <td>0.0</td>\n",
       "      <td>0.0</td>\n",
       "      <td>0.0</td>\n",
       "      <td>0.0</td>\n",
       "      <td>0.0</td>\n",
       "      <td>0.0</td>\n",
       "    </tr>\n",
       "    <tr>\n",
       "      <th>Bipolar1_CTCGAGAGGCGC</th>\n",
       "      <td>0.0</td>\n",
       "      <td>0.0</td>\n",
       "      <td>0.0</td>\n",
       "      <td>0.0</td>\n",
       "      <td>0.0</td>\n",
       "      <td>0.0</td>\n",
       "      <td>0.000000</td>\n",
       "      <td>0.0</td>\n",
       "      <td>0.0</td>\n",
       "      <td>0.0</td>\n",
       "      <td>...</td>\n",
       "      <td>0.0</td>\n",
       "      <td>0.0</td>\n",
       "      <td>0.0</td>\n",
       "      <td>0.000000</td>\n",
       "      <td>0.0</td>\n",
       "      <td>0.0</td>\n",
       "      <td>0.0</td>\n",
       "      <td>0.0</td>\n",
       "      <td>0.0</td>\n",
       "      <td>0.0</td>\n",
       "    </tr>\n",
       "    <tr>\n",
       "      <th>Bipolar1_AGCCTAAAGTAC</th>\n",
       "      <td>0.0</td>\n",
       "      <td>0.0</td>\n",
       "      <td>0.0</td>\n",
       "      <td>0.0</td>\n",
       "      <td>0.0</td>\n",
       "      <td>0.0</td>\n",
       "      <td>2.671658</td>\n",
       "      <td>0.0</td>\n",
       "      <td>0.0</td>\n",
       "      <td>0.0</td>\n",
       "      <td>...</td>\n",
       "      <td>0.0</td>\n",
       "      <td>0.0</td>\n",
       "      <td>0.0</td>\n",
       "      <td>0.000000</td>\n",
       "      <td>0.0</td>\n",
       "      <td>0.0</td>\n",
       "      <td>0.0</td>\n",
       "      <td>0.0</td>\n",
       "      <td>0.0</td>\n",
       "      <td>0.0</td>\n",
       "    </tr>\n",
       "    <tr>\n",
       "      <th>Bipolar1_CGTGAAAATCAA</th>\n",
       "      <td>0.0</td>\n",
       "      <td>0.0</td>\n",
       "      <td>0.0</td>\n",
       "      <td>0.0</td>\n",
       "      <td>0.0</td>\n",
       "      <td>0.0</td>\n",
       "      <td>0.000000</td>\n",
       "      <td>0.0</td>\n",
       "      <td>0.0</td>\n",
       "      <td>0.0</td>\n",
       "      <td>...</td>\n",
       "      <td>0.0</td>\n",
       "      <td>0.0</td>\n",
       "      <td>0.0</td>\n",
       "      <td>2.670705</td>\n",
       "      <td>0.0</td>\n",
       "      <td>0.0</td>\n",
       "      <td>0.0</td>\n",
       "      <td>0.0</td>\n",
       "      <td>0.0</td>\n",
       "      <td>0.0</td>\n",
       "    </tr>\n",
       "    <tr>\n",
       "      <th>Bipolar1_CAACGTTCCGTA</th>\n",
       "      <td>0.0</td>\n",
       "      <td>0.0</td>\n",
       "      <td>0.0</td>\n",
       "      <td>0.0</td>\n",
       "      <td>0.0</td>\n",
       "      <td>0.0</td>\n",
       "      <td>0.000000</td>\n",
       "      <td>0.0</td>\n",
       "      <td>0.0</td>\n",
       "      <td>0.0</td>\n",
       "      <td>...</td>\n",
       "      <td>0.0</td>\n",
       "      <td>0.0</td>\n",
       "      <td>0.0</td>\n",
       "      <td>0.000000</td>\n",
       "      <td>0.0</td>\n",
       "      <td>0.0</td>\n",
       "      <td>0.0</td>\n",
       "      <td>0.0</td>\n",
       "      <td>0.0</td>\n",
       "      <td>0.0</td>\n",
       "    </tr>\n",
       "  </tbody>\n",
       "</table>\n",
       "<p>5 rows × 15524 columns</p>\n",
       "</div>"
      ],
      "text/plain": [
       "                       0610005C13Rik  0610007P14Rik  0610009B22Rik  \\\n",
       "Bipolar1_CTCCTAAACAAG            0.0            0.0            0.0   \n",
       "Bipolar1_CTCGAGAGGCGC            0.0            0.0            0.0   \n",
       "Bipolar1_AGCCTAAAGTAC            0.0            0.0            0.0   \n",
       "Bipolar1_CGTGAAAATCAA            0.0            0.0            0.0   \n",
       "Bipolar1_CAACGTTCCGTA            0.0            0.0            0.0   \n",
       "\n",
       "                       0610009E02Rik  0610009L18Rik  0610009O20Rik  \\\n",
       "Bipolar1_CTCCTAAACAAG            0.0            0.0            0.0   \n",
       "Bipolar1_CTCGAGAGGCGC            0.0            0.0            0.0   \n",
       "Bipolar1_AGCCTAAAGTAC            0.0            0.0            0.0   \n",
       "Bipolar1_CGTGAAAATCAA            0.0            0.0            0.0   \n",
       "Bipolar1_CAACGTTCCGTA            0.0            0.0            0.0   \n",
       "\n",
       "                       0610010F05Rik  0610010K14Rik  0610011F06Rik  \\\n",
       "Bipolar1_CTCCTAAACAAG       0.000000            0.0            0.0   \n",
       "Bipolar1_CTCGAGAGGCGC       0.000000            0.0            0.0   \n",
       "Bipolar1_AGCCTAAAGTAC       2.671658            0.0            0.0   \n",
       "Bipolar1_CGTGAAAATCAA       0.000000            0.0            0.0   \n",
       "Bipolar1_CAACGTTCCGTA       0.000000            0.0            0.0   \n",
       "\n",
       "                       0610030E20Rik  ...  mt-Tl1  mt-Tl2  mt-Tm     mt-Tp  \\\n",
       "Bipolar1_CTCCTAAACAAG            0.0  ...     0.0     0.0    0.0  0.000000   \n",
       "Bipolar1_CTCGAGAGGCGC            0.0  ...     0.0     0.0    0.0  0.000000   \n",
       "Bipolar1_AGCCTAAAGTAC            0.0  ...     0.0     0.0    0.0  0.000000   \n",
       "Bipolar1_CGTGAAAATCAA            0.0  ...     0.0     0.0    0.0  2.670705   \n",
       "Bipolar1_CAACGTTCCGTA            0.0  ...     0.0     0.0    0.0  0.000000   \n",
       "\n",
       "                       mt-Tq  mt-Ts2  mt-Tt  mt-Tv  mt-Tw  mt-Ty  \n",
       "Bipolar1_CTCCTAAACAAG    0.0     0.0    0.0    0.0    0.0    0.0  \n",
       "Bipolar1_CTCGAGAGGCGC    0.0     0.0    0.0    0.0    0.0    0.0  \n",
       "Bipolar1_AGCCTAAAGTAC    0.0     0.0    0.0    0.0    0.0    0.0  \n",
       "Bipolar1_CGTGAAAATCAA    0.0     0.0    0.0    0.0    0.0    0.0  \n",
       "Bipolar1_CAACGTTCCGTA    0.0     0.0    0.0    0.0    0.0    0.0  \n",
       "\n",
       "[5 rows x 15524 columns]"
      ]
     },
     "execution_count": 10,
     "metadata": {},
     "output_type": "execute_result"
    }
   ],
   "source": [
    "data_raw = pd.read_pickle(\"data.pickle.gz\")\n",
    "data_raw.head()"
   ]
  },
  {
   "cell_type": "code",
   "execution_count": 12,
   "metadata": {},
   "outputs": [
    {
     "data": {
      "text/html": [
       "<div>\n",
       "<style scoped>\n",
       "    .dataframe tbody tr th:only-of-type {\n",
       "        vertical-align: middle;\n",
       "    }\n",
       "\n",
       "    .dataframe tbody tr th {\n",
       "        vertical-align: top;\n",
       "    }\n",
       "\n",
       "    .dataframe thead th {\n",
       "        text-align: right;\n",
       "    }\n",
       "</style>\n",
       "<table border=\"1\" class=\"dataframe\">\n",
       "  <thead>\n",
       "    <tr style=\"text-align: right;\">\n",
       "      <th></th>\n",
       "      <th>CLUSTER</th>\n",
       "      <th>SUB-CLUSTER</th>\n",
       "      <th>CELLTYPE</th>\n",
       "      <th>batch</th>\n",
       "      <th>sample</th>\n",
       "    </tr>\n",
       "  </thead>\n",
       "  <tbody>\n",
       "    <tr>\n",
       "      <th>Bipolar1_CTCCTAAACAAG</th>\n",
       "      <td>3.0</td>\n",
       "      <td>3</td>\n",
       "      <td>BC5A</td>\n",
       "      <td>1</td>\n",
       "      <td>Sample1</td>\n",
       "    </tr>\n",
       "    <tr>\n",
       "      <th>Bipolar1_CTCGAGAGGCGC</th>\n",
       "      <td>9.0</td>\n",
       "      <td>9</td>\n",
       "      <td>BC1B</td>\n",
       "      <td>1</td>\n",
       "      <td>Sample1</td>\n",
       "    </tr>\n",
       "    <tr>\n",
       "      <th>Bipolar1_AGCCTAAAGTAC</th>\n",
       "      <td>5.0</td>\n",
       "      <td>5</td>\n",
       "      <td>BC6</td>\n",
       "      <td>1</td>\n",
       "      <td>Sample1</td>\n",
       "    </tr>\n",
       "    <tr>\n",
       "      <th>Bipolar1_CGTGAAAATCAA</th>\n",
       "      <td>1.0</td>\n",
       "      <td>1</td>\n",
       "      <td>Rod BC</td>\n",
       "      <td>1</td>\n",
       "      <td>Sample1</td>\n",
       "    </tr>\n",
       "    <tr>\n",
       "      <th>Bipolar1_CAACGTTCCGTA</th>\n",
       "      <td>5.0</td>\n",
       "      <td>5</td>\n",
       "      <td>BC6</td>\n",
       "      <td>1</td>\n",
       "      <td>Sample1</td>\n",
       "    </tr>\n",
       "  </tbody>\n",
       "</table>\n",
       "</div>"
      ],
      "text/plain": [
       "                       CLUSTER SUB-CLUSTER CELLTYPE  batch   sample\n",
       "Bipolar1_CTCCTAAACAAG      3.0           3     BC5A      1  Sample1\n",
       "Bipolar1_CTCGAGAGGCGC      9.0           9     BC1B      1  Sample1\n",
       "Bipolar1_AGCCTAAAGTAC      5.0           5      BC6      1  Sample1\n",
       "Bipolar1_CGTGAAAATCAA      1.0           1   Rod BC      1  Sample1\n",
       "Bipolar1_CAACGTTCCGTA      5.0           5      BC6      1  Sample1"
      ]
     },
     "execution_count": 12,
     "metadata": {},
     "output_type": "execute_result"
    }
   ],
   "source": [
    "metadata = pd.read_pickle(\"metadata.pickle.gz\")\n",
    "metadata['batch'] = [int(index[7]) for index in metadata.index]\n",
    "metadata['sample'] = np.where(metadata['batch'] < 4, 'Sample1', 'Sample2')\n",
    "metadata.head()"
   ]
  },
  {
   "cell_type": "code",
   "execution_count": 14,
   "metadata": {},
   "outputs": [],
   "source": [
    "data = scprep.reduce.pca(data_raw, n_components=100, method='dense').to_numpy()\n",
    "data"
   ]
  },
  {
   "cell_type": "code",
   "execution_count": 15,
   "metadata": {},
   "outputs": [
    {
     "data": {
      "text/plain": [
       "<matplotlib.axes._subplots.AxesSubplot at 0x7f214bbefc70>"
      ]
     },
     "execution_count": 15,
     "metadata": {},
     "output_type": "execute_result"
    },
    {
     "data": {
      "image/png": "[encoded data removed]",
      "text/plain": [
       "<Figure size 432x288 with 1 Axes>"
      ]
     },
     "metadata": {},
     "output_type": "display_data"
    }
   ],
   "source": [
    "scprep.plot.scatter2d(data, c=metadata['sample'], ticks=False, label_prefix=\"PC\", legend_title=\"Batch\")"
   ]
  },
  {
   "cell_type": "code",
   "execution_count": 9,
   "metadata": {
    "colab": {},
    "colab_type": "code",
    "id": "ujIUq8Km9jNr"
   },
   "outputs": [],
   "source": [
    "# use the handy little loader class\n",
    "# in training: get random order\n",
    "# to evaluate: get same order, so we know which row is which\n",
    "loader_train = Loader(data, labels=metadata['sample'], shuffle=True)\n",
    "loader_eval = Loader(data, labels=metadata['sample'], shuffle=False)"
   ]
  },
  {
   "cell_type": "code",
   "execution_count": null,
   "metadata": {
    "colab": {},
    "colab_type": "code",
    "id": "WccaR6BW-mCX"
   },
   "outputs": [],
   "source": [
    "# visualize data\n",
    "# batches are separated in raw data\n",
    "\n",
    "tf.reset_default_graph()\n",
    "model = SAUCIE(loader_train.data[0].shape[1])\n",
    "model.train(loader_train, steps=1000)\n",
    "embedding, _ = model.get_embedding(loader_eval)\n",
    "\n",
    "scprep.plot.scatter2d(embedding, c=metadata['sample'], cmap='bwr', ticks=False, label_prefix=\"SAUCIE\")"
   ]
  },
  {
   "cell_type": "code",
   "execution_count": null,
   "metadata": {
    "colab": {},
    "colab_type": "code",
    "id": "S1ibzbuO-oCM"
   },
   "outputs": [],
   "source": [
    "# do saucie batch correction\n",
    "\n",
    "# compile the tf computations for saucie\n",
    "tf.reset_default_graph()\n",
    "model = SAUCIE(loader_train.data[0].shape[1], lambda_b=1)\n",
    "\n",
    "# train the data\n",
    "model.train(loader_train, steps=2000)\n",
    "\n",
    "# get the output\n",
    "data_reconstructed, _ = model.get_reconstruction(loader_eval)"
   ]
  },
  {
   "cell_type": "code",
   "execution_count": null,
   "metadata": {
    "colab": {},
    "colab_type": "code",
    "id": "Y0cE1-WU-qNF"
   },
   "outputs": [],
   "source": [
    "# visualize the data again\n",
    "# no more separation between batches\n",
    "\n",
    "# create loaders for batch-corrected data\n",
    "loader_train = Loader(data_reconstructed, labels=metadata['sample'], shuffle=True)\n",
    "loader_eval = Loader(data_reconstructed, labels=metadata['sample'], shuffle=False)\n",
    "\n",
    "# compile tf computations for saucie\n",
    "tf.reset_default_graph()\n",
    "model = SAUCIE(loader_train.data[0].shape[1])\n",
    "model.train(loader_train, steps=1000)\n",
    "embedding, _ = model.get_embedding(loader_eval)\n",
    "\n",
    "scprep.plot.scatter2d(embedding, \n",
    "                      c=metadata['sample'], cmap='bwr',\n",
    "                      ticks=False, label_prefix=\"SAUCIE\")"
   ]
  },
  {
   "cell_type": "code",
   "execution_count": null,
   "metadata": {
    "colab": {},
    "colab_type": "code",
    "id": "37FiZ8S4-sEy"
   },
   "outputs": [],
   "source": [
    "# now let's do the clustering\n",
    "\n",
    "# rescale the data for better clustering\n",
    "data_scaled = data / data.max() * 10\n",
    "loader_train = Loader(data_scaled, labels=metadata['sample'], shuffle=True)\n",
    "loader_eval = Loader(data_scaled, labels=metadata['sample'], shuffle=False)\n",
    "\n",
    "\n",
    "# compile the tf computations for the clustering model\n",
    "tf.reset_default_graph()\n",
    "model = SAUCIE(loader_train.data[0].shape[1], lambda_c=.1, lambda_d=.5)\n",
    "\n",
    "# train the clustering model\n",
    "model.train(loader_train, steps=5000)\n",
    "\n",
    "# get the clusters out\n",
    "_, clusters = model.get_clusters(loader_eval, binmin=10)\n",
    "embedding, _ = model.get_embedding(loader_eval)"
   ]
  },
  {
   "cell_type": "code",
   "execution_count": null,
   "metadata": {
    "colab": {},
    "colab_type": "code",
    "id": "0KgjhWL_-uFQ"
   },
   "outputs": [],
   "source": [
    "scprep.plot.scatter2d(embedding, c=clusters, ticks=False, label_prefix=\"SAUCIE\")"
   ]
  }
 ],
 "metadata": {
  "colab": {
   "collapsed_sections": [],
   "name": "saucie.ipynb",
   "provenance": []
  },
  "kernelspec": {
   "display_name": "Python 3",
   "language": "python",
   "name": "python3"
  },
  "language_info": {
   "codemirror_mode": {
    "name": "ipython",
    "version": 3
   },
   "file_extension": ".py",
   "mimetype": "text/x-python",
   "name": "python",
   "nbconvert_exporter": "python",
   "pygments_lexer": "ipython3",
   "version": "3.8.1"
  }
 },
 "nbformat": 4,
 "nbformat_minor": 1
}
