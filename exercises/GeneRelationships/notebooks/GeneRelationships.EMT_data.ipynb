{
 "cells": [
  {
   "cell_type": "code",
   "execution_count": 102,
   "metadata": {},
   "outputs": [
    {
     "name": "stdout",
     "output_type": "stream",
     "text": [
      "Requirement already satisfied: scprep in /home/dan/.local/lib/python3.7/site-packages (1.0.1a0)\n",
      "Requirement already satisfied: phate in /home/dan/.local/lib/python3.7/site-packages (0.4.4)\n",
      "Requirement already satisfied: magic-impute in /home/dan/.local/lib/python3.7/site-packages (1.5.6)\n",
      "Requirement already satisfied: matplotlib-venn in /home/dan/.local/lib/python3.7/site-packages (0.11.5)\n",
      "Requirement already satisfied: scikit-learn>=0.19.1 in /usr/lib/python3.7/site-packages (from scprep) (0.20.3)\n",
      "Requirement already satisfied: decorator>=4.3.0 in /usr/lib/python3.7/site-packages (from scprep) (4.4.0)\n",
      "Requirement already satisfied: scipy>=0.18.1 in /home/dan/.local/lib/python3.7/site-packages (from scprep) (1.3.1)\n",
      "Requirement already satisfied: pandas>=0.25 in /home/dan/.local/lib/python3.7/site-packages (from scprep) (0.25.1)\n",
      "Requirement already satisfied: numpy>=1.12.0 in /usr/lib/python3.7/site-packages (from scprep) (1.16.3)\n",
      "Requirement already satisfied: graphtools>=1.0.0 in /home/dan/.local/lib/python3.7/site-packages (from phate) (1.2.0a0)\n",
      "Requirement already satisfied: future in /home/dan/.local/lib/python3.7/site-packages (from phate) (0.16.0)\n",
      "Requirement already satisfied: tasklogger>=0.4.0 in /home/dan/.local/lib/python3.7/site-packages (from phate) (0.4.0)\n",
      "Requirement already satisfied: matplotlib in /usr/lib/python3.7/site-packages (from magic-impute) (3.0.3)\n",
      "Requirement already satisfied: python-dateutil>=2.6.1 in /usr/lib/python3.7/site-packages (from pandas>=0.25->scprep) (2.8.0)\n",
      "Requirement already satisfied: pytz>=2017.2 in /usr/lib/python3.7/site-packages (from pandas>=0.25->scprep) (2019.1)\n",
      "Requirement already satisfied: pygsp>=0.5.1 in /home/dan/.local/lib/python3.7/site-packages (from graphtools>=1.0.0->phate) (0.5.1)\n",
      "Requirement already satisfied: cycler>=0.10 in /usr/lib/python3.7/site-packages (from matplotlib->magic-impute) (0.10.0)\n",
      "Requirement already satisfied: kiwisolver>=1.0.1 in /usr/lib/python3.7/site-packages (from matplotlib->magic-impute) (1.1.0)\n",
      "Requirement already satisfied: pyparsing!=2.0.4,!=2.1.2,!=2.1.6,>=2.0.1 in /usr/lib/python3.7/site-packages (from matplotlib->magic-impute) (2.4.0)\n",
      "Requirement already satisfied: six>=1.5 in /usr/lib/python3.7/site-packages (from python-dateutil>=2.6.1->pandas>=0.25->scprep) (1.12.0)\n",
      "Requirement already satisfied: setuptools in /usr/lib/python3.7/site-packages (from kiwisolver>=1.0.1->matplotlib->magic-impute) (41.0.1)\n",
      "Note: you may need to restart the kernel to use updated packages.\n"
     ]
    }
   ],
   "source": [
    "pip install --user scprep phate magic-impute"
   ]
  },
  {
   "cell_type": "code",
   "execution_count": 29,
   "metadata": {},
   "outputs": [],
   "source": [
    "# %load /home/dan/.jupyter/firstcell.py\n",
    "%load_ext autoreload\n",
    "%autoreload 2\n",
    "\n",
    "import sys\n",
    "import os\n",
    "import time\n",
    "\n",
    "%matplotlib inline\n",
    "import matplotlib.pyplot as plt\n",
    "import matplotlib as mpl\n",
    "import seaborn as sns\n",
    "\n",
    "font = {'size'   : 12}\n",
    "mpl.rc('font', **font)\n",
    "\n",
    "import numpy as np\n",
    "import pandas as pd\n",
    "\n",
    "import scipy\n",
    "from scipy import stats\n",
    "\n",
    "import sklearn\n",
    "import sklearn.cluster\n",
    "import sklearn.datasets\n",
    "\n",
    "import phate\n",
    "import scprep\n",
    "import magic\n",
    "import meld\n",
    "import graphtools as gt"
   ]
  },
  {
   "cell_type": "markdown",
   "metadata": {},
   "source": [
    "## Identifying gene-regulatory relationships during EMT\n",
    "\n",
    "In this exercise, we will recreate some of the analysis from [van Dijk et al. (2018)](https://doi.org/10.1016/j.cell.2018.05.061). We will focus on the dataset collected from mammary epithelial cells (HMLE) induced with transforming growth factor β (TGF-β). TGF-β induces HMLE cells to undergo the epithelial-to-mesenchymal transition (EMT), which is an important transition during development and the progression of cancer. During EMT, cells downregulate epithelial markers (such as E-cadherin (CDH1) and epcam (EPCAM)) and upregulate mesenchymal markers (such as vimentin (VIM), fibronectin (FN1) and N-cadherin (CDH2). \n",
    "\n",
    "In this experiment, cells were induced with TGF-β for 8 days and then collected for scRNA-seq using inDrops. Because EMT is asynchronous, we observe cells at many stages of differentiation in this dataset. Instead of using a pseudotime tool, we will use VIM as a marker of the EMT progression. We will identify genes that are EMT-relevant as those with a strong association with VIM. From these, we will focus on predicting targets of the transcription factor ZEB1 based on 1) timing of expression and 2) statistical association with ZEB1.\n"
   ]
  },
  {
   "cell_type": "markdown",
   "metadata": {},
   "source": [
    "## Loading and visualizing the data"
   ]
  },
  {
   "cell_type": "markdown",
   "metadata": {},
   "source": [
    "#### Download data from Google Drive\n",
    "\n",
    "This data is already filtered and preprocessed so we can directly start examining gene trends."
   ]
  },
  {
   "cell_type": "code",
   "execution_count": 30,
   "metadata": {},
   "outputs": [],
   "source": [
    "home = os.path.expanduser('~')\n",
    "\n",
    "download_path = os.path.join(home, 'scRNAseq', 'Peer_2015_EMT_data.filtered.pkl.gz')\n",
    "if not os.path.exists(os.path.dirname(download_path)):\n",
    "    os.makedirs(os.path.dirname(download_path))\n",
    "\n",
    "    # Download the data \n",
    "if not os.path.exists(download_path):\n",
    "    scprep.io.download.download_google_drive('1FoH0acPMVrGjMvjlIe9R-oa-UdZG2Dmj',download_path)\n",
    "    \n",
    "data = pd.read_pickle(download_path)"
   ]
  },
  {
   "cell_type": "markdown",
   "metadata": {},
   "source": [
    "#### Generating a  PHATE plot"
   ]
  },
  {
   "cell_type": "code",
   "execution_count": 31,
   "metadata": {},
   "outputs": [
    {
     "name": "stdout",
     "output_type": "stream",
     "text": [
      "Calculating PHATE...\n",
      "  Running PHATE on 7279 cells and 14737 genes.\n",
      "  Calculating graph and diffusion operator...\n",
      "    Calculating PCA...\n",
      "    Calculated PCA in 3.33 seconds.\n",
      "    Calculating KNN search...\n",
      "    Calculated KNN search in 6.12 seconds.\n",
      "    Calculating affinities...\n",
      "    Calculated affinities in 0.08 seconds.\n",
      "  Calculated graph and diffusion operator in 9.87 seconds.\n",
      "  Calculating landmark operator...\n",
      "    Calculating SVD...\n",
      "    Calculated SVD in 0.92 seconds.\n",
      "    Calculating KMeans...\n",
      "    Calculated KMeans in 15.66 seconds.\n",
      "  Calculated landmark operator in 18.04 seconds.\n",
      "  Calculating optimal t...\n",
      "    Automatically selected t = 13\n",
      "  Calculated optimal t in 0.76 seconds.\n",
      "  Calculating diffusion potential...\n",
      "  Calculated diffusion potential in 0.25 seconds.\n",
      "  Calculating metric MDS...\n",
      "  Calculated metric MDS in 18.35 seconds.\n",
      "Calculated PHATE in 47.29 seconds.\n"
     ]
    }
   ],
   "source": [
    "phate_op = phate.PHATE()\n",
    "\n",
    "data_phate = phate_op.fit_transform(data)"
   ]
  },
  {
   "cell_type": "markdown",
   "metadata": {},
   "source": [
    "#### Running MAGIC"
   ]
  },
  {
   "cell_type": "code",
   "execution_count": 32,
   "metadata": {},
   "outputs": [
    {
     "name": "stdout",
     "output_type": "stream",
     "text": [
      "Calculating MAGIC...\n",
      "  Running MAGIC on 7279 cells and 14737 genes.\n",
      "  Calculating graph and diffusion operator...\n",
      "    Calculating PCA...\n",
      "    Calculated PCA in 3.06 seconds.\n",
      "    Calculating KNN search...\n",
      "    Calculated KNN search in 5.91 seconds.\n",
      "    Calculating affinities...\n",
      "    Calculated affinities in 9.77 seconds.\n",
      "  Calculated graph and diffusion operator in 19.50 seconds.\n",
      "  Calculating imputation...\n",
      "  Calculated imputation in 1.70 seconds.\n",
      "Calculated MAGIC in 23.95 seconds.\n"
     ]
    }
   ],
   "source": [
    "data_magic = magic.MAGIC(t=4).fit_transform(data)"
   ]
  },
  {
   "cell_type": "markdown",
   "metadata": {},
   "source": [
    "#### Plotting marker genes of EMT\n",
    "\n",
    "Here we'll focus on four markers of EMT. Try plotting expression both before and after MAGIC.\n",
    "\n",
    "**Discussion**: Which parts of the plot corresponds to the epithelial/intermediate/mesenchymal states?"
   ]
  },
  {
   "cell_type": "code",
   "execution_count": 33,
   "metadata": {},
   "outputs": [
    {
     "ename": "SyntaxError",
     "evalue": "invalid syntax (<ipython-input-33-dee39d6d8ec4>, line 6)",
     "output_type": "error",
     "traceback": [
      "\u001b[0;36m  File \u001b[0;32m\"<ipython-input-33-dee39d6d8ec4>\"\u001b[0;36m, line \u001b[0;32m6\u001b[0m\n\u001b[0;31m    curr_gene =\u001b[0m\n\u001b[0m               ^\u001b[0m\n\u001b[0;31mSyntaxError\u001b[0m\u001b[0;31m:\u001b[0m invalid syntax\n"
     ]
    }
   ],
   "source": [
    "fig, axes = plt.subplots(2,2,figsize=(8,8))\n",
    "\n",
    "genes = ['CDH1','EPCAM', 'VIM', 'CDH2']\n",
    "for i, ax in enumerate(axes.flatten()):\n",
    "    # Select the i'th gene from genes\n",
    "    curr_gene =\n",
    "    # Select the column of `data` for `curr_gene`\n",
    "    expression = \n",
    "    scprep.plot.scatter2d(data_phate, c=expression, title=curr_gene, ax=ax)"
   ]
  },
  {
   "cell_type": "markdown",
   "metadata": {},
   "source": [
    "### Creating DREMI/DREVI plots \n",
    "\n",
    "Here, we'll use `scprep.stats.knnDREMI` with `plot=True` to show the trend of several genes with VIM. This function will create four plots.\n",
    "\n",
    "**Input data** - This is a simple scatter plot of the input data  \n",
    "**kNN Density** - knnDREMI estimates density within each gridsquare based on the distance to the k-NearestNeighbor. The farther the neighbor, the lower the density. Yellow indicates high density, and black indicates low density.  \n",
    "**Joint Probability** - This is the density estimate traditionally used in estimating mutual information (MI). It is not resampled, and the sum of all color values in the whole plot equals 1. Notice how sparse areas of the data are almost entirely black.  \n",
    "**Conditional Probability** - This is the density-resampled joint probability. Here, the values in each column sum to 1. These are the values use to calculate DREMI.  \n",
    "\n",
    "Try plotting genes from the following list: `MYC`, `SNAI2`, `ZEB1`"
   ]
  },
  {
   "cell_type": "code",
   "execution_count": 34,
   "metadata": {},
   "outputs": [
    {
     "data": {
      "text/plain": [
       "1.040069025595713"
      ]
     },
     "execution_count": 34,
     "metadata": {},
     "output_type": "execute_result"
    },
    {
     "data": {
      "image/png": "[encoded data removed]",
      "text/plain": [
       "<Figure size 864x252 with 4 Axes>"
      ]
     },
     "metadata": {},
     "output_type": "display_data"
    }
   ],
   "source": [
    "gene_x = 'VIM'\n",
    "gene_y = 'MYC'\n",
    "\n",
    "scprep.stats.knnDREMI(data_magic[gene_x], data_magic[gene_y], \n",
    "                      xlabel=gene_x, ylabel=gene_y, plot=True)"
   ]
  },
  {
   "cell_type": "markdown",
   "metadata": {},
   "source": [
    "### Discussion\n",
    "\n",
    "1. What do you notice about the difference between the DREMI plot on the right and the joint probability? \n",
    "2. Which gene trends might have high DREMI values, but low correlation?"
   ]
  },
  {
   "cell_type": "markdown",
   "metadata": {},
   "source": [
    "# Identifying EMT-relevant genes using DREMI\n",
    "\n",
    "In this section, we will identify genes that likely play a role in EMT due to their strong association with VIM. We will take the top 67% of genes and then cluster them to identify genes with similar DREVI plots so that we can determine their peak expression. We will use these orderings to narrow putative ZEB1 targets to genes that have peak expression with or after ZEB1. "
   ]
  },
  {
   "cell_type": "markdown",
   "metadata": {},
   "source": [
    "### Calculating DREMI scores\n",
    "\n",
    "In this next code block, we use a tool called `joblib` to run DREMI across multiple threads and speed up the DREMI computation. The syntax for `joblib` is complicated, so we won't go into it. If you'd like to learn more about parallel processing and `joblib`, check out their excellent documentation: https://joblib.readthedocs.io/en/latest/parallel.html.\n",
    "\n",
    "**Note:** to save time, we precomputed DREMI for you. You can uncomment the following code block to run the code yourself. It takes around 15 minutes in colab."
   ]
  },
  {
   "cell_type": "code",
   "execution_count": 35,
   "metadata": {},
   "outputs": [],
   "source": [
    "# # This is basically a parallel for-loop\n",
    "# # Note we are getting both the DREMI scores and DREVI plots here so we need to unpack them\n",
    "# from joblib import Parallel, delayed\n",
    "# results = Parallel(n_jobs=4)(delayed(scprep.stats.knnDREMI)(data_magic['VIM'], data_magic[g], \n",
    "#                                      return_drevi=True, n_jobs=1) for g in data_magic.columns)\n",
    "# \n",
    "# # Unpacking the DREMI scores and DREVI images\n",
    "# vim_dremi_scores = np.array([r[0] for r in results])\n",
    "# vim_drevi_images = np.array([r[1].flatten() for r in results])"
   ]
  },
  {
   "cell_type": "markdown",
   "metadata": {},
   "source": [
    "#### Download precomputed DREMI results\n",
    "\n",
    "DREMI is not particularly fast, and CoLab instances are fairly slow, so we already computed some DREMI relationships between all genes and VIM and all genes and ZEB1. This takes around 15 minutes in CoLab."
   ]
  },
  {
   "cell_type": "code",
   "execution_count": 36,
   "metadata": {},
   "outputs": [],
   "source": [
    "download_path = os.path.join(home, 'scRNAseq', 'Peer_2015_DREMI_data.npz')\n",
    "if not os.path.exists(os.path.dirname(download_path)):\n",
    "    os.makedirs(os.path.dirname(download_path))\n",
    "\n",
    "    # Download the data \n",
    "if not os.path.exists(download_path):\n",
    "    scprep.io.download.download_google_drive('1M21Z05omo_X5QIhQ8D07Tom31eo5-Ol8',download_path)\n",
    "    \n",
    "d = np.load(download_path)\n",
    "vim_dremi_scores = d['vim_dremi_scores']\n",
    "vim_drevi_images = d['vim_drevi_images']\n",
    "zeb1_dremi_scores = d['zeb1_dremi_scores']"
   ]
  },
  {
   "cell_type": "markdown",
   "metadata": {},
   "source": [
    "### Setting the threshold for EMT-related genes\n",
    "\n",
    "If you have time later, try changing the percentile and see how that affects your predictions."
   ]
  },
  {
   "cell_type": "code",
   "execution_count": 37,
   "metadata": {},
   "outputs": [
    {
     "data": {
      "text/plain": [
       "<matplotlib.axes._subplots.AxesSubplot at 0x7fe9e8aa1748>"
      ]
     },
     "execution_count": 37,
     "metadata": {},
     "output_type": "execute_result"
    },
    {
     "data": {
      "image/png": "[encoded data removed]",
      "text/plain": [
       "<Figure size 432x288 with 1 Axes>"
      ]
     },
     "metadata": {
      "needs_background": "light"
     },
     "output_type": "display_data"
    }
   ],
   "source": [
    "emt_cutoff = np.percentile(vim_dremi_scores, q=33)\n",
    "scprep.plot.histogram(vim_dremi_scores, percentile=33, title='DREMI cutoff = {:.2f}'.format(emt_cutoff))"
   ]
  },
  {
   "cell_type": "markdown",
   "metadata": {},
   "source": [
    "#### Create a mask over the genes for those above our threshold"
   ]
  },
  {
   "cell_type": "code",
   "execution_count": 38,
   "metadata": {},
   "outputs": [],
   "source": [
    "emt_related_genes_mask = vim_dremi_scores > emt_cutoff"
   ]
  },
  {
   "cell_type": "markdown",
   "metadata": {},
   "source": [
    "### Plotting the DREVI plots for the genes with the highest and smallest DREMI scores\n",
    "\n",
    "Do these values look correct? Try selecting a gene in the middle of the distribution and examining that plot. "
   ]
  },
  {
   "cell_type": "code",
   "execution_count": 39,
   "metadata": {},
   "outputs": [
    {
     "data": {
      "image/png": "[encoded data removed]",
      "text/plain": [
       "<Figure size 576x288 with 2 Axes>"
      ]
     },
     "metadata": {},
     "output_type": "display_data"
    }
   ],
   "source": [
    "fig, axes = plt.subplots(1,2, figsize=(8,4))\n",
    "\n",
    "ixs = [0, -2]\n",
    "ordered_gene_indices = np.argsort(vim_dremi_scores)\n",
    "\n",
    "for i, ax in enumerate(axes):\n",
    "    curr_ix = ixs[i]\n",
    "    ax.imshow(vim_drevi_images[ordered_gene_indices[curr_ix]].reshape(20,20), origin='lower')\n",
    "    ax.set_xticks([]); ax.set_yticks([]);\n",
    "    ax.set_xlabel('VIM')\n",
    "    ax.set_ylabel(data.columns.values[curr_ix])"
   ]
  },
  {
   "cell_type": "markdown",
   "metadata": {},
   "source": [
    "#### Create a mask over the genes for those above our threshold"
   ]
  },
  {
   "cell_type": "code",
   "execution_count": 40,
   "metadata": {},
   "outputs": [],
   "source": [
    "emt_related_genes_mask = vim_dremi_scores > emt_cutoff"
   ]
  },
  {
   "cell_type": "markdown",
   "metadata": {},
   "source": [
    "### Clustering genes by average DREVI images\n",
    "\n",
    "To identify clusters of genes, we're going to use `AgglomerativeClustering`, a kind of hierarchical clustering method that iteratively joins the two points (or clusters) with the highest `affinity`. We are using `complete` linkage, which calculates the distance between two clusters that are being considered for merging using the two elements within each cluster with the largest distance between them. This process is repeated until `n_clusters` has been identified. Because van Dijk et al. (2018) identified 22 clusters, we're going to start with that.\n",
    "\n",
    "You might be wondering, how do you cluster images? The answer is that we first flatten them, so we take the data from $\\mathbb{R}^{20,20}$ and collapse them into $\\mathbb{R}^{400}$. This loses some information about the grid-nature of the data, but it makes clustering much more straightforward. This is what Google probably does if they want to identify similar images for your Google Images search."
   ]
  },
  {
   "cell_type": "markdown",
   "metadata": {},
   "source": [
    "#### Running `AgglomerativeClustering`\n",
    "\n",
    "This make take around a minute to complete."
   ]
  },
  {
   "cell_type": "code",
   "execution_count": 41,
   "metadata": {},
   "outputs": [],
   "source": [
    "agg_op = sklearn.cluster.AgglomerativeClustering(n_clusters=22, affinity='correlation', linkage='complete')\n",
    "clusters = agg_op.fit_predict(vim_drevi_images[emt_related_genes_mask])"
   ]
  },
  {
   "cell_type": "markdown",
   "metadata": {},
   "source": [
    "### Computing the \"average\" DREVI plot\n",
    "\n",
    "Within each cluster, we are going to compute the \"average\" or mean DREVI plot. You may be most familiar with the arithmetic mean, but there are a number of other ways to calculate the mean. Here, we will use the geometric mean, which is defined as follows:\n",
    "\n",
    "$$\\sqrt[\\leftroot{0}\\uproot{2}\\LARGE{n}]{\\prod_{i=0}^{i=n}X_i}$$\n",
    "\n",
    "You may notice the similarity between this an the arithmetic mean. Instead of adding the values and dividing by the number of observations, we are multiplying the values and taking the $n$th-root. This has the result of being less sensitive to extreme values in the data than the arithmetic mean. For a good explanation on the geometric mean, read Jasper McChesney's [\"You should summarize data with the geometric mean\"](https://medium.com/@JLMC/understanding-three-simple-statistics-for-data-visualizations-2619dbb3677a)."
   ]
  },
  {
   "cell_type": "markdown",
   "metadata": {},
   "source": [
    "#### Calculating geometric mean DREVI plot for each cluster"
   ]
  },
  {
   "cell_type": "code",
   "execution_count": 42,
   "metadata": {},
   "outputs": [],
   "source": [
    "mean_drevi = {}\n",
    "for cl in np.unique(clusters):\n",
    "    # Select images for the current cluster\n",
    "    curr_images = vim_drevi_images[emt_related_genes_mask][clusters == cl]\n",
    "    \n",
    "    # Calculate the geometric mean\n",
    "    mean_drevi[cl] = scipy.stats.gmean(curr_images, axis=0)"
   ]
  },
  {
   "cell_type": "markdown",
   "metadata": {},
   "source": [
    "#### Plot the average DREVI plot\n",
    "\n",
    "Let's look at the average DREVI plot per cluster."
   ]
  },
  {
   "cell_type": "code",
   "execution_count": 43,
   "metadata": {},
   "outputs": [
    {
     "data": {
      "image/png": "[encoded data removed]",
      "text/plain": [
       "<Figure size 864x1296 with 24 Axes>"
      ]
     },
     "metadata": {
      "needs_background": "light"
     },
     "output_type": "display_data"
    }
   ],
   "source": [
    "fig, axes = plt.subplots(6,4, figsize=(4*3,6*3))\n",
    "\n",
    "for curr_cluster, ax in enumerate(axes.flatten()):\n",
    "    if curr_cluster >= 22:\n",
    "        ax.axis('off')\n",
    "        continue\n",
    "    curr_drevi = mean_drevi[curr_cluster].reshape(20,20)\n",
    "    \n",
    "    curr_n = np.sum(clusters == curr_cluster)\n",
    "    ax.imshow(curr_drevi, origin='lower', cmap='inferno')\n",
    "    ax.set_xticks([]); ax.set_yticks([])\n",
    "    ax.set_title('Cluster {} - ({})'.format(curr_cluster, curr_n))\n",
    "    \n",
    "fig.tight_layout()"
   ]
  },
  {
   "cell_type": "markdown",
   "metadata": {},
   "source": [
    "### Ordering clusters by peak expression\n",
    "\n",
    "Note that the clusters here are in no particular order. To order them by peak expression, we're going to take a simple approach. In each column, we will take the gridsquare with the highest intensity as the \"average\" expression for that gene cluster. With that in hand, we only need to identify the column with the peak expression based on the y-axis."
   ]
  },
  {
   "cell_type": "markdown",
   "metadata": {},
   "source": [
    "#### Plotting the \"average\" expression for one cluster"
   ]
  },
  {
   "cell_type": "code",
   "execution_count": 44,
   "metadata": {},
   "outputs": [
    {
     "data": {
      "image/png": "[encoded data removed]",
      "text/plain": [
       "<Figure size 360x360 with 1 Axes>"
      ]
     },
     "metadata": {},
     "output_type": "display_data"
    }
   ],
   "source": [
    "fig, ax = plt.subplots(1, figsize=(5,5))\n",
    "\n",
    "# Pick your favorite cluster\n",
    "curr_cluster = 19\n",
    "curr_drevi = mean_drevi[curr_cluster].reshape(20,20)\n",
    "\n",
    "# Plot DREVI\n",
    "curr_n = np.sum(clusters == curr_cluster)\n",
    "ax.imshow(curr_drevi, origin='lower', cmap='inferno')\n",
    "ax.set_xticks([]); ax.set_yticks([])\n",
    "ax.set_title('Cluster {} - ({})'.format(curr_cluster, curr_n))\n",
    "\n",
    "# Plot the \"average expression\" and ID the peak\n",
    "x = np.arange(20)\n",
    "y = np.argmax(curr_drevi, axis=0)\n",
    "x_peak = np.argmax(y)\n",
    "y_peak = np.max(y)\n",
    "ax.plot(x,y, c='r', linewidth=5)\n",
    "ax.scatter(x_peak, y_peak, edgecolor='k', color='lightgrey', s=100, zorder=10)\n",
    "ax.set_xlim(0,19)\n",
    "\n",
    "fig.tight_layout()"
   ]
  },
  {
   "cell_type": "markdown",
   "metadata": {},
   "source": [
    "#### Calculate peaks for all clusters"
   ]
  },
  {
   "cell_type": "code",
   "execution_count": 45,
   "metadata": {},
   "outputs": [],
   "source": [
    "peaks = {}\n",
    "\n",
    "for curr_cluster in np.unique(clusters):\n",
    "\n",
    "    curr_drevi = mean_drevi[curr_cluster].reshape(20,20)\n",
    "       \n",
    "    x = np.arange(20)\n",
    "    y = np.argmax(curr_drevi, axis=0)\n",
    "    x_peak = np.argmax(y)\n",
    "    y_peak = np.max(y)\n",
    "\n",
    "    peaks[curr_cluster] = x_peak"
   ]
  },
  {
   "cell_type": "markdown",
   "metadata": {},
   "source": [
    "#### Reorder the cluster labels so that cluster `0` has the earliest peak and cluster `22` has the latest"
   ]
  },
  {
   "cell_type": "code",
   "execution_count": 46,
   "metadata": {},
   "outputs": [],
   "source": [
    "clusters = scprep.utils.sort_clusters_by_values(clusters, np.array([peaks[cl] for cl in clusters]))"
   ]
  },
  {
   "cell_type": "markdown",
   "metadata": {},
   "source": [
    "#### Recalculate `mean_drevi` and `peaks`"
   ]
  },
  {
   "cell_type": "code",
   "execution_count": 47,
   "metadata": {},
   "outputs": [],
   "source": [
    "mean_drevi = {}\n",
    "for cl in np.unique(clusters):\n",
    "    curr_images = vim_drevi_images[emt_related_genes_mask][clusters == cl]\n",
    "    mean_drevi[cl] = scipy.stats.gmean(curr_images, axis=0)"
   ]
  },
  {
   "cell_type": "code",
   "execution_count": 48,
   "metadata": {},
   "outputs": [],
   "source": [
    "peaks = {}\n",
    "\n",
    "for curr_cluster in np.unique(clusters):\n",
    "\n",
    "    curr_drevi = mean_drevi[curr_cluster].reshape(20,20)\n",
    "       \n",
    "    x = np.arange(20)\n",
    "    y = np.argmax(curr_drevi, axis=0)\n",
    "    x_peak = np.argmax(y)\n",
    "    y_peak = np.max(y)\n",
    "\n",
    "    peaks[curr_cluster] = x_peak"
   ]
  },
  {
   "cell_type": "markdown",
   "metadata": {},
   "source": [
    "#### Plot new cluster labels ordered by peak expression"
   ]
  },
  {
   "cell_type": "code",
   "execution_count": 49,
   "metadata": {},
   "outputs": [
    {
     "data": {
      "image/png": "[encoded data removed]",
      "text/plain": [
       "<Figure size 576x864 with 24 Axes>"
      ]
     },
     "metadata": {
      "needs_background": "light"
     },
     "output_type": "display_data"
    }
   ],
   "source": [
    "fig, axes = plt.subplots(6,4, figsize=(4*2,6*2))\n",
    "\n",
    "for curr_cluster, ax in enumerate(axes.flatten()):\n",
    "    if curr_cluster >= 22:\n",
    "        ax.axis('off')\n",
    "        continue\n",
    "    curr_drevi = mean_drevi[curr_cluster].reshape(20,20)\n",
    "    \n",
    "    curr_n = np.sum(clusters == curr_cluster)\n",
    "    ax.imshow(curr_drevi, origin='lower', cmap='inferno')\n",
    "    ax.set_xticks([]); ax.set_yticks([])\n",
    "    ax.set_title('Cluster {} - ({})'.format(curr_cluster, curr_n))\n",
    "    \n",
    "    x = np.arange(20)\n",
    "    y = np.argmax(curr_drevi, axis=0)\n",
    "    x_peak = np.argmax(y)\n",
    "    y_peak = np.max(y)\n",
    "    ax.plot(x,y, c='r', linewidth=5)\n",
    "    ax.scatter(x_peak, y_peak, edgecolor='k', color='lightgrey', s=100, zorder=10)\n",
    "    ax.set_xlim(0,19)\n",
    "fig.tight_layout()"
   ]
  },
  {
   "cell_type": "markdown",
   "metadata": {},
   "source": [
    "## Transcription factor target prediction\n",
    "\n",
    "Now that we have the order of expression for each gene cluster in the dataset, we can start to predict transcription factor targets. \n",
    "\n",
    "We're going to focus on ZEB1, a transcription factor and key regulator of EMT with poorly characterized regulatory targets."
   ]
  },
  {
   "cell_type": "markdown",
   "metadata": {},
   "source": [
    "### Identifying genes with association with ZEB1\n",
    "\n",
    "Here, we'll rank each gene by its statistical association with ZEB1 just as we did with VIM above. Note this will take a couple minutes."
   ]
  },
  {
   "cell_type": "markdown",
   "metadata": {},
   "source": [
    "**Note:** to save time, we precomputed DREMI for you. You can uncomment the following code block to run the code yourself. It takes around 15 minutes in colab."
   ]
  },
  {
   "cell_type": "code",
   "execution_count": 50,
   "metadata": {},
   "outputs": [],
   "source": [
    "# zeb1_dremi_scores = Parallel(n_jobs=28)(delayed(scprep.stats.knnDREMI)(data_magic['ZEB1'], data_magic[g], n_jobs=1) for g in data_magic.columns)\n",
    "# zeb1_dremi_scores = np.array(zeb1_dremi_scores)"
   ]
  },
  {
   "cell_type": "markdown",
   "metadata": {},
   "source": [
    "#### Selecting genes with strongest association\n",
    "\n",
    "Here, we're going to be much more selective than with our selection of EMT-related genes. We will start with a cutoff at the 98th-percentile."
   ]
  },
  {
   "cell_type": "code",
   "execution_count": 51,
   "metadata": {},
   "outputs": [
    {
     "data": {
      "text/plain": [
       "Text(0.5, 1.0, 'DREMI scores with ZEB1')"
      ]
     },
     "execution_count": 51,
     "metadata": {},
     "output_type": "execute_result"
    },
    {
     "data": {
      "image/png": "[encoded data removed]",
      "text/plain": [
       "<Figure size 432x288 with 1 Axes>"
      ]
     },
     "metadata": {
      "needs_background": "light"
     },
     "output_type": "display_data"
    }
   ],
   "source": [
    "fig, ax = plt.subplots(1)\n",
    "\n",
    "zeb1_dremi_cutoff = np.percentile(zeb1_dremi_scores, 95)\n",
    "\n",
    "ax.hist(zeb1_dremi_scores, bins=100)\n",
    "ax.axvline(zeb1_dremi_cutoff, color='k')\n",
    "ax.text(zeb1_dremi_cutoff + 0.2, 400, 'Cutoff = {:.2f}'.format(zeb1_dremi_cutoff))\n",
    "ax.set_title('DREMI scores with ZEB1')"
   ]
  },
  {
   "cell_type": "markdown",
   "metadata": {},
   "source": [
    "#### Creating the ZEB1 dremi mask"
   ]
  },
  {
   "cell_type": "code",
   "execution_count": 52,
   "metadata": {},
   "outputs": [],
   "source": [
    "zeb1_dremi_mask = zeb1_dremi_scores[emt_related_genes_mask] > zeb1_dremi_cutoff"
   ]
  },
  {
   "cell_type": "markdown",
   "metadata": {},
   "source": [
    "#### Selecting genes that are expressed with or after ZEB1\n",
    "\n",
    "Here, we'll identify when ZEB1 peaks based on it's cluster, and get all clusters that peak at the same time or later."
   ]
  },
  {
   "cell_type": "code",
   "execution_count": 53,
   "metadata": {},
   "outputs": [],
   "source": [
    "emt_gene_names = data.columns.values[emt_related_genes_mask]"
   ]
  },
  {
   "cell_type": "code",
   "execution_count": 54,
   "metadata": {},
   "outputs": [],
   "source": [
    "# Get zeb1 cluster\n",
    "zeb_ix = np.where(emt_gene_names == 'ZEB1')[0][0]\n",
    "zeb_cluster = clusters[zeb_ix]\n",
    "\n",
    "# Get the timing of the zeb1 peak\n",
    "curr_drevi = mean_drevi[zeb_cluster].reshape(20,20)\n",
    "y = np.argmax(curr_drevi, axis=0)\n",
    "zeb1_peak = np.argmax(y)\n",
    "\n",
    "# Create a mask identify genes in clusters that peak with or after ZEB1\n",
    "timing_mask = np.array([peaks[cl] >= zeb1_peak for cl in clusters])"
   ]
  },
  {
   "cell_type": "markdown",
   "metadata": {},
   "source": [
    "#### Combining DREMI and timing to get putative genes"
   ]
  },
  {
   "cell_type": "code",
   "execution_count": 55,
   "metadata": {},
   "outputs": [],
   "source": [
    "putative_target_mask = timing_mask & zeb1_dremi_mask"
   ]
  },
  {
   "cell_type": "markdown",
   "metadata": {},
   "source": [
    "#### Selecting gene names"
   ]
  },
  {
   "cell_type": "code",
   "execution_count": 56,
   "metadata": {},
   "outputs": [],
   "source": [
    "putative_target_genes = emt_gene_names[putative_target_mask]\n",
    "putative_target_genes_no_time = emt_gene_names[zeb1_dremi_mask]"
   ]
  },
  {
   "cell_type": "markdown",
   "metadata": {},
   "source": [
    "**Discussion**: In pairs, design an experiment that you might perform to validate these targets."
   ]
  },
  {
   "cell_type": "markdown",
   "metadata": {},
   "source": [
    "## Comparing expression of putative targets after ZEB1 induction\n",
    "\n",
    "van Dijk et al. 2018 performed an experiment to test the ZEB1 targets based on Dox-induction of ZEB1. The idea was that TGF-β leads to ZEB1 upregulation, but also turns on a whole host of other genes. By specifically inducing ZEB1 in the same cell line, we can determine which genes are upregulated specifically based on ZEB1 overexpression.\n",
    "\n",
    "This dataset is already filtered and preprocessed, so we can work with it directly. We will calculate the fold change for each gene in the TGF-β sample and the ZEB1-induced sample and examine the distribution of fold-changes for 1) all genes 2) putative ZEB1 targets and 3) all genes with high DREMI with ZEB1, but not restricted to peak expression with or after ZEB1."
   ]
  },
  {
   "cell_type": "markdown",
   "metadata": {},
   "source": [
    "### Downloading the ZEB1 induced scRNA-seq data"
   ]
  },
  {
   "cell_type": "code",
   "execution_count": 57,
   "metadata": {},
   "outputs": [],
   "source": [
    "home = os.path.expanduser('~')\n",
    "\n",
    "download_path = os.path.join(home, 'scRNAseq', 'Peer_2015_ZEB1_induction.processed.pkl.gz')\n",
    "if not os.path.exists(os.path.dirname(download_path)):\n",
    "    os.makedirs(os.path.dirname(download_path))\n",
    "\n",
    "    # Download the data \n",
    "if not os.path.exists(download_path):\n",
    "    scprep.io.download.download_google_drive('14K2pqQNH0VpLKhv2vPjhUkQtnBoMhNhy',download_path)\n",
    "    \n",
    "data_dox = pd.read_pickle(download_path)"
   ]
  },
  {
   "cell_type": "markdown",
   "metadata": {},
   "source": [
    "### Running PHATE"
   ]
  },
  {
   "cell_type": "code",
   "execution_count": 58,
   "metadata": {},
   "outputs": [
    {
     "name": "stdout",
     "output_type": "stream",
     "text": [
      "Calculating PHATE...\n",
      "  Running PHATE on 3442 cells and 14723 genes.\n",
      "  Calculating graph and diffusion operator...\n",
      "    Calculating PCA...\n",
      "    Calculated PCA in 1.64 seconds.\n",
      "    Calculating KNN search...\n",
      "    Calculated KNN search in 1.44 seconds.\n",
      "    Calculating affinities...\n",
      "    Calculated affinities in 0.04 seconds.\n",
      "  Calculated graph and diffusion operator in 3.29 seconds.\n",
      "  Calculating landmark operator...\n",
      "    Calculating SVD...\n",
      "    Calculated SVD in 0.44 seconds.\n",
      "    Calculating KMeans...\n",
      "    Calculated KMeans in 18.78 seconds.\n",
      "  Calculated landmark operator in 20.50 seconds.\n",
      "  Calculating optimal t...\n",
      "    Automatically selected t = 12\n",
      "  Calculated optimal t in 0.77 seconds.\n",
      "  Calculating diffusion potential...\n",
      "  Calculated diffusion potential in 0.23 seconds.\n",
      "  Calculating metric MDS...\n",
      "  Calculated metric MDS in 20.20 seconds.\n",
      "Calculated PHATE in 45.01 seconds.\n"
     ]
    }
   ],
   "source": [
    "data_dox_phate = phate.PHATE().fit_transform(data_dox)"
   ]
  },
  {
   "cell_type": "markdown",
   "metadata": {},
   "source": [
    "#### Running MAGIC"
   ]
  },
  {
   "cell_type": "code",
   "execution_count": 59,
   "metadata": {},
   "outputs": [
    {
     "name": "stdout",
     "output_type": "stream",
     "text": [
      "Calculating MAGIC...\n",
      "  Running MAGIC on 3442 cells and 14723 genes.\n",
      "  Calculating graph and diffusion operator...\n",
      "    Calculating PCA...\n",
      "    Calculated PCA in 1.65 seconds.\n",
      "    Calculating KNN search...\n",
      "    Calculated KNN search in 1.50 seconds.\n",
      "    Calculating affinities...\n",
      "    Calculated affinities in 2.19 seconds.\n",
      "  Calculated graph and diffusion operator in 5.68 seconds.\n",
      "  Calculating imputation...\n",
      "  Calculated imputation in 0.63 seconds.\n",
      "Calculated MAGIC in 7.59 seconds.\n"
     ]
    }
   ],
   "source": [
    "data_dox_magic = magic.MAGIC(t=4).fit_transform(data_dox)"
   ]
  },
  {
   "cell_type": "markdown",
   "metadata": {},
   "source": [
    "#### Plotting expression of EMT markers\n",
    "\n",
    "You will need to fill in your code from above to make this cell work"
   ]
  },
  {
   "cell_type": "code",
   "execution_count": 90,
   "metadata": {},
   "outputs": [
    {
     "ename": "SyntaxError",
     "evalue": "invalid syntax (<ipython-input-90-34ef6a9cdfa3>, line 6)",
     "output_type": "error",
     "traceback": [
      "\u001b[0;36m  File \u001b[0;32m\"<ipython-input-90-34ef6a9cdfa3>\"\u001b[0;36m, line \u001b[0;32m6\u001b[0m\n\u001b[0;31m    curr_gene =\u001b[0m\n\u001b[0m                ^\u001b[0m\n\u001b[0;31mSyntaxError\u001b[0m\u001b[0;31m:\u001b[0m invalid syntax\n"
     ]
    }
   ],
   "source": [
    "fig, axes = plt.subplots(2,2,figsize=(8,8))\n",
    "\n",
    "genes = ['CDH1','EPCAM', 'VIM', 'CDH2']\n",
    "for i, ax in enumerate(axes.flatten()):\n",
    "    # ========\n",
    "    # Select the i'th gene from genes\n",
    "    curr_gene = \n",
    "    # Select the column of `data` for `curr_gene`\n",
    "    expression = \n",
    "    # ========\n",
    "    scprep.plot.scatter2d(data_dox_phate, c=expression, \n",
    "                          title=curr_gene, ticks=None,\n",
    "                          ax=ax)\n",
    "    \n",
    "fig.tight_layout()"
   ]
  },
  {
   "cell_type": "markdown",
   "metadata": {},
   "source": [
    "### Discussion\n",
    "\n",
    "Compare this PHATE plot to the previous dataset. Do you think they are comparable? Why or why not?"
   ]
  },
  {
   "cell_type": "markdown",
   "metadata": {},
   "source": [
    "### Calculating fold-changes"
   ]
  },
  {
   "cell_type": "code",
   "execution_count": 63,
   "metadata": {},
   "outputs": [],
   "source": [
    "tgfb_mean = data[data_dox_magic.columns].mean(axis=0)\n",
    "zeb1_mean = data_dox.mean(axis=0)\n",
    "fc_expression = ( zeb1_mean - tgfb_mean) / tgfb_mean\n",
    "log2_fc = np.log2(np.abs(fc_expression) + 1) * np.sign(fc_expression)"
   ]
  },
  {
   "cell_type": "markdown",
   "metadata": {},
   "source": [
    "#### Look at the genes with largest fold-change"
   ]
  },
  {
   "cell_type": "code",
   "execution_count": 66,
   "metadata": {},
   "outputs": [
    {
     "data": {
      "text/plain": [
       "LSP1        4.390842\n",
       "ZEB1        3.903673\n",
       "RHOBTB3     3.398104\n",
       "CPNE7       2.786966\n",
       "GJC2        2.785862\n",
       "              ...   \n",
       "DPP4       -0.841539\n",
       "CADPS2     -0.889529\n",
       "TMEM204    -0.909799\n",
       "ADAMTS12   -0.917237\n",
       "MYADM      -0.934764\n",
       "Length: 351, dtype: float64"
      ]
     },
     "execution_count": 66,
     "metadata": {},
     "output_type": "execute_result"
    }
   ],
   "source": [
    "log2_fc[putative_target_genes].sort_values(ascending=False)"
   ]
  },
  {
   "cell_type": "markdown",
   "metadata": {},
   "source": [
    "### Plotting the distribution of fold-change per group\n",
    "\n",
    "Here, we're using `sns.kdeplot` to create a [kernel-density estimate](https://en.wikipedia.org/wiki/Kernel_density_estimation) (KDE) of the fold-changes in each group. This is similar to a normalized histogram, and the area under the KDE plot sums to 1. This makes it more similar to a continuous probability density function. \n",
    "\n",
    "It also looks nicer than a histogram.\n",
    "\n",
    "To see all the options for `kdeplot`, read the documentation: https://seaborn.pydata.org/generated/seaborn.kdeplot.html"
   ]
  },
  {
   "cell_type": "code",
   "execution_count": 81,
   "metadata": {},
   "outputs": [
    {
     "data": {
      "text/plain": [
       "Text(0, 0.5, 'Density')"
      ]
     },
     "execution_count": 81,
     "metadata": {},
     "output_type": "execute_result"
    },
    {
     "data": {
      "image/png": "[encoded data removed]",
      "text/plain": [
       "<Figure size 360x288 with 1 Axes>"
      ]
     },
     "metadata": {
      "needs_background": "light"
     },
     "output_type": "display_data"
    }
   ],
   "source": [
    "fig, ax = plt.subplots(1, figsize=(5,4))\n",
    "\n",
    "# Plot all non-target genes\n",
    "mask = ~np.isin(log2_fc.index, putative_target_genes)\n",
    "sns.kdeplot(log2_fc[mask], ax=ax, label='Non-target genes - ({})'.format(np.sum(mask)))\n",
    "\n",
    "# Plot the putative target genes \n",
    "mask = np.isin(log2_fc.index, putative_target_genes)\n",
    "sns.kdeplot(log2_fc[mask], ax=ax, label='Putative targets - ({})'.format(np.sum(mask)))\n",
    "\n",
    "# Plot the genes with the highest DREMI scores (not filtered for timing)\n",
    "mask = np.isin(log2_fc.index, putative_target_genes_no_time)\n",
    "sns.kdeplot(log2_fc[mask], ax=ax, label='DREMI w/o time - ({})'.format(np.sum(mask)))\n",
    "ax.set_xlabel('Log2(FC)')\n",
    "ax.set_ylabel('Density')"
   ]
  },
  {
   "cell_type": "markdown",
   "metadata": {},
   "source": [
    "### Discussion\n",
    "\n",
    "Why do you think that we don't observe stronger upregulation of putative target genes? Can you think of another experiment or style of analysis that might enrich for ZEB1 targets? Could we consider subclasses of cells to improve analysis?"
   ]
  },
  {
   "cell_type": "markdown",
   "metadata": {},
   "source": [
    "## Plotting the interesction between ATAC validated hits and the putative targets"
   ]
  },
  {
   "cell_type": "markdown",
   "metadata": {},
   "source": [
    "### About the experiment\n",
    "\n",
    "From van Dijk et al. (2018)\n",
    "\n",
    "> To systematically validate our target predictions, we used ATAC-seq (assay for transposase-accessible chromatin using sequencing) (Buenrostro et al., 2013) as an independent and well-accepted approach for target prediction (Kundaje et al., 2015). ATAC-seq was carried out on HMLE cells 8 days following TGF-β stimulation. Cells were FACS-sorted by CD44+ to enrich for the mesenchymal population. We used the ATAC-seq peaks combined with motif analysis to derive a set of targets for each TF using standard approaches (see STAR Methods). Note, we do not expect the two approaches to perfectly align: our predictions identify both direct and indirect targets of a TF, whereas ATAC-seq only captures direct targets. ATAC-seq identifies binding of TFs that are activating, poised, or inhibiting, whereas our predictions only focus on TF activation. Nevertheless, if our predictions are accurate, we expect a significant overlap between the two sets.\n",
    "\n",
    "Here, we're just downloading the list of validated targets that we'll use to:\n",
    "1. Determine the overlap between ATAC-seq predicted targets and the DREMI targets\n",
    "2. Examine the change in expression of the ATAC-seq targets in the ZEB1 dox experiment\n",
    "3. Perform gene set enrichment analysis\n",
    "\n",
    "If you want to learn more about how these targets were predicted, navigate to the \"ATAC-seq Validation of TF-target Predictions\" section of the MAGIC paper (https://doi.org/10.1016/j.cell.2018.05.061)."
   ]
  },
  {
   "cell_type": "markdown",
   "metadata": {},
   "source": [
    "###  Downloading validated ATAC-seq targets"
   ]
  },
  {
   "cell_type": "code",
   "execution_count": 68,
   "metadata": {},
   "outputs": [],
   "source": [
    "home = os.path.expanduser('~')\n",
    "\n",
    "download_path = os.path.join(home, 'scRNAseq', 'Peer_2015_ATAC_validated_targets.pkl.gz')\n",
    "if not os.path.exists(os.path.dirname(download_path)):\n",
    "    os.makedirs(os.path.dirname(download_path))\n",
    "\n",
    "    # Download the data \n",
    "if not os.path.exists(download_path):\n",
    "    scprep.io.download.download_google_drive('1SUU_rLlKNTrWc7KV0t2txCBeIO-DpwLn',download_path)\n",
    "    \n",
    "atac_hits = pd.read_pickle(download_path)"
   ]
  },
  {
   "cell_type": "markdown",
   "metadata": {},
   "source": [
    "#### How to navigate this DataFrame\n",
    "\n",
    "In `atac_hits`, rows are transcription factors and columns are targets. The presence of a `1` in the DataFrame indicates that the TF is predicted to bind the target. A `0` indicates the lack potential binding."
   ]
  },
  {
   "cell_type": "code",
   "execution_count": 69,
   "metadata": {},
   "outputs": [
    {
     "data": {
      "text/html": [
       "<div>\n",
       "<style scoped>\n",
       "    .dataframe tbody tr th:only-of-type {\n",
       "        vertical-align: middle;\n",
       "    }\n",
       "\n",
       "    .dataframe tbody tr th {\n",
       "        vertical-align: top;\n",
       "    }\n",
       "\n",
       "    .dataframe thead th {\n",
       "        text-align: right;\n",
       "    }\n",
       "</style>\n",
       "<table border=\"1\" class=\"dataframe\">\n",
       "  <thead>\n",
       "    <tr style=\"text-align: right;\">\n",
       "      <th></th>\n",
       "      <th>A1BG-AS1</th>\n",
       "      <th>A2ML1</th>\n",
       "      <th>A4GALT</th>\n",
       "      <th>AAAS</th>\n",
       "      <th>AACS</th>\n",
       "      <th>AADAT</th>\n",
       "      <th>AAED1</th>\n",
       "      <th>AAGAB</th>\n",
       "      <th>AAK1</th>\n",
       "      <th>AAMDC</th>\n",
       "      <th>...</th>\n",
       "      <th>ZW10</th>\n",
       "      <th>ZWILCH</th>\n",
       "      <th>ZWINT</th>\n",
       "      <th>ZXDA</th>\n",
       "      <th>ZXDB</th>\n",
       "      <th>ZYG11A</th>\n",
       "      <th>ZYX</th>\n",
       "      <th>ZZZ3</th>\n",
       "      <th>chr22-38_28785274-29006793.1</th>\n",
       "      <th>uc_33</th>\n",
       "    </tr>\n",
       "  </thead>\n",
       "  <tbody>\n",
       "    <tr>\n",
       "      <td>AHR</td>\n",
       "      <td>0</td>\n",
       "      <td>0</td>\n",
       "      <td>0</td>\n",
       "      <td>0</td>\n",
       "      <td>0</td>\n",
       "      <td>0</td>\n",
       "      <td>0</td>\n",
       "      <td>0</td>\n",
       "      <td>0</td>\n",
       "      <td>0</td>\n",
       "      <td>...</td>\n",
       "      <td>0</td>\n",
       "      <td>0</td>\n",
       "      <td>0</td>\n",
       "      <td>0</td>\n",
       "      <td>0</td>\n",
       "      <td>0</td>\n",
       "      <td>1</td>\n",
       "      <td>0</td>\n",
       "      <td>0</td>\n",
       "      <td>0</td>\n",
       "    </tr>\n",
       "    <tr>\n",
       "      <td>ARID3A</td>\n",
       "      <td>0</td>\n",
       "      <td>0</td>\n",
       "      <td>0</td>\n",
       "      <td>0</td>\n",
       "      <td>0</td>\n",
       "      <td>0</td>\n",
       "      <td>0</td>\n",
       "      <td>0</td>\n",
       "      <td>0</td>\n",
       "      <td>0</td>\n",
       "      <td>...</td>\n",
       "      <td>0</td>\n",
       "      <td>0</td>\n",
       "      <td>0</td>\n",
       "      <td>0</td>\n",
       "      <td>0</td>\n",
       "      <td>0</td>\n",
       "      <td>0</td>\n",
       "      <td>0</td>\n",
       "      <td>0</td>\n",
       "      <td>0</td>\n",
       "    </tr>\n",
       "    <tr>\n",
       "      <td>ARID5B</td>\n",
       "      <td>0</td>\n",
       "      <td>0</td>\n",
       "      <td>0</td>\n",
       "      <td>0</td>\n",
       "      <td>0</td>\n",
       "      <td>0</td>\n",
       "      <td>0</td>\n",
       "      <td>0</td>\n",
       "      <td>0</td>\n",
       "      <td>0</td>\n",
       "      <td>...</td>\n",
       "      <td>0</td>\n",
       "      <td>0</td>\n",
       "      <td>0</td>\n",
       "      <td>0</td>\n",
       "      <td>1</td>\n",
       "      <td>0</td>\n",
       "      <td>1</td>\n",
       "      <td>0</td>\n",
       "      <td>0</td>\n",
       "      <td>0</td>\n",
       "    </tr>\n",
       "    <tr>\n",
       "      <td>ARNT</td>\n",
       "      <td>0</td>\n",
       "      <td>0</td>\n",
       "      <td>0</td>\n",
       "      <td>0</td>\n",
       "      <td>0</td>\n",
       "      <td>0</td>\n",
       "      <td>0</td>\n",
       "      <td>0</td>\n",
       "      <td>0</td>\n",
       "      <td>0</td>\n",
       "      <td>...</td>\n",
       "      <td>0</td>\n",
       "      <td>0</td>\n",
       "      <td>0</td>\n",
       "      <td>0</td>\n",
       "      <td>0</td>\n",
       "      <td>0</td>\n",
       "      <td>1</td>\n",
       "      <td>0</td>\n",
       "      <td>0</td>\n",
       "      <td>0</td>\n",
       "    </tr>\n",
       "    <tr>\n",
       "      <td>ARNTL</td>\n",
       "      <td>0</td>\n",
       "      <td>0</td>\n",
       "      <td>0</td>\n",
       "      <td>0</td>\n",
       "      <td>0</td>\n",
       "      <td>0</td>\n",
       "      <td>0</td>\n",
       "      <td>0</td>\n",
       "      <td>0</td>\n",
       "      <td>0</td>\n",
       "      <td>...</td>\n",
       "      <td>0</td>\n",
       "      <td>0</td>\n",
       "      <td>0</td>\n",
       "      <td>0</td>\n",
       "      <td>1</td>\n",
       "      <td>0</td>\n",
       "      <td>1</td>\n",
       "      <td>0</td>\n",
       "      <td>0</td>\n",
       "      <td>0</td>\n",
       "    </tr>\n",
       "  </tbody>\n",
       "</table>\n",
       "<p>5 rows × 11252 columns</p>\n",
       "</div>"
      ],
      "text/plain": [
       "        A1BG-AS1  A2ML1  A4GALT  AAAS  AACS  AADAT  AAED1  AAGAB  AAK1  AAMDC  \\\n",
       "AHR            0      0       0     0     0      0      0      0     0      0   \n",
       "ARID3A         0      0       0     0     0      0      0      0     0      0   \n",
       "ARID5B         0      0       0     0     0      0      0      0     0      0   \n",
       "ARNT           0      0       0     0     0      0      0      0     0      0   \n",
       "ARNTL          0      0       0     0     0      0      0      0     0      0   \n",
       "\n",
       "        ...  ZW10  ZWILCH  ZWINT  ZXDA  ZXDB  ZYG11A  ZYX  ZZZ3  \\\n",
       "AHR     ...     0       0      0     0     0       0    1     0   \n",
       "ARID3A  ...     0       0      0     0     0       0    0     0   \n",
       "ARID5B  ...     0       0      0     0     1       0    1     0   \n",
       "ARNT    ...     0       0      0     0     0       0    1     0   \n",
       "ARNTL   ...     0       0      0     0     1       0    1     0   \n",
       "\n",
       "        chr22-38_28785274-29006793.1  uc_33  \n",
       "AHR                                0      0  \n",
       "ARID3A                             0      0  \n",
       "ARID5B                             0      0  \n",
       "ARNT                               0      0  \n",
       "ARNTL                              0      0  \n",
       "\n",
       "[5 rows x 11252 columns]"
      ]
     },
     "execution_count": 69,
     "metadata": {},
     "output_type": "execute_result"
    }
   ],
   "source": [
    "atac_hits.head()"
   ]
  },
  {
   "cell_type": "code",
   "execution_count": 70,
   "metadata": {},
   "outputs": [],
   "source": [
    "# This gets the whole row\n",
    "validated_hits = atac_hits.loc['ZEB1']\n",
    "# Here we get the gene names for the non-zero targets\n",
    "validated_hits = validated_hits[validated_hits == 1].index.values"
   ]
  },
  {
   "cell_type": "code",
   "execution_count": 71,
   "metadata": {},
   "outputs": [
    {
     "data": {
      "text/plain": [
       "array(['AARS', 'ABCC13', 'ABCC3', ..., 'ZSWIM6', 'ZXDB', 'ZYX'],\n",
       "      dtype=object)"
      ]
     },
     "execution_count": 71,
     "metadata": {},
     "output_type": "execute_result"
    }
   ],
   "source": [
    "validated_hits"
   ]
  },
  {
   "cell_type": "markdown",
   "metadata": {},
   "source": [
    "#### Get the number of genes overlapping in `validated_hits` and `putative_target_genes`\n",
    "\n",
    "Here, you will need to use `np.intersect1d` to get the intersection of each array. For reference: https://docs.scipy.org/doc/numpy/reference/generated/numpy.intersect1d.html"
   ]
  },
  {
   "cell_type": "code",
   "execution_count": 72,
   "metadata": {},
   "outputs": [
    {
     "ename": "SyntaxError",
     "evalue": "invalid syntax (<ipython-input-72-f05c27fb4797>, line 3)",
     "output_type": "error",
     "traceback": [
      "\u001b[0;36m  File \u001b[0;32m\"<ipython-input-72-f05c27fb4797>\"\u001b[0;36m, line \u001b[0;32m3\u001b[0m\n\u001b[0;31m    size_dremi_targets =\u001b[0m\n\u001b[0m                         ^\u001b[0m\n\u001b[0;31mSyntaxError\u001b[0m\u001b[0;31m:\u001b[0m invalid syntax\n"
     ]
    }
   ],
   "source": [
    "# ======\n",
    "# Write code to get the size of each array and the intersection\n",
    "size_dremi_targets = \n",
    "size_atac_targets  = \n",
    "size_intersection  = \n",
    "\n",
    "print('Of {} DREMI targets and {} ATAC-validated targets, {} genes overlap.'.format(size_dremi_targets, \n",
    "                                                                   size_atac_targets, size_intersection))\n",
    "# ======"
   ]
  },
  {
   "cell_type": "markdown",
   "metadata": {},
   "source": [
    "#### Plotting the fold-change in expression of the ATAC-validated hits\n",
    "\n",
    "Copy the code from [the previous KDE plot](#Plotting-the-distribution-of-fold-change-per-group), and add a line to plot the ATAC-seq validated hits"
   ]
  },
  {
   "cell_type": "code",
   "execution_count": 75,
   "metadata": {},
   "outputs": [
    {
     "data": {
      "text/plain": [
       "Text(0.5, 0, 'Log2(FC)')"
      ]
     },
     "execution_count": 75,
     "metadata": {},
     "output_type": "execute_result"
    },
    {
     "data": {
      "image/png": "[encoded data removed]",
      "text/plain": [
       "<Figure size 432x288 with 1 Axes>"
      ]
     },
     "metadata": {
      "needs_background": "light"
     },
     "output_type": "display_data"
    }
   ],
   "source": [
    "# ======\n",
    "# Copy\n",
    "ax = sns.kdeplot(log2_fc[~np.isin(log2_fc.index, putative_target_genes)], label='Non-target genes')\n",
    "sns.kdeplot(log2_fc[putative_target_genes], ax=ax, label='Putative targets')\n",
    "sns.kdeplot(log2_fc[putative_target_genes_no_time], label='DREMI w/o time', ax=ax)\n",
    "sns.kdeplot(log2_fc[np.isin(log2_fc.index, validated_hits)], label='All ATAC validated hits', ax=ax)\n",
    "ax.set_xlabel('Log2(FC)')\n",
    "# ======"
   ]
  },
  {
   "cell_type": "markdown",
   "metadata": {},
   "source": [
    "### Discussion\n",
    "\n",
    "What do you notice about the distribution of expression values for the ATAC-validated targets?\n",
    "How does this influence your interpreation of the ZEB1 induction experiment?"
   ]
  },
  {
   "cell_type": "markdown",
   "metadata": {},
   "source": [
    "## Gene set enrichment analysis\n",
    "\n",
    "As before, we will use EnrichR to perform gene set enrichment analysis. For this section we are going to take each gene list, and determine which gene sets are enriched and how strongly.\n",
    "\n",
    "Each pair should:\n",
    "\n",
    "1. Get a list of GO Biological Process sets that are enriched in the  \n",
    "    A. DREMI-predicted targets  \n",
    "    B. ATAC targets  \n",
    "    C. Intersection of DREMI and ATAC-seq targets  \n",
    "2. Of the shared enriched terms, compare the Combined Scores\n",
    "3. Which gene set has the highest enrichment for gene sets that appear relevant to EMT?\n",
    "\n",
    "You may use either the EnrichR website (https://amp.pharm.mssm.edu/Enrichr/) or the `gseapy` python module. If you wish to use gseapy, consult the previous notebook for code."
   ]
  },
  {
   "cell_type": "code",
   "execution_count": 118,
   "metadata": {},
   "outputs": [
    {
     "name": "stdout",
     "output_type": "stream",
     "text": [
      "ABHD2\n",
      "ABL1\n",
      "ABLIM3\n",
      "AC002454.1\n",
      "AC016549.1\n",
      "AC068137.13\n",
      "AC133965.1\n",
      "ACAA2\n",
      "ACOT2\n",
      "ACOX3\n",
      "ADAM12\n",
      "ADAMTS12\n",
      "ADAMTS6\n",
      "AEBP1\n",
      "AF131215.9\n",
      "AHDC1\n",
      "AKT3\n",
      "ALCAM\n",
      "AMIGO2\n",
      "ANKLE1\n",
      "ANKRD28\n",
      "ANPEP\n",
      "ANTXR1\n",
      "AOX1\n",
      "APBB2\n",
      "APPBP2\n",
      "APPL2\n",
      "ARAP3\n",
      "ARL10\n",
      "ARL17B\n",
      "ARL3\n",
      "ARL4A\n",
      "ARNTL\n",
      "ARRDC2\n",
      "ASTE1\n",
      "ATP2B1\n",
      "ATP5G2\n",
      "ATP8B2\n",
      "ATP8B3\n",
      "BBS10\n",
      "BCAT1\n",
      "BIN1\n",
      "BIRC3\n",
      "BLOC1S5\n",
      "BRD3\n",
      "BRPF3\n",
      "C12orf76\n",
      "C5orf15\n",
      "C5orf22\n",
      "C5orf24\n",
      "CADPS2\n",
      "CAMK1\n",
      "CAPRIN2\n",
      "CCDC80\n",
      "CDC42EP3\n",
      "CDH2\n",
      "CDH4\n",
      "CDK15\n",
      "CEP112\n",
      "CEP170\n",
      "CHID1\n",
      "CHN1\n",
      "CHST14\n",
      "CHST7\n",
      "CHSY1\n",
      "CLK4\n",
      "CNTNAP1\n",
      "COL13A1\n",
      "COL4A1\n",
      "COL4A2\n",
      "CPED1\n",
      "CPNE7\n",
      "CREB3L2\n",
      "CRIM1\n",
      "CSF1\n",
      "CTB-152G17.6\n",
      "CTC-459F4.3\n",
      "CTC-487M23.6\n",
      "CTD-2231E14.2\n",
      "CTD-2530N21.5\n",
      "CXCL3\n",
      "CXCL5\n",
      "CYR61\n",
      "CYTH3\n",
      "DCBLD1\n",
      "DCDC2\n",
      "DDAH1\n",
      "DENND3\n",
      "DENND5A\n",
      "DENND5B\n",
      "DKK1\n",
      "DLC1\n",
      "DNAJC28\n",
      "DNM1\n",
      "DOCK1\n",
      "DOCK10\n",
      "DPP4\n",
      "DPYD\n",
      "DSEL\n",
      "DUSP1\n",
      "DUSP23\n",
      "EID1\n",
      "ENG\n",
      "EPS8\n",
      "ERBB2IP\n",
      "ERRFI1\n",
      "EVA1B\n",
      "F10-AS1\n",
      "FABP4\n",
      "FADS1\n",
      "FAM114A2\n",
      "FAT4\n",
      "FBXO34\n",
      "FERMT2\n",
      "FGF1\n",
      "FGFR1\n",
      "FHL3\n",
      "FKBP7\n",
      "FOXC2\n",
      "FRG1B\n",
      "FRMD6\n",
      "FTO-IT1\n",
      "FZD1\n",
      "GALK1\n",
      "GALNT1\n",
      "GALNT10\n",
      "GJC2\n",
      "GLYATL2\n",
      "GNG4\n",
      "GPR17\n",
      "GPR176\n",
      "GPSM3\n",
      "GPX8\n",
      "GS1-309P15.4\n",
      "GTF2IRD2\n",
      "GXYLT2\n",
      "HAS2\n",
      "HDGFRP3\n",
      "HEG1\n",
      "HERC3\n",
      "HHIP-AS1\n",
      "HIF1A\n",
      "HINFP\n",
      "HIPK2\n",
      "HIVEP3\n",
      "HNRNPA1L2\n",
      "HOXB6\n",
      "HOXB9\n",
      "HRCT1\n",
      "HRH1\n",
      "HTR1D\n",
      "IGFBP4\n",
      "IL7R\n",
      "INSC\n",
      "IRS2\n",
      "ITGA10\n",
      "ITPRIP\n",
      "JAM3\n",
      "KANK2\n",
      "KCNMA1\n",
      "KDELR2\n",
      "KIAA1147\n",
      "KIF1B\n",
      "KIF9-AS1\n",
      "KIRREL\n",
      "KLF2\n",
      "KLHL9\n",
      "LATS2\n",
      "LEF1\n",
      "LIMS1\n",
      "LINC00152\n",
      "LINC00936\n",
      "LINC01205\n",
      "LINC01578\n",
      "LIX1L\n",
      "LMBR1\n",
      "LMCD1\n",
      "LOXL1-AS1\n",
      "LOXL2\n",
      "LSP1\n",
      "MAP1LC3A\n",
      "MED13L\n",
      "METTL20\n",
      "MEX3B\n",
      "MIAT\n",
      "MICAL2\n",
      "MIR181A1HG\n",
      "MIR4435-1HG\n",
      "MLLT3\n",
      "MME\n",
      "MOXD1\n",
      "MPDZ\n",
      "MSANTD4\n",
      "MSC\n",
      "MSRB3\n",
      "MT1X\n",
      "MYADM\n",
      "MYO7B\n",
      "NACAP2\n",
      "NADK2\n",
      "NEDD9\n",
      "NEGR1\n",
      "NEXN\n",
      "NFE2L2\n",
      "NNMT\n",
      "NOTCH2\n",
      "NPHP3\n",
      "NREP\n",
      "NRP1\n",
      "NUDT17\n",
      "NXPH4\n",
      "OXTR\n",
      "P4HA1\n",
      "PAM\n",
      "PAPSS2\n",
      "PCDH19\n",
      "PCNXL4\n",
      "PCOLCE2\n",
      "PDGFC\n",
      "PDLIM7\n",
      "PGM5P2\n",
      "PHKG2\n",
      "PHOSPHO2\n",
      "PHTF1\n",
      "PIK3CD-AS2\n",
      "PIK3R1\n",
      "PIP4K2A\n",
      "PKD1\n",
      "PLAT\n",
      "PLCB4\n",
      "PLEKHO1\n",
      "PLOD2\n",
      "PLXNA2\n",
      "PMP22\n",
      "PODXL\n",
      "PPM1M\n",
      "PPP1R9B\n",
      "PPP2R3A\n",
      "PPP4R1L\n",
      "PRH1\n",
      "PRKCA\n",
      "PRKCE\n",
      "PRR16\n",
      "PRRG3\n",
      "PSAT1\n",
      "PSMB8\n",
      "PTGER2\n",
      "PTGER4\n",
      "PTX3\n",
      "PVRL3\n",
      "PXK\n",
      "PYGO1\n",
      "RAB33B\n",
      "RAD51-AS1\n",
      "RBMS3\n",
      "RBPJ\n",
      "REP15\n",
      "REPIN1\n",
      "RFPL1S\n",
      "RHOA\n",
      "RHOBTB3\n",
      "RNF115\n",
      "RNU6-1016P\n",
      "RNU6-301P\n",
      "ROR1\n",
      "RP11-154H23.3\n",
      "RP11-181E10.3\n",
      "RP11-226M10.3\n",
      "RP11-229O3.1\n",
      "RP11-247C2.2\n",
      "RP11-249C24.12\n",
      "RP11-253M7.1\n",
      "RP11-296P7.4\n",
      "RP11-2B6.2\n",
      "RP11-380J14.1\n",
      "RP11-405L18.4\n",
      "RP11-480C16.1\n",
      "RP11-620J15.3\n",
      "RP11-708J19.1\n",
      "RP11-950C14.3\n",
      "RP3-428L16.2\n",
      "RP5-1198O20.4\n",
      "RPL21P75\n",
      "RUNX3\n",
      "S1PR3\n",
      "SAMD11\n",
      "SCAND2P\n",
      "SDC3\n",
      "SEC23A\n",
      "SEP15\n",
      "SEPT11\n",
      "SERPINE1\n",
      "SERPINF1\n",
      "SERPINH1\n",
      "SHISA9\n",
      "SLC26A2\n",
      "SLC35E4\n",
      "SLC46A3\n",
      "SLC7A2\n",
      "SNORD63\n",
      "SNX13\n",
      "SNX25\n",
      "SOCS2-AS1\n",
      "SOCS5\n",
      "SPARC\n",
      "SPTBN1\n",
      "ST7L\n",
      "STC1\n",
      "STXBP5-AS1\n",
      "SUSD4\n",
      "SV2A\n",
      "SYDE1\n",
      "SYT12\n",
      "TCF4\n",
      "TCP11L1\n",
      "THY1\n",
      "TMEM128\n",
      "TMEM136\n",
      "TMEM164\n",
      "TMEM165\n",
      "TMEM169\n",
      "TMEM204\n",
      "TMEM231\n",
      "TMSB4XP4\n",
      "TMTC1\n",
      "TPBG\n",
      "TRAF3IP2-AS1\n",
      "TRHDE\n",
      "TTC28\n",
      "TTC7B\n",
      "TWIST1\n",
      "UCHL1\n",
      "UNC5C\n",
      "VLDLR\n",
      "WLS\n",
      "XXYLT1\n",
      "XXbac-BPG283O16.9\n",
      "ZCCHC7\n",
      "ZDHHC2\n",
      "ZEB1\n",
      "ZEB1-AS1\n",
      "ZFHX3\n",
      "ZFP36L1\n",
      "ZKSCAN5\n",
      "ZNF2\n",
      "ZNF536\n",
      "ZNF608\n",
      "ZNF675\n",
      "ZNF699\n",
      "ZNF771\n",
      "ZSCAN5A\n"
     ]
    }
   ],
   "source": [
    "for gene in putative_target_genes:\n",
    "    print(gene)"
   ]
  }
 ],
 "metadata": {
  "kernelspec": {
   "display_name": "Python 3",
   "language": "python",
   "name": "python3"
  },
  "language_info": {
   "codemirror_mode": {
    "name": "ipython",
    "version": 3
   },
   "file_extension": ".py",
   "mimetype": "text/x-python",
   "name": "python",
   "nbconvert_exporter": "python",
   "pygments_lexer": "ipython3",
   "version": "3.7.3"
  }
 },
 "nbformat": 4,
 "nbformat_minor": 2
}
