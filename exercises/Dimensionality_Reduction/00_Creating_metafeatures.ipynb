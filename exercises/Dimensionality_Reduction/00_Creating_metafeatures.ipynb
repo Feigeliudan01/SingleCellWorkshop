{
 "cells": [
  {
   "cell_type": "markdown",
   "metadata": {},
   "source": [
    "# Creating metafeatures\n",
    "\n",
    "## Goals\n",
    "\n",
    "* Explore the visualization of UCI wine dataset through combinations of features\n",
    "* Identify a combination of features which separates cultivars"
   ]
  },
  {
   "cell_type": "code",
   "execution_count": null,
   "metadata": {},
   "outputs": [],
   "source": [
    "!pip install --user scprep"
   ]
  },
  {
   "cell_type": "markdown",
   "metadata": {},
   "source": [
    "## 1. Loading [the UCI wine dataset](https://scikit-learn.org/stable/modules/generated/sklearn.datasets.load_wine.html)\n",
    "\n",
    "You've done this before."
   ]
  },
  {
   "cell_type": "code",
   "execution_count": null,
   "metadata": {},
   "outputs": [],
   "source": [
    "import scprep\n",
    "import numpy as np\n",
    "import pandas as pd\n",
    "%matplotlib inline\n",
    "from sklearn import datasets, preprocessing"
   ]
  },
  {
   "cell_type": "markdown",
   "metadata": {},
   "source": [
    "#### Load data\n",
    "\n",
    "We'll load the data into a `pandas` DataFrame as we did last time."
   ]
  },
  {
   "cell_type": "code",
   "execution_count": null,
   "metadata": {},
   "outputs": [],
   "source": [
    "wine = datasets.load_wine()\n",
    "\n",
    "# Access the numerical data from the wine Bunch\n",
    "data = wine['data']\n",
    "\n",
    "# Load data about the rows and columns\n",
    "feature_names = wine['feature_names']\n",
    "\n",
    "# Load cultivar information about each wine\n",
    "cultivars = np.array(['Cultivar{}'.format(cl) for cl in wine['target']])\n",
    "\n",
    "# Create nice names for each row\n",
    "wine_names = np.array(['Wine{}'.format(i) for i in range(data.shape[0])])\n",
    "\n",
    "# Gather all of this information into a DataFrame\n",
    "data = pd.DataFrame(data, columns=feature_names, index=wine_names)\n",
    "\n",
    "# Print the first 5 rows of the data, eq. to data[:5]\n",
    "data.head()"
   ]
  },
  {
   "cell_type": "markdown",
   "metadata": {},
   "source": [
    "## 2. Visualizing data in 2D\n",
    "\n",
    "Next, you'll pick a cultivar and try to find features that separate that cultivar from the others. First, just try plotting two variables."
   ]
  },
  {
   "cell_type": "markdown",
   "metadata": {},
   "source": [
    "#### Select a cultivar"
   ]
  },
  {
   "cell_type": "code",
   "execution_count": null,
   "metadata": {},
   "outputs": [],
   "source": [
    "my_cultivar = \"Cultivar0\" # alternative: \"Cultivar1\", \"Cultivar2\""
   ]
  },
  {
   "cell_type": "markdown",
   "metadata": {},
   "source": [
    "#### Plot two variables"
   ]
  },
  {
   "cell_type": "code",
   "execution_count": null,
   "metadata": {},
   "outputs": [],
   "source": [
    "scprep.plot.scatter(x=data['color_intensity'], y=data['hue'],\n",
    "                    c=cultivars == my_cultivar, legend_title=my_cultivar)"
   ]
  },
  {
   "cell_type": "markdown",
   "metadata": {},
   "source": [
    "Play around with the choices of variables and see what works best to separate your cultivar from the others. You can choose from any of `data.columns`."
   ]
  },
  {
   "cell_type": "code",
   "execution_count": null,
   "metadata": {},
   "outputs": [],
   "source": [
    "print(data.columns)"
   ]
  },
  {
   "cell_type": "markdown",
   "metadata": {},
   "source": [
    "### Exercise 1 - find two variables that best separate your chosen cultivar from the others"
   ]
  },
  {
   "cell_type": "code",
   "execution_count": null,
   "metadata": {},
   "outputs": [],
   "source": [
    "# ================\n",
    "# Fill in the x and y arguments to scprep.plot.scatter\n",
    "scprep.plot.scatter(x=\n",
    "                    y=\n",
    "                    c=cultivars == my_cultivar, legend_title=my_cultivar)\n",
    "# ================"
   ]
  },
  {
   "cell_type": "markdown",
   "metadata": {},
   "source": [
    "## 3. Creating metafeatures"
   ]
  },
  {
   "cell_type": "markdown",
   "metadata": {},
   "source": [
    "You'll notice that it was very difficult to get good separation of cultivars using just two variables. We can do better by combining multiple variables, as shown below."
   ]
  },
  {
   "cell_type": "code",
   "execution_count": null,
   "metadata": {},
   "outputs": [],
   "source": [
    "scprep.plot.scatter(x=data['color_intensity'] + 2 * data['malic_acid'], \n",
    "                    y=3 * data['hue'] + data['flavanoids'],\n",
    "                    c=cultivars == my_cultivar, legend_title=my_cultivar)"
   ]
  },
  {
   "cell_type": "markdown",
   "metadata": {},
   "source": [
    "#### Comparing feature magnitudes"
   ]
  },
  {
   "cell_type": "markdown",
   "metadata": {},
   "source": [
    "When summing variables together, we need to think about the relative ranges. If we look at the scales of the features in the wine dataset, we will see they vary drastically in size."
   ]
  },
  {
   "cell_type": "code",
   "execution_count": null,
   "metadata": {},
   "outputs": [],
   "source": [
    "# compute the mean and standard deviation of each feature\n",
    "data.aggregate([np.mean, np.std]).round(2)"
   ]
  },
  {
   "cell_type": "markdown",
   "metadata": {},
   "source": [
    "#### Scaling data\n",
    "\n",
    "For simplicity, we will first scale (or z-score) each feature to have the same mean and variance; this will allow you to sum them without having to worry about which has higher absolute values (for example, if we summed `'ash'` (on the order of 1-2) and `'proline'` (on the order of 500-1000) together, the ash values would have little to no effect on the sum."
   ]
  },
  {
   "cell_type": "code",
   "execution_count": null,
   "metadata": {},
   "outputs": [],
   "source": [
    "# use the sklearn StandardScaler to scale to mean 0, variance 1\n",
    "data_scaled = preprocessing.StandardScaler().fit_transform(data)\n",
    "\n",
    "# turn the result back into a pandas DataFrame\n",
    "data_scaled = pd.DataFrame(data_scaled, index=data.index, columns=data.columns)\n",
    "\n",
    "# compute the mean and standard deviation of each feature\n",
    "data_scaled.aggregate([np.mean, np.std]).round(2)"
   ]
  },
  {
   "cell_type": "markdown",
   "metadata": {},
   "source": [
    "Much better. Now we can sum features together without worrying about magnitude."
   ]
  },
  {
   "cell_type": "code",
   "execution_count": null,
   "metadata": {},
   "outputs": [],
   "source": [
    "scprep.plot.scatter(x=data_scaled['color_intensity'] + data_scaled['malic_acid'], \n",
    "                    y=data_scaled['hue'] + data_scaled['flavanoids'],\n",
    "                    c=cultivars == my_cultivar, legend_title=my_cultivar)"
   ]
  },
  {
   "cell_type": "markdown",
   "metadata": {},
   "source": [
    "Now it's your turn. Can you find a combination of features that cleanly separates your chosen cultivar from the others?"
   ]
  },
  {
   "cell_type": "markdown",
   "metadata": {},
   "source": [
    "### Exercise 2  - find two combinations of variables that best separate your chosen cultivar from the others"
   ]
  },
  {
   "cell_type": "code",
   "execution_count": null,
   "metadata": {},
   "outputs": [],
   "source": [
    "# ================\n",
    "# Fill in the x and y arguments to scprep.plot.scatter\n",
    "x = data_scaled[???] + data_scaled[???] + ...\n",
    "y = data_scaled[???] + data_scaled[???] + ...\n",
    "# ================\n",
    "scprep.plot.scatter(x=x, y=y,\n",
    "                    c=cultivars == my_cultivar, legend_title=my_cultivar)"
   ]
  }
 ],
 "metadata": {
  "kernelspec": {
   "display_name": "Python 3",
   "language": "python",
   "name": "python3"
  },
  "language_info": {
   "codemirror_mode": {
    "name": "ipython",
    "version": 3
   },
   "file_extension": ".py",
   "mimetype": "text/x-python",
   "name": "python",
   "nbconvert_exporter": "python",
   "pygments_lexer": "ipython3",
   "version": "3.7.3"
  }
 },
 "nbformat": 4,
 "nbformat_minor": 2
}
