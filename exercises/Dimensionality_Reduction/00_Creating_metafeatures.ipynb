{
 "cells": [
  {
   "cell_type": "markdown",
   "metadata": {},
   "source": [
    "# Creating metafeatures\n",
    "\n",
    "## Goals\n",
    "\n",
    "* Explore the visualization of UCI wine dataset through combinations of features\n",
    "* Identify a combination of features which separates cultivars"
   ]
  },
  {
   "cell_type": "code",
   "execution_count": null,
   "metadata": {},
   "outputs": [],
   "source": [
    "!pip install --user scprep"
   ]
  },
  {
   "cell_type": "markdown",
   "metadata": {},
   "source": [
    "## 1. Loading [the UCI wine dataset](https://scikit-learn.org/stable/modules/generated/sklearn.datasets.load_wine.html)\n",
    "\n",
    "You've done this before."
   ]
  },
  {
   "cell_type": "code",
   "execution_count": 15,
   "metadata": {},
   "outputs": [],
   "source": [
    "import scprep\n",
    "import numpy as np\n",
    "import pandas as pd\n",
    "%matplotlib inline\n",
    "from sklearn import datasets, preprocessing"
   ]
  },
  {
   "cell_type": "markdown",
   "metadata": {},
   "source": [
    "#### Load data\n",
    "\n",
    "We'll load the data into a `pandas` DataFrame as we did last time."
   ]
  },
  {
   "cell_type": "code",
   "execution_count": 4,
   "metadata": {},
   "outputs": [
    {
     "data": {
      "text/html": [
       "<div>\n",
       "<style scoped>\n",
       "    .dataframe tbody tr th:only-of-type {\n",
       "        vertical-align: middle;\n",
       "    }\n",
       "\n",
       "    .dataframe tbody tr th {\n",
       "        vertical-align: top;\n",
       "    }\n",
       "\n",
       "    .dataframe thead th {\n",
       "        text-align: right;\n",
       "    }\n",
       "</style>\n",
       "<table border=\"1\" class=\"dataframe\">\n",
       "  <thead>\n",
       "    <tr style=\"text-align: right;\">\n",
       "      <th></th>\n",
       "      <th>alcohol</th>\n",
       "      <th>malic_acid</th>\n",
       "      <th>ash</th>\n",
       "      <th>alcalinity_of_ash</th>\n",
       "      <th>magnesium</th>\n",
       "      <th>total_phenols</th>\n",
       "      <th>flavanoids</th>\n",
       "      <th>nonflavanoid_phenols</th>\n",
       "      <th>proanthocyanins</th>\n",
       "      <th>color_intensity</th>\n",
       "      <th>hue</th>\n",
       "      <th>od280/od315_of_diluted_wines</th>\n",
       "      <th>proline</th>\n",
       "    </tr>\n",
       "  </thead>\n",
       "  <tbody>\n",
       "    <tr>\n",
       "      <td>Wine0</td>\n",
       "      <td>14.23</td>\n",
       "      <td>1.71</td>\n",
       "      <td>2.43</td>\n",
       "      <td>15.6</td>\n",
       "      <td>127.0</td>\n",
       "      <td>2.80</td>\n",
       "      <td>3.06</td>\n",
       "      <td>0.28</td>\n",
       "      <td>2.29</td>\n",
       "      <td>5.64</td>\n",
       "      <td>1.04</td>\n",
       "      <td>3.92</td>\n",
       "      <td>1065.0</td>\n",
       "    </tr>\n",
       "    <tr>\n",
       "      <td>Wine1</td>\n",
       "      <td>13.20</td>\n",
       "      <td>1.78</td>\n",
       "      <td>2.14</td>\n",
       "      <td>11.2</td>\n",
       "      <td>100.0</td>\n",
       "      <td>2.65</td>\n",
       "      <td>2.76</td>\n",
       "      <td>0.26</td>\n",
       "      <td>1.28</td>\n",
       "      <td>4.38</td>\n",
       "      <td>1.05</td>\n",
       "      <td>3.40</td>\n",
       "      <td>1050.0</td>\n",
       "    </tr>\n",
       "    <tr>\n",
       "      <td>Wine2</td>\n",
       "      <td>13.16</td>\n",
       "      <td>2.36</td>\n",
       "      <td>2.67</td>\n",
       "      <td>18.6</td>\n",
       "      <td>101.0</td>\n",
       "      <td>2.80</td>\n",
       "      <td>3.24</td>\n",
       "      <td>0.30</td>\n",
       "      <td>2.81</td>\n",
       "      <td>5.68</td>\n",
       "      <td>1.03</td>\n",
       "      <td>3.17</td>\n",
       "      <td>1185.0</td>\n",
       "    </tr>\n",
       "    <tr>\n",
       "      <td>Wine3</td>\n",
       "      <td>14.37</td>\n",
       "      <td>1.95</td>\n",
       "      <td>2.50</td>\n",
       "      <td>16.8</td>\n",
       "      <td>113.0</td>\n",
       "      <td>3.85</td>\n",
       "      <td>3.49</td>\n",
       "      <td>0.24</td>\n",
       "      <td>2.18</td>\n",
       "      <td>7.80</td>\n",
       "      <td>0.86</td>\n",
       "      <td>3.45</td>\n",
       "      <td>1480.0</td>\n",
       "    </tr>\n",
       "    <tr>\n",
       "      <td>Wine4</td>\n",
       "      <td>13.24</td>\n",
       "      <td>2.59</td>\n",
       "      <td>2.87</td>\n",
       "      <td>21.0</td>\n",
       "      <td>118.0</td>\n",
       "      <td>2.80</td>\n",
       "      <td>2.69</td>\n",
       "      <td>0.39</td>\n",
       "      <td>1.82</td>\n",
       "      <td>4.32</td>\n",
       "      <td>1.04</td>\n",
       "      <td>2.93</td>\n",
       "      <td>735.0</td>\n",
       "    </tr>\n",
       "  </tbody>\n",
       "</table>\n",
       "</div>"
      ],
      "text/plain": [
       "       alcohol  malic_acid   ash  alcalinity_of_ash  magnesium  total_phenols  \\\n",
       "Wine0    14.23        1.71  2.43               15.6      127.0           2.80   \n",
       "Wine1    13.20        1.78  2.14               11.2      100.0           2.65   \n",
       "Wine2    13.16        2.36  2.67               18.6      101.0           2.80   \n",
       "Wine3    14.37        1.95  2.50               16.8      113.0           3.85   \n",
       "Wine4    13.24        2.59  2.87               21.0      118.0           2.80   \n",
       "\n",
       "       flavanoids  nonflavanoid_phenols  proanthocyanins  color_intensity  \\\n",
       "Wine0        3.06                  0.28             2.29             5.64   \n",
       "Wine1        2.76                  0.26             1.28             4.38   \n",
       "Wine2        3.24                  0.30             2.81             5.68   \n",
       "Wine3        3.49                  0.24             2.18             7.80   \n",
       "Wine4        2.69                  0.39             1.82             4.32   \n",
       "\n",
       "        hue  od280/od315_of_diluted_wines  proline  \n",
       "Wine0  1.04                          3.92   1065.0  \n",
       "Wine1  1.05                          3.40   1050.0  \n",
       "Wine2  1.03                          3.17   1185.0  \n",
       "Wine3  0.86                          3.45   1480.0  \n",
       "Wine4  1.04                          2.93    735.0  "
      ]
     },
     "execution_count": 4,
     "metadata": {},
     "output_type": "execute_result"
    }
   ],
   "source": [
    "wine = datasets.load_wine()\n",
    "\n",
    "# Access the numerical data from the wine Bunch\n",
    "data = wine['data']\n",
    "\n",
    "# Load data about the rows and columns\n",
    "feature_names = wine['feature_names']\n",
    "\n",
    "# Load cultivar information about each wine\n",
    "cultivars = np.array(['Cultivar{}'.format(cl) for cl in wine['target']])\n",
    "\n",
    "# Create nice names for each row\n",
    "wine_names = np.array(['Wine{}'.format(i) for i in range(data.shape[0])])\n",
    "\n",
    "# Gather all of this information into a DataFrame\n",
    "data = pd.DataFrame(data, columns=feature_names, index=wine_names)\n",
    "\n",
    "# Print the first 5 rows of the data, eq. to data[:5]\n",
    "data.head()"
   ]
  },
  {
   "cell_type": "markdown",
   "metadata": {},
   "source": [
    "## 2. Visualizing data in 2D\n",
    "\n",
    "Next, you'll pick a cultivar and try to find features that separate that cultivar from the others. First, just try plotting two variables."
   ]
  },
  {
   "cell_type": "markdown",
   "metadata": {},
   "source": [
    "#### Select a cultivar"
   ]
  },
  {
   "cell_type": "code",
   "execution_count": null,
   "metadata": {},
   "outputs": [],
   "source": [
    "my_cultivar = \"Cultivar0\" # alternative: \"Cultivar1\", \"Cultivar2\""
   ]
  },
  {
   "cell_type": "markdown",
   "metadata": {},
   "source": [
    "#### Plot two variables"
   ]
  },
  {
   "cell_type": "code",
   "execution_count": 8,
   "metadata": {},
   "outputs": [
    {
     "data": {
      "text/plain": [
       "<matplotlib.axes._subplots.AxesSubplot at 0x7fea5b828ef0>"
      ]
     },
     "execution_count": 8,
     "metadata": {},
     "output_type": "execute_result"
    },
    {
     "data": {
      "image/png": "[encoded data removed]",
      "text/plain": [
       "<Figure size 432x288 with 1 Axes>"
      ]
     },
     "metadata": {
      "needs_background": "light"
     },
     "output_type": "display_data"
    }
   ],
   "source": [
    "scprep.plot.scatter(x=data['color_intensity'], y=data['hue'],\n",
    "                    c=cultivars == my_cultivar, legend_title=my_cultivar)"
   ]
  },
  {
   "cell_type": "markdown",
   "metadata": {},
   "source": [
    "Play around with the choices of variables and see what works best to separate your cultivar from the others. You can choose from any of `data.columns`."
   ]
  },
  {
   "cell_type": "code",
   "execution_count": 9,
   "metadata": {},
   "outputs": [
    {
     "name": "stdout",
     "output_type": "stream",
     "text": [
      "Index(['alcohol', 'malic_acid', 'ash', 'alcalinity_of_ash', 'magnesium',\n",
      "       'total_phenols', 'flavanoids', 'nonflavanoid_phenols',\n",
      "       'proanthocyanins', 'color_intensity', 'hue',\n",
      "       'od280/od315_of_diluted_wines', 'proline'],\n",
      "      dtype='object')\n"
     ]
    }
   ],
   "source": [
    "print(data.columns)"
   ]
  },
  {
   "cell_type": "markdown",
   "metadata": {},
   "source": [
    "### Exercise n.1 - find two variables that best separate your chosen cultivar from the others"
   ]
  },
  {
   "cell_type": "code",
   "execution_count": null,
   "metadata": {},
   "outputs": [],
   "source": [
    "scprep.plot.scatter(x=data[???], y=data[???],\n",
    "                    c=cultivars == my_cultivar, legend_title=my_cultivar)"
   ]
  },
  {
   "cell_type": "markdown",
   "metadata": {},
   "source": [
    "## 3. Creating metafeatures"
   ]
  },
  {
   "cell_type": "markdown",
   "metadata": {},
   "source": [
    "You'll notice that it was very difficult to get good separation of cultivars using just two variables. We can do better by combining multiple variables, as shown below."
   ]
  },
  {
   "cell_type": "code",
   "execution_count": 10,
   "metadata": {},
   "outputs": [
    {
     "data": {
      "text/plain": [
       "<matplotlib.axes._subplots.AxesSubplot at 0x7fea5b793fd0>"
      ]
     },
     "execution_count": 10,
     "metadata": {},
     "output_type": "execute_result"
    },
    {
     "data": {
      "image/png": "[encoded data removed]",
      "text/plain": [
       "<Figure size 432x288 with 1 Axes>"
      ]
     },
     "metadata": {
      "needs_background": "light"
     },
     "output_type": "display_data"
    }
   ],
   "source": [
    "scprep.plot.scatter(x=data['color_intensity'] + 2 * data['malic_acid'], \n",
    "                    y=3 * data['hue'] + data['flavanoids'],\n",
    "                    c=cultivars == my_cultivar, legend_title=my_cultivar)"
   ]
  },
  {
   "cell_type": "markdown",
   "metadata": {},
   "source": [
    "#### Comparing feature magnitudes"
   ]
  },
  {
   "cell_type": "markdown",
   "metadata": {},
   "source": [
    "When summing variables together, we need to think about the relative ranges. If we look at the scales of the features in the wine dataset, we will see they vary drastically in size."
   ]
  },
  {
   "cell_type": "code",
   "execution_count": 13,
   "metadata": {},
   "outputs": [
    {
     "data": {
      "text/html": [
       "<div>\n",
       "<style scoped>\n",
       "    .dataframe tbody tr th:only-of-type {\n",
       "        vertical-align: middle;\n",
       "    }\n",
       "\n",
       "    .dataframe tbody tr th {\n",
       "        vertical-align: top;\n",
       "    }\n",
       "\n",
       "    .dataframe thead th {\n",
       "        text-align: right;\n",
       "    }\n",
       "</style>\n",
       "<table border=\"1\" class=\"dataframe\">\n",
       "  <thead>\n",
       "    <tr style=\"text-align: right;\">\n",
       "      <th></th>\n",
       "      <th>alcohol</th>\n",
       "      <th>malic_acid</th>\n",
       "      <th>ash</th>\n",
       "      <th>alcalinity_of_ash</th>\n",
       "      <th>magnesium</th>\n",
       "      <th>total_phenols</th>\n",
       "      <th>flavanoids</th>\n",
       "      <th>nonflavanoid_phenols</th>\n",
       "      <th>proanthocyanins</th>\n",
       "      <th>color_intensity</th>\n",
       "      <th>hue</th>\n",
       "      <th>od280/od315_of_diluted_wines</th>\n",
       "      <th>proline</th>\n",
       "    </tr>\n",
       "  </thead>\n",
       "  <tbody>\n",
       "    <tr>\n",
       "      <td>mean</td>\n",
       "      <td>13.00</td>\n",
       "      <td>2.34</td>\n",
       "      <td>2.37</td>\n",
       "      <td>19.49</td>\n",
       "      <td>99.74</td>\n",
       "      <td>2.30</td>\n",
       "      <td>2.03</td>\n",
       "      <td>0.36</td>\n",
       "      <td>1.59</td>\n",
       "      <td>5.06</td>\n",
       "      <td>0.96</td>\n",
       "      <td>2.61</td>\n",
       "      <td>746.89</td>\n",
       "    </tr>\n",
       "    <tr>\n",
       "      <td>std</td>\n",
       "      <td>0.81</td>\n",
       "      <td>1.12</td>\n",
       "      <td>0.27</td>\n",
       "      <td>3.34</td>\n",
       "      <td>14.28</td>\n",
       "      <td>0.63</td>\n",
       "      <td>1.00</td>\n",
       "      <td>0.12</td>\n",
       "      <td>0.57</td>\n",
       "      <td>2.32</td>\n",
       "      <td>0.23</td>\n",
       "      <td>0.71</td>\n",
       "      <td>314.91</td>\n",
       "    </tr>\n",
       "  </tbody>\n",
       "</table>\n",
       "</div>"
      ],
      "text/plain": [
       "      alcohol  malic_acid   ash  alcalinity_of_ash  magnesium  total_phenols  \\\n",
       "mean    13.00        2.34  2.37              19.49      99.74           2.30   \n",
       "std      0.81        1.12  0.27               3.34      14.28           0.63   \n",
       "\n",
       "      flavanoids  nonflavanoid_phenols  proanthocyanins  color_intensity  \\\n",
       "mean        2.03                  0.36             1.59             5.06   \n",
       "std         1.00                  0.12             0.57             2.32   \n",
       "\n",
       "       hue  od280/od315_of_diluted_wines  proline  \n",
       "mean  0.96                          2.61   746.89  \n",
       "std   0.23                          0.71   314.91  "
      ]
     },
     "execution_count": 13,
     "metadata": {},
     "output_type": "execute_result"
    }
   ],
   "source": [
    "# compute the mean and standard deviation of each feature\n",
    "data.aggregate([np.mean, np.std]).round(2)"
   ]
  },
  {
   "cell_type": "markdown",
   "metadata": {},
   "source": [
    "#### Scaling data\n",
    "\n",
    "For simplicity, we will first scale (or z-score) each feature to have the same mean and variance; this will allow you to sum them without having to worry about which has higher absolute values (for example, if we summed `'ash'` (on the order of 1-2) and `'proline'` (on the order of 500-1000) together, the ash values would have little to no effect on the sum."
   ]
  },
  {
   "cell_type": "code",
   "execution_count": 21,
   "metadata": {},
   "outputs": [
    {
     "data": {
      "text/html": [
       "<div>\n",
       "<style scoped>\n",
       "    .dataframe tbody tr th:only-of-type {\n",
       "        vertical-align: middle;\n",
       "    }\n",
       "\n",
       "    .dataframe tbody tr th {\n",
       "        vertical-align: top;\n",
       "    }\n",
       "\n",
       "    .dataframe thead th {\n",
       "        text-align: right;\n",
       "    }\n",
       "</style>\n",
       "<table border=\"1\" class=\"dataframe\">\n",
       "  <thead>\n",
       "    <tr style=\"text-align: right;\">\n",
       "      <th></th>\n",
       "      <th>alcohol</th>\n",
       "      <th>malic_acid</th>\n",
       "      <th>ash</th>\n",
       "      <th>alcalinity_of_ash</th>\n",
       "      <th>magnesium</th>\n",
       "      <th>total_phenols</th>\n",
       "      <th>flavanoids</th>\n",
       "      <th>nonflavanoid_phenols</th>\n",
       "      <th>proanthocyanins</th>\n",
       "      <th>color_intensity</th>\n",
       "      <th>hue</th>\n",
       "      <th>od280/od315_of_diluted_wines</th>\n",
       "      <th>proline</th>\n",
       "    </tr>\n",
       "  </thead>\n",
       "  <tbody>\n",
       "    <tr>\n",
       "      <td>mean</td>\n",
       "      <td>0.0</td>\n",
       "      <td>0.0</td>\n",
       "      <td>-0.0</td>\n",
       "      <td>-0.0</td>\n",
       "      <td>-0.0</td>\n",
       "      <td>-0.0</td>\n",
       "      <td>0.0</td>\n",
       "      <td>-0.0</td>\n",
       "      <td>-0.0</td>\n",
       "      <td>-0.0</td>\n",
       "      <td>0.0</td>\n",
       "      <td>0.0</td>\n",
       "      <td>-0.0</td>\n",
       "    </tr>\n",
       "    <tr>\n",
       "      <td>std</td>\n",
       "      <td>1.0</td>\n",
       "      <td>1.0</td>\n",
       "      <td>1.0</td>\n",
       "      <td>1.0</td>\n",
       "      <td>1.0</td>\n",
       "      <td>1.0</td>\n",
       "      <td>1.0</td>\n",
       "      <td>1.0</td>\n",
       "      <td>1.0</td>\n",
       "      <td>1.0</td>\n",
       "      <td>1.0</td>\n",
       "      <td>1.0</td>\n",
       "      <td>1.0</td>\n",
       "    </tr>\n",
       "  </tbody>\n",
       "</table>\n",
       "</div>"
      ],
      "text/plain": [
       "      alcohol  malic_acid  ash  alcalinity_of_ash  magnesium  total_phenols  \\\n",
       "mean      0.0         0.0 -0.0               -0.0       -0.0           -0.0   \n",
       "std       1.0         1.0  1.0                1.0        1.0            1.0   \n",
       "\n",
       "      flavanoids  nonflavanoid_phenols  proanthocyanins  color_intensity  hue  \\\n",
       "mean         0.0                  -0.0             -0.0             -0.0  0.0   \n",
       "std          1.0                   1.0              1.0              1.0  1.0   \n",
       "\n",
       "      od280/od315_of_diluted_wines  proline  \n",
       "mean                           0.0     -0.0  \n",
       "std                            1.0      1.0  "
      ]
     },
     "execution_count": 21,
     "metadata": {},
     "output_type": "execute_result"
    }
   ],
   "source": [
    "# use the sklearn StandardScaler to scale to mean 0, variance 1\n",
    "data_scaled = preprocessing.StandardScaler().fit_transform(data)\n",
    "\n",
    "# turn the result back into a pandas DataFrame\n",
    "data_scaled = pd.DataFrame(data_scaled, index=data.index, columns=data.columns)\n",
    "\n",
    "# compute the mean and standard deviation of each feature\n",
    "data_scaled.aggregate([np.mean, np.std]).round(2)"
   ]
  },
  {
   "cell_type": "markdown",
   "metadata": {},
   "source": [
    "Much better. Now we can sum features together without worrying about magnitude."
   ]
  },
  {
   "cell_type": "code",
   "execution_count": 22,
   "metadata": {},
   "outputs": [
    {
     "data": {
      "text/plain": [
       "<matplotlib.axes._subplots.AxesSubplot at 0x7fea5b1c3828>"
      ]
     },
     "execution_count": 22,
     "metadata": {},
     "output_type": "execute_result"
    },
    {
     "data": {
      "image/png": "[encoded data removed]",
      "text/plain": [
       "<Figure size 432x288 with 1 Axes>"
      ]
     },
     "metadata": {
      "needs_background": "light"
     },
     "output_type": "display_data"
    }
   ],
   "source": [
    "scprep.plot.scatter(x=data_scaled['color_intensity'] + data_scaled['malic_acid'], \n",
    "                    y=data_scaled['hue'] + data_scaled['flavanoids'],\n",
    "                    c=cultivars == my_cultivar, legend_title=my_cultivar)"
   ]
  },
  {
   "cell_type": "markdown",
   "metadata": {},
   "source": [
    "Now it's your turn. Can you find a combination of features that cleanly separates your chosen cultivar from the others?"
   ]
  },
  {
   "cell_type": "markdown",
   "metadata": {},
   "source": [
    "## Exercise  - find two combinations of variables that best separate your chosen cultivar from the others"
   ]
  },
  {
   "cell_type": "code",
   "execution_count": null,
   "metadata": {},
   "outputs": [],
   "source": [
    "x = data_scaled[???] + data_scaled[???] + ...\n",
    "y = data_scaled[???] + data_scaled[???] + ...\n",
    "scprep.plot.scatter(x=x, y=y,\n",
    "                    c=cultivars == my_cultivar, legend_title=my_cultivar)"
   ]
  }
 ],
 "metadata": {
  "kernelspec": {
   "display_name": "Python 3",
   "language": "python",
   "name": "python3"
  },
  "language_info": {
   "codemirror_mode": {
    "name": "ipython",
    "version": 3
   },
   "file_extension": ".py",
   "mimetype": "text/x-python",
   "name": "python",
   "nbconvert_exporter": "python",
   "pygments_lexer": "ipython3",
   "version": "3.7.3"
  }
 },
 "nbformat": 4,
 "nbformat_minor": 2
}
