{
  "nbformat": 4,
  "nbformat_minor": 0,
  "metadata": {
    "kernelspec": {
      "display_name": "Python 3",
      "language": "python",
      "name": "python3"
    },
    "language_info": {
      "codemirror_mode": {
        "name": "ipython",
        "version": 3
      },
      "file_extension": ".py",
      "mimetype": "text/x-python",
      "name": "python",
      "nbconvert_exporter": "python",
      "pygments_lexer": "ipython3",
      "version": "3.7.3"
    },
    "colab": {
      "name": "00_Pseudotime_from_scratch.ipynb",
      "provenance": []
    }
  },
  "cells": [
    {
      "cell_type": "code",
      "metadata": {
        "id": "uRt1dWf-UJJJ",
        "colab_type": "code",
        "colab": {}
      },
      "source": [
        "!pip install --user scprep statsmodels magic-impute"
      ],
      "execution_count": 0,
      "outputs": []
    },
    {
      "cell_type": "code",
      "metadata": {
        "id": "KCXOeUJ3T4vI",
        "colab_type": "code",
        "colab": {}
      },
      "source": [
        "import scprep\n",
        "scprep.io.download.download_google_drive('1VuddKA7Xa23NAFKvRUmtuND16eEMHL9z', '/content/r_packages.tar.gz')\n",
        "!tar xzf /content/r_packages.tar.gz && rm /content/r_packages.tar.gz\n",
        "!apt-get install -yqq libgsl-dev=2.4+dfsg-6\n",
        "!pip install --user --upgrade rpy2\n",
        "!echo \"R_LIBS_USER='/content/.r_packages'\" >> ~/.Renviron"
      ],
      "execution_count": 0,
      "outputs": []
    },
    {
      "cell_type": "code",
      "metadata": {
        "id": "2TuOFZ0BT4wK",
        "colab_type": "code",
        "colab": {}
      },
      "source": [
        "import matplotlib.pyplot as plt\n",
        "import matplotlib as mpl\n",
        "import seaborn as sns\n",
        "\n",
        "import numpy as np\n",
        "import pandas as pd\n",
        "from scipy import stats\n",
        "\n",
        "import scprep\n",
        "import phate\n",
        "import graphtools as gt\n",
        "from sklearn import cluster\n",
        "import time\n",
        "\n",
        "from scipy import sparse\n",
        "from scipy.spatial.distance import pdist, squareform"
      ],
      "execution_count": 0,
      "outputs": []
    },
    {
      "cell_type": "markdown",
      "metadata": {
        "id": "L_LlN5IRT4yI",
        "colab_type": "text"
      },
      "source": [
        "## Generate Synthetic Data with Known Ground Truth\n",
        "\n",
        "### Introduction to Splatter\n",
        "\n",
        "Splatter, [Zappia L, et al. Genome Biology. 2017](https://doi.org/10.1186/s13059-017-1305-0), is a tool for simulating single-cell RNA-sequencing data with a known topology. Splatter has two main modes: \"paths\" and \"groups.\" Because we're interested in generating data with a known trajectory structure, we are going to use the `paths` mode.\n",
        "\n",
        "Splatter has a bunch of other parameters you can choose from, and if you have time, feel free to play around with the various options.\n",
        "\n"
      ]
    },
    {
      "cell_type": "markdown",
      "metadata": {
        "id": "3CvbQMezT4yZ",
        "colab_type": "text"
      },
      "source": [
        "#### Generating simulated data\n",
        "\n",
        "Unfortunately, Splatter is only implemented in R. Fortunately, we provide a wrapper in the `scprep.run` module. You can call Splatter from Python using [`scprep.run.SplatSimulate()`](https://scprep.readthedocs.io/en/stable/reference.html#scprep.run.SplatSimulate)."
      ]
    },
    {
      "cell_type": "code",
      "metadata": {
        "id": "txtbftXmT4yh",
        "colab_type": "code",
        "colab": {}
      },
      "source": [
        "# Run Splatter\n",
        "\n",
        "# You can easily change the number of paths and cells here\n",
        "n_paths = 3\n",
        "cells_per_path = 1000\n",
        "\n",
        "# Splatter returns a `dict` objbect that contains a bunch of useful information\n",
        "results = scprep.run.SplatSimulate(\n",
        "                        method='paths', \n",
        "                        batch_cells=cells_per_path * n_paths, \n",
        "                        group_prob=np.tile(1/n_paths, n_paths), \n",
        "                        n_genes=5000,\n",
        "                        de_down_prob=0.5,\n",
        "                        path_from=[0,0,0],\n",
        "                        mean_shape=1,\n",
        "                        seed=0)"
      ],
      "execution_count": 0,
      "outputs": []
    },
    {
      "cell_type": "markdown",
      "metadata": {
        "id": "Dt_1ZsJUT4zC",
        "colab_type": "text"
      },
      "source": [
        "Let's check what we can find in this `results` dictionary. Note, you can find explanations of what each key refers to by checking the `returns` section of the `SplatSimulate` docstring or consulting https://scprep.readthedocs.io/en/stable/reference.html#scprep.run.SplatSimulate."
      ]
    },
    {
      "cell_type": "code",
      "metadata": {
        "id": "cL-iMtVjT4zG",
        "colab_type": "code",
        "colab": {}
      },
      "source": [
        "results.keys()"
      ],
      "execution_count": 0,
      "outputs": []
    },
    {
      "cell_type": "markdown",
      "metadata": {
        "id": "WtIv9BMrT4zT",
        "colab_type": "text"
      },
      "source": [
        "There's a lot of organizational stuff happening in the next code block. The key idea is that we want to grab three pieces of information from `results`:\n",
        "* `counts` - simulated expression counts\n",
        "* `group` - the group or path the cell belongs to\n",
        "* `step` - how far along the path each cell is\n",
        "\n",
        "We're putting `counts` into one DataFrame and `group` & `step` in a separate DataFrame. Then we do some manipulation of the `step` vector so it increases monotonically (as opposed to restarting at 0 at the beginning of each path). Finally we change the name of the `Index` of `data` and `metadata` and preprocess the data."
      ]
    },
    {
      "cell_type": "code",
      "metadata": {
        "id": "RrPAc1dXT4ze",
        "colab_type": "code",
        "colab": {}
      },
      "source": [
        "# Put counts data in DataFrame\n",
        "data = pd.DataFrame(results['counts'])\n",
        "\n",
        "# Put metadata in a DataFrame\n",
        "metadata = pd.DataFrame([results['step'], results['group']], index=['step', 'group']).T\n",
        "metadata = metadata.astype({'step': int}) # These are strings by default, but we want ints\n",
        "\n",
        "# Adjusting the 'step' vector to monotonically increase\n",
        "p1_mask = metadata['group'] == 1\n",
        "metadata.loc[p1_mask, 'step'] = 100 - metadata.loc[p1_mask, 'step']\n",
        "p23_mask = np.isin(metadata['group'], [2,3])\n",
        "metadata.loc[p23_mask, 'step'] = 100 + metadata.loc[p23_mask, 'step']\n",
        "\n",
        "# Change DataFrame index names to be a little nicer\n",
        "new_index = pd.Index(['cell_{}'.format(i) for i in range(metadata.shape[0])])\n",
        "data.index = new_index\n",
        "metadata.index = new_index\n",
        "\n",
        "# Library-size normalize and sqrt transform\n",
        "data = scprep.normalize.library_size_normalize(data)\n",
        "data = scprep.transform.sqrt(data)"
      ],
      "execution_count": 0,
      "outputs": []
    },
    {
      "cell_type": "markdown",
      "metadata": {
        "id": "SpwDhfI1T4zz",
        "colab_type": "text"
      },
      "source": [
        "#### Visualizing the data\n",
        "\n",
        "Splatter is designed to generate data that can be easily visualized using PCA. If you have time, try to visualize the data using other tools from our visualization module."
      ]
    },
    {
      "cell_type": "code",
      "metadata": {
        "id": "w5kploGRT4z4",
        "colab_type": "code",
        "colab": {}
      },
      "source": [
        "data_pca = scprep.reduce.pca(data)"
      ],
      "execution_count": 0,
      "outputs": []
    },
    {
      "cell_type": "markdown",
      "metadata": {
        "id": "JDzQUIN9T40C",
        "colab_type": "text"
      },
      "source": [
        "Plot the data using `scprep.plot.scatter2d()`."
      ]
    },
    {
      "cell_type": "code",
      "metadata": {
        "id": "etL-XZekT40D",
        "colab_type": "code",
        "colab": {}
      },
      "source": [
        "ax = scprep.plot.scatter2d(data_pca, color='#5ac8fa',\n",
        "                      ticks=None, title='PCA', \n",
        "                      label_prefix='PC',\n",
        "                      figsize=(5,5.2))\n",
        "\n",
        "ax.figure.tight_layout()"
      ],
      "execution_count": 0,
      "outputs": []
    },
    {
      "cell_type": "markdown",
      "metadata": {
        "id": "Dar7YYyaT40K",
        "colab_type": "text"
      },
      "source": [
        "#### Plot the `step` vector"
      ]
    },
    {
      "cell_type": "code",
      "metadata": {
        "id": "kwcX5FrYT40L",
        "colab_type": "code",
        "colab": {}
      },
      "source": [
        "ax = scprep.plot.scatter2d(data_pca, c=metadata['step'],\n",
        "                      ticks=None, title='PCA', \n",
        "                      label_prefix='PC',\n",
        "                      figsize=(5.5,5))\n",
        "\n",
        "ax.figure.tight_layout()"
      ],
      "execution_count": 0,
      "outputs": []
    },
    {
      "cell_type": "markdown",
      "metadata": {
        "id": "yJ7uxD_tT40R",
        "colab_type": "text"
      },
      "source": [
        "#### Plot the `group` vector"
      ]
    },
    {
      "cell_type": "code",
      "metadata": {
        "id": "SXDpvjfhT40U",
        "colab_type": "code",
        "colab": {}
      },
      "source": [
        "ax = scprep.plot.scatter2d(data_pca, c=metadata['group'],\n",
        "                      legend_title='Branch',\n",
        "                      ticks=None, title='PCA', \n",
        "                      label_prefix='PC',\n",
        "                      figsize=(5,5))\n",
        "\n",
        "ax.figure.tight_layout()"
      ],
      "execution_count": 0,
      "outputs": []
    },
    {
      "cell_type": "markdown",
      "metadata": {
        "id": "qrDeHEq6T40a",
        "colab_type": "text"
      },
      "source": [
        "#### Assign each cell to a day using a binomal distribution\n",
        "\n",
        "To make it easier to understand the benefit of pseudotime analysis, we're going to assign each cell to a sample labelled `Day1`, `Day2`, or `Day3` to mimic a traditional time course experiment. Note that we're not using the `counts` data to do this, but rather we're using the _latent variable_ `step` to assign samples. This means the we're using the same latent variable to generate counts and independently generate the `sample` labels."
      ]
    },
    {
      "cell_type": "code",
      "metadata": {
        "id": "RmBcmwUDT40c",
        "colab_type": "code",
        "colab": {}
      },
      "source": [
        "# This random distribution will have increased probability of generating a `2` \n",
        "# as the `step` gets larger.\n",
        "normalized_step = metadata['step'] / metadata['step'].max()\n",
        "sample = np.random.binomial(n = 2,\n",
        "                            p = normalized_step, \n",
        "                            size=metadata.shape[0]) + 1\n",
        "\n",
        "\n",
        "sample_cmap = {1 : '#a8ddb5',\n",
        "       2: '#4eb3d3',\n",
        "       3: '#08589e'}"
      ],
      "execution_count": 0,
      "outputs": []
    },
    {
      "cell_type": "code",
      "metadata": {
        "id": "znb9PWYXT40f",
        "colab_type": "code",
        "colab": {}
      },
      "source": [
        "ax = scprep.plot.scatter2d(data_pca,  c=sample, cmap=sample_cmap,\n",
        "                           legend_title='Day',\n",
        "                           label_prefix='PC',\n",
        "                      ticks=None, title='Day of sample collection', \n",
        "                      legend=True, figsize=(5,5))"
      ],
      "execution_count": 0,
      "outputs": []
    },
    {
      "cell_type": "markdown",
      "metadata": {
        "id": "MZojNK3wT40m",
        "colab_type": "text"
      },
      "source": [
        "## 2. Learning Diffusion Pseudotime (DPT)\n",
        "\n",
        "In this section, we're going to run diffusion pseudotime (DPT) from scratch. Yes, there is a nice wrapper we will use later. For now, we want to show you _how_ DPT is calculated."
      ]
    },
    {
      "cell_type": "markdown",
      "metadata": {
        "id": "AMfJAuyeT40o",
        "colab_type": "text"
      },
      "source": [
        "#### The math\n",
        "Remember from lecture that the following two equations define DPT:\n",
        "$$ \\textrm{DPT}(x,y) = ||\\mathbf{M}(x,:) - \\mathbf{M}(y,:)||, ~\\mathbf{M} = \\sum\\limits_{t=1}^{\\infty}\\mathbf{\\tilde{T}}$$\n",
        "$$ \\mathbf{M} = \\sum\\limits_{t=1}^{\\infty}\\mathbf{\\tilde{T}} = (I-\\mathbf{\\tilde{T}})^{-1}-I ~\\textrm{where}~ \\mathbf{\\tilde{T}} = \\mathbf{T} - \\psi_0\\psi_0^T$$"
      ]
    },
    {
      "cell_type": "markdown",
      "metadata": {
        "id": "BlmoYp7UT40q",
        "colab_type": "text"
      },
      "source": [
        "Here, $\\mathbf{T}$ is the diffusion operator (defined below), $I$ is the identity matrix, and $\\psi_0$ is the first eigenvector of $\\mathbf{T}$. You can actually derive all the steps of DPT from these two equations by reading backwards.\n",
        "\n",
        "The first step is to calculate $\\mathbf{\\tilde{T}} = \\mathbf{T} - \\psi_0\\psi_0^T$. From this we can reason that we need to learn a graph, calculate a diffusion operator, get the first eigenvector of that diffusion operator, and subtract that from $\\mathbf{T}$.\n",
        "\n",
        "Next, we need to calculate $\\mathbf{M}$ using these equations $ \\mathbf{M} = \\sum\\limits_{t=1}^{\\infty}\\mathbf{\\tilde{T}} = (I-\\mathbf{\\tilde{T}})^{-1}-I$. There's a lot going on there, but remember that if $a = b = c$ then $a=c$ so we really only care that $ \\mathbf{M} = (I-\\mathbf{\\tilde{T}})^{-1}-I$.\n",
        "\n",
        "Once we have $\\mathbf{M}$, we can easily get the DPT between any two points $x,y$ by subtracting the relevant rows of $\\mathbf{M}$."
      ]
    },
    {
      "cell_type": "markdown",
      "metadata": {
        "id": "VP-LwFopT40s",
        "colab_type": "text"
      },
      "source": [
        "#### The algorithm"
      ]
    },
    {
      "cell_type": "markdown",
      "metadata": {
        "id": "JV_z7muIT40t",
        "colab_type": "text"
      },
      "source": [
        "Having gone through all that, we can break down DPT into the following steps:\n",
        "1. Learn a graph from the data using local Euclidean distances\n",
        "2. Subtract the first diffusion operator eigenspace from the transition probabilities\n",
        "3. Calculate the limit of all random walks on the graph\n",
        "4. Calculate pairwise distances in the random walk space\n",
        "\n"
      ]
    },
    {
      "cell_type": "markdown",
      "metadata": {
        "id": "CEQULqZpT40u",
        "colab_type": "text"
      },
      "source": [
        "### Step 1 - Learn a graph from the counts data \n",
        "\n",
        "Here, we're using `graphtools` to learn a graph from data. If you remember from the manifold learning section, the key to learning a graph from data is to calculate _local Euclidean distances_ and then connect cells that are in the same _neighborhood_. We can do this in one line by calling `gt.Graph()`.\n",
        "\n",
        "The full graphtools API can be found here: https://graphtools.readthedocs.io/en/stable/reference.html#module-graphtools.api"
      ]
    },
    {
      "cell_type": "code",
      "metadata": {
        "id": "DQonmDB2T40v",
        "colab_type": "code",
        "colab": {}
      },
      "source": [
        "G = gt.Graph(data, n_pca=100, use_pygsp=True)"
      ],
      "execution_count": 0,
      "outputs": []
    },
    {
      "cell_type": "markdown",
      "metadata": {
        "id": "hJRB7i4zT401",
        "colab_type": "text"
      },
      "source": [
        "### Step 2 - Subtract the first diffusion operator eigenspace from the transition probabilities\n",
        "\n",
        "Now, we know that even though eigenvectors are important, they are incredibly abstract and confusing. The more important concept here is to understand the **diffusion operator**. The diffusion operator is so useful that it is calculated whenever you build a graph with `graphtools`.\n",
        "\n",
        "The diffusion operator is usually defines as \"the row-stochastic form of the kernel matrix.\" The key terms here are:\n",
        "* kernel matrix, $\\mathbf{K}$ - the matrix of size $n \\times n$ where $n$ is the number of vertices in the graph. Each entry $\\mathbf{K}_{i,j}$ contains the weight of the edge connecting vertex $i$ and vertex $j$.\n",
        "* row-stochastic - this is a fancy term to describe the fact that each row of a matrix sums to $1$.\n",
        "\n",
        "A row-stochastic kernel matrix has edge weights scaled such that they could represent the **transition probability** of moving from one vertex to another. This is the heart of the \"random-walk\" along a graph. If you Google \"[graph random walk](https://www.google.com/search?q=graph+random+walk&oq=graph+random+walk)\", you'll find a ton a resources on the topic.\n",
        "\n",
        "Let's compare the row-sums of `G.K`, the kernel matrix, and `G.diff_op`, the diffusion operator."
      ]
    },
    {
      "cell_type": "code",
      "metadata": {
        "id": "fKvQzvlvT402",
        "colab_type": "code",
        "colab": {}
      },
      "source": [
        "# Which axis do we need to sum across to get the row-sum?\n",
        "axis = ??????\n",
        "print(G.K.sum(axis=axis))\n",
        "print(G.diff_op.sum(axis=axis))"
      ],
      "execution_count": 0,
      "outputs": []
    },
    {
      "cell_type": "markdown",
      "metadata": {
        "id": "-lBEw4vyT407",
        "colab_type": "text"
      },
      "source": [
        "By default, `G.diff_op` is a sparse matrix, because so many entries are `0`. You can confirm this using `type(G.diff_op)` which should return `scipy.sparse.csr.csr_matrix`. This means we can calculate the first eigenvector efficiently using `scipy.sparse.linalg.eigs()`.\n",
        "\n",
        "To turn an eigenvector into an eigenspace, we take the [_inner product_](http://mathworld.wolfram.com/InnerProduct.html) using the `@` operator. We can then subtract this matrix from `G.diff_op`."
      ]
    },
    {
      "cell_type": "code",
      "metadata": {
        "id": "xCKiKhy3T409",
        "colab_type": "code",
        "colab": {}
      },
      "source": [
        "# If you look at the top, we already imported the `sparse` module from `scipy`\n",
        "W, V = sparse.linalg.eigs(G.diff_op, k=1)\n",
        "\n",
        "# W is the eigenVALUE matrix and V is the eigenVECTOR matrix\n",
        "# We only care about eigenVECTORS here\n",
        "V_0 = V @ V.T\n",
        "\n",
        "# Now we can subtract this from G.diff_op\n",
        "T_tilde = G.diff_op.toarray() - (V[:,0] @ V[:,0].T)"
      ],
      "execution_count": 0,
      "outputs": []
    },
    {
      "cell_type": "markdown",
      "metadata": {
        "id": "HzWz1pzRT41A",
        "colab_type": "text"
      },
      "source": [
        "### Step 3 - Calculate $\\mathbf{M}$, the limit of all random walk distances on the graph\n",
        "\n",
        "Here, we're calculating $ \\mathbf{M} = \\sum\\limits_{t=1}^{\\infty}\\mathbf{\\tilde{T}} = (I-\\mathbf{\\tilde{T}})^{-1}-I$. This is a fairly simple calculation, especially now that we have $\\tilde{T}$ calculated. The only think you might not be familiar with here is that $^{-1}$ operation which is a [_matrix inverse_](http://mathworld.wolfram.com/MatrixInverse.html). All you need to know for now is that you can calculate this with `np.linalg.inv()`."
      ]
    },
    {
      "cell_type": "code",
      "metadata": {
        "id": "JcWZECdvT41C",
        "colab_type": "code",
        "colab": {}
      },
      "source": [
        "# Create the identity matrix the same size as T_tilde\n",
        "I = np.eye(T_tilde.shape[1])\n",
        "\n",
        "# Do the matrix inversion\n",
        "M = np.linalg.inv(I - T_tilde) - I\n",
        "# Discard imaginary component of M\n",
        "M = np.real(M)"
      ],
      "execution_count": 0,
      "outputs": []
    },
    {
      "cell_type": "markdown",
      "metadata": {
        "id": "Qgh-nzt4T41G",
        "colab_type": "text"
      },
      "source": [
        "### Step 4 - Calculate DPT between all pairs of points\n",
        "\n",
        "This should be the simplest step as we've already gone over how to calculate pairwise distances. Instead of calculating Euclidean distances on the raw data, we're doing it on $\\mathbf{M}$."
      ]
    },
    {
      "cell_type": "code",
      "metadata": {
        "id": "UmB2sQW3T41I",
        "colab_type": "code",
        "colab": {}
      },
      "source": [
        "# Calc DPT\n",
        "DPT = pd.DataFrame(squareform(pdist(M)), index=data.index,columns=data.index)"
      ],
      "execution_count": 0,
      "outputs": []
    },
    {
      "cell_type": "markdown",
      "metadata": {
        "id": "Swe24jndT41L",
        "colab_type": "text"
      },
      "source": [
        "### Putting it all in a single function\n",
        "\n",
        "To hammer home how simple these steps are, let's put all of them in one convenience function."
      ]
    },
    {
      "cell_type": "code",
      "metadata": {
        "id": "4s3hGhmiT41M",
        "colab_type": "code",
        "colab": {}
      },
      "source": [
        "def calculateDiffusionPseudotime(data):\n",
        "    '''Calculates DPT between all points in the data'''\n",
        "\n",
        "    G = gt.Graph(data, n_pca=100, use_pygsp=True)\n",
        "    \n",
        "    # Calculate eigenvectors of the diffusion operator\n",
        "    # May be faster way to do this\n",
        "    W, V = sparse.linalg.eigs(G.diff_op, k=1)\n",
        "    \n",
        "    # Remove first eigenspace\n",
        "    T_tilde = G.diff_op.toarray() - (V[:,0] @ V[:,0].T)\n",
        "    \n",
        "    # Calculate M\n",
        "    I = np.eye(T_tilde.shape[1])\n",
        "    M = np.linalg.inv(I - T_tilde) - I\n",
        "    M = np.real(M)\n",
        "    \n",
        "    # Calc DPT\n",
        "    DPT = squareform(pdist(M))\n",
        "    \n",
        "    DPT = DPT\n",
        "    return DPT"
      ],
      "execution_count": 0,
      "outputs": []
    },
    {
      "cell_type": "markdown",
      "metadata": {
        "id": "YuQza3RLT41Q",
        "colab_type": "text"
      },
      "source": [
        "### Picking a root cell\n",
        "\n",
        "If you remember, diffusion pseudotime requires the user to input a **root cell**. There is some guidance in the Diffusion Pseudotime paper on how to pick a root cell, but for the most part it requires some prior assumptions about the data. Here, we can return to our simulated data and figure out some way to pick the root."
      ]
    },
    {
      "cell_type": "code",
      "metadata": {
        "id": "OWpN96VQT41T",
        "colab_type": "code",
        "colab": {}
      },
      "source": [
        "scprep.plot.scatter2d(data_pca, c =sample, cmap=sample_cmap, \n",
        "                      title='Day of Sample Collection', \n",
        "                      legend=True, label_prefix='PC', legend_title='Day',\n",
        "                      figsize=(5,5))"
      ],
      "execution_count": 0,
      "outputs": []
    },
    {
      "cell_type": "markdown",
      "metadata": {
        "id": "jG5-TfPZT41W",
        "colab_type": "text"
      },
      "source": [
        "#### Using PC1\n",
        "\n",
        "On the first branch of the data, it looks like PC1 does a pretty good job of tracking with the developmental progression. Let's take the cell with the highest PC1 value for the root cell."
      ]
    },
    {
      "cell_type": "code",
      "metadata": {
        "id": "yYFiMbdRT41X",
        "colab_type": "code",
        "colab": {}
      },
      "source": [
        "# Selecting the root cell\n",
        "root_cell = data_pca['PC1'].idxmin()\n",
        "\n",
        "# Plotting the rest of the cells\n",
        "ax = scprep.plot.scatter2d(data_pca, c=sample, cmap=sample_cmap,\n",
        "                      title='Day of Sample Collection',\n",
        "                      legend=True, label_prefix='PC',\n",
        "                      legend_title='Day',\n",
        "                      ticks=None,\n",
        "                      figsize=(5,5))\n",
        "\n",
        "# Plotting the root cell\n",
        "ax.scatter(data_pca.loc[root_cell]['PC1'], data_pca.loc[root_cell]['PC2'],\n",
        "                         c='red', s=100, zorder=2)"
      ],
      "execution_count": 0,
      "outputs": []
    },
    {
      "cell_type": "markdown",
      "metadata": {
        "id": "cQsDhKWXT41c",
        "colab_type": "text"
      },
      "source": [
        "#### Plotting DPT from the root cell to  all other cells\n",
        "\n",
        "Because $ \\textrm{DPT}(x,y) = ||\\mathbf{M}(x,:) - \\mathbf{M}(y,:)||$, we can now take rows of the `DPT` matrix we calculated earlier to get a pseudotemporal ordering of cells."
      ]
    },
    {
      "cell_type": "code",
      "metadata": {
        "id": "tlegsYbTT41d",
        "colab_type": "code",
        "colab": {}
      },
      "source": [
        "# Plotting the rest of the cells\n",
        "ax = scprep.plot.scatter2d(data_pca, c=DPT.loc[root_cell], cmap='viridis',\n",
        "                      title='DPT from root cell',\n",
        "                      legend=True, label_prefix='PC',\n",
        "                      ticks=False,\n",
        "                      figsize=(5.8,5))\n",
        "\n",
        "# Plotting the root cell\n",
        "ax.scatter(data_pca.loc[root_cell]['PC1'], data_pca.loc[root_cell]['PC2'],\n",
        "                         c='red', s=100, zorder=2)"
      ],
      "execution_count": 0,
      "outputs": []
    },
    {
      "cell_type": "markdown",
      "metadata": {
        "id": "o2ew3bN4T41h",
        "colab_type": "text"
      },
      "source": [
        "#### Comparing DPT to latent `step` variable\n",
        "\n",
        "Finally, we can compare DPT to the latent variable `step` that was used to generate the data to determine how accurately the method captures ground truth.\n",
        "\n",
        "**Note:** You will need to add code for the x and y axis."
      ]
    },
    {
      "cell_type": "code",
      "metadata": {
        "id": "CxqfWU7uT41i",
        "colab_type": "code",
        "colab": {}
      },
      "source": [
        "ax = scprep.plot.scatter(\n",
        "            # =========\n",
        "            # plot diffusion pseudotime on the x-axis and the metadata 'step'\n",
        "            # variable on the y-axis\n",
        "            x = \n",
        "            y = \n",
        "            # ========= \n",
        "            c=metadata['group'],\n",
        "            xlabel='Diffusion pseudotime', ylabel='Latent step variable',\n",
        "            legend_title='Branch', figsize=(5,5))"
      ],
      "execution_count": 0,
      "outputs": []
    },
    {
      "cell_type": "markdown",
      "metadata": {
        "id": "PMqKg6T1T41q",
        "colab_type": "text"
      },
      "source": [
        "What conclusions do you draw from this?"
      ]
    },
    {
      "cell_type": "markdown",
      "metadata": {
        "id": "TbvZfffsT41r",
        "colab_type": "text"
      },
      "source": [
        "### Examining gene trends with DPT"
      ]
    },
    {
      "cell_type": "markdown",
      "metadata": {
        "id": "FwS_g9DMT41s",
        "colab_type": "text"
      },
      "source": [
        "In a later section, we'll go over how to select the genes that are the most correlated with pseudotime, but for now, let's cheat. The `results` returned from `SplatSimulate` contains arrays that tell us how differentially expressed on each branch. They are `de_fac_1`, `de_fac_2`, `de_fac_3`.\n",
        "\n",
        "We're going to use `np.argsort()` to get the gene indices that have the highest level of differential expression on average across all genes.\n",
        "\n",
        "**Comprehension question:** what does `[::-1]` do?"
      ]
    },
    {
      "cell_type": "code",
      "metadata": {
        "id": "zR--5oTbT41u",
        "colab_type": "code",
        "colab": {}
      },
      "source": [
        "# Change this to switch which branch we want to look at\n",
        "branch_of_interest = 1\n",
        "\n",
        "# This line sorts all simulated genes\n",
        "de_factors = pd.DataFrame([results['de_fac_1'] - 1, results['de_fac_2'] - 1, results['de_fac_3'] - 1]).T\n",
        "\n",
        "most_de_genes = np.argsort(de_factors.abs().mean(axis=1).values)[::-1]\n",
        "least_de_genes = np.argsort(de_factors.abs().mean(axis=1).values)"
      ],
      "execution_count": 0,
      "outputs": []
    },
    {
      "cell_type": "code",
      "metadata": {
        "id": "htjp5nRIXbrd",
        "colab_type": "code",
        "colab": {}
      },
      "source": [
        "from statsmodels.nonparametric.smoothers_lowess import lowess\n",
        "import magic"
      ],
      "execution_count": 0,
      "outputs": []
    },
    {
      "cell_type": "markdown",
      "metadata": {
        "id": "nPSlT-7ufml3",
        "colab_type": "text"
      },
      "source": [
        "#### Running MAGIC"
      ]
    },
    {
      "cell_type": "code",
      "metadata": {
        "id": "uWfscUDzY52b",
        "colab_type": "code",
        "colab": {}
      },
      "source": [
        "data_magic = magic.MAGIC(t=3).fit_transform(data)"
      ],
      "execution_count": 0,
      "outputs": []
    },
    {
      "cell_type": "code",
      "metadata": {
        "id": "fMea4OcjT41x",
        "colab_type": "code",
        "colab": {}
      },
      "source": [
        "fig, axes = plt.subplots(5,3, figsize=(12,12))\n",
        "\n",
        "for i, ax_row in enumerate(axes):\n",
        "    gene = data.iloc[:, most_de_genes[i]]    \n",
        "    gene_magic = data_magic.iloc[:, most_de_genes[i]]\n",
        "\n",
        "    ax_left, ax_mid, ax_right = ax_row\n",
        "    \n",
        "    scprep.plot.jitter(sample, gene, c=sample, cmap=sample_cmap,\n",
        "                       title='Raw - sample',\n",
        "                       legend=False,\n",
        "                       ax=ax_left)\n",
        "    # Plotting raw data\n",
        "    scprep.plot.scatter(DPT.loc[root_cell], gene, \n",
        "                         c=sample, cmap=sample_cmap,\n",
        "                        title='Raw - pseudotime',\n",
        "                        legend=False,\n",
        "                        ax=ax_mid)\n",
        "    \n",
        "    # Plot a loess curve\n",
        "    smooth_expression = lowess(gene, DPT.loc[root_cell], return_sorted=False)\n",
        "    scprep.plot.scatter(DPT.loc[root_cell], smooth_expression, \n",
        "                         c='red',\n",
        "                        ax=ax_mid)\n",
        "                        \n",
        "   # Plotting MAGIC data\n",
        "    scprep.plot.scatter(DPT.loc[root_cell], gene_magic, \n",
        "                         c=sample, cmap=sample_cmap,\n",
        "                        title='MAGIC - pseudotime',\n",
        "                        legend=False,\n",
        "                        ax=ax_right)\n",
        "    \n",
        "    # Plot a loess curve\n",
        "    smooth_expression = lowess(gene_magic, DPT.loc[root_cell], return_sorted=False)\n",
        "    scprep.plot.scatter(DPT.loc[root_cell], smooth_expression, \n",
        "                         c='red',\n",
        "                        ax=ax_right)\n",
        "    ax_right.set_ylim(0, np.max(gene_magic) * 1.1)\n",
        "\n",
        "\n",
        "fig.tight_layout()"
      ],
      "execution_count": 0,
      "outputs": []
    },
    {
      "cell_type": "markdown",
      "metadata": {
        "id": "Mz_v1v6YWvrT",
        "colab_type": "text"
      },
      "source": [
        "### Discussion\n",
        "\n",
        "The above code block plots the 5 most differentially expressed genes on average across all branches.  \n",
        "\n",
        "In pairs:\n",
        "1. Duplicate the code block\n",
        "2. Change the code so the *least* differentially expressed genes are ploted (Hint: what end of the `most_de_genes` will these genes be on?\n",
        "3. Generate the plot.\n",
        "\n",
        "What do you notice? Do you see anything subtle happening with the MAGIC values on the least differentially expressed genes? Why do you think this is happening?\n",
        "\n",
        "\n",
        "If you have time, try adding more rows in the call to `plt.subplots()`. This will take more time to run, but will show you more information.\n",
        "\n"
      ]
    },
    {
      "cell_type": "markdown",
      "metadata": {
        "id": "EtC7Kl3OT412",
        "colab_type": "text"
      },
      "source": [
        "<div id='calculating-branches'></div>\n",
        "\n",
        "## Calculating branches using correlation anti-correlation\n",
        "\n",
        "The next major step in DPT is identifying branches using the correlation/anti-correlation between forward and reverse pseudotime. We already have forward pseudotime. To get reverse pseudotime we perform the following steps:\n",
        "1. Identify the \"end cell\" farthest (in DPT) from the root cell\n",
        "2. Calculate the distance to the \"end cell\" for each cell in the dataset"
      ]
    },
    {
      "cell_type": "code",
      "metadata": {
        "id": "BoXrXY0gT414",
        "colab_type": "code",
        "colab": {}
      },
      "source": [
        "# The cell with the highest DPT from the root cell is the end_cell\n",
        "end_cell = DPT.loc[root_cell].idxmax()"
      ],
      "execution_count": 0,
      "outputs": []
    },
    {
      "cell_type": "code",
      "metadata": {
        "id": "1cs08OcIT42F",
        "colab_type": "code",
        "colab": {}
      },
      "source": [
        "# Plot forward pseudotime\n",
        "ax = scprep.plot.scatter2d(data_pca, c = DPT[root_cell], \n",
        "                      ticks=None, title='Forward Pseudotime', \n",
        "                      discrete=False, legend=True,label_prefix='PC',\n",
        "                      figsize=(4.6,4))\n",
        "\n",
        "# Plot the root cell\n",
        "ax.scatter(data_pca.loc[root_cell][0], data_pca.loc[root_cell][1], c ='red', s=100, zorder=10)\n",
        "\n",
        "# Plot the end cell\n",
        "ax.scatter(data_pca.loc[end_cell][0], data_pca.loc[end_cell][1], color='#5ac8fa', s=100, zorder=10)"
      ],
      "execution_count": 0,
      "outputs": []
    },
    {
      "cell_type": "markdown",
      "metadata": {
        "id": "csIn7zpMT42J",
        "colab_type": "text"
      },
      "source": [
        "Now we can just take the `end_cell` row of the DPT matrix to get reverse pseudotime."
      ]
    },
    {
      "cell_type": "code",
      "metadata": {
        "id": "175sieTeT42L",
        "colab_type": "code",
        "colab": {}
      },
      "source": [
        "#Here we take the `end_cell` row of `DPT`\n",
        "ax = scprep.plot.scatter2d(data_pca, c = DPT[end_cell], \n",
        "                      ticks=None, title='Reverse Pseudotime', \n",
        "                      discrete=False, legend=True, label_prefix='PC',\n",
        "                      figsize=(4.6,4))\n",
        "# Plot the root cell\n",
        "ax.scatter(data_pca.loc[root_cell][0], data_pca.loc[root_cell][1], c ='red', s=100, zorder=10)\n",
        "\n",
        "# Plot the end cell\n",
        "ax.scatter(data_pca.loc[end_cell][0], data_pca.loc[end_cell][1], color='#5ac8fa', s=100, zorder=10)"
      ],
      "execution_count": 0,
      "outputs": []
    },
    {
      "cell_type": "markdown",
      "metadata": {
        "id": "O1Dd4iB8T42O",
        "colab_type": "text"
      },
      "source": [
        "#### Plotting forward vs reverse pseudotime"
      ]
    },
    {
      "cell_type": "code",
      "metadata": {
        "id": "7Z57e2a-T42P",
        "colab_type": "code",
        "colab": {}
      },
      "source": [
        "ax = scprep.plot.scatter(DPT[root_cell], DPT[end_cell], \n",
        "                         c=sample, cmap=sample_cmap,\n",
        "                        xlabel='Forward psuedotime',\n",
        "                        ylabel='Reverse pseudotime')\n",
        "\n",
        "ax.set_aspect(1)"
      ],
      "execution_count": 0,
      "outputs": []
    },
    {
      "cell_type": "markdown",
      "metadata": {
        "id": "0i_JLrF3T42S",
        "colab_type": "text"
      },
      "source": [
        "#### Clustering in the forward vs. reverse pseudotime space\n",
        "\n",
        "Now we have a few options for separating the branches. We could manually bin the cells into groups based on the above plot. However, we can also try to use a clustering algorithm to do this for us."
      ]
    },
    {
      "cell_type": "code",
      "metadata": {
        "id": "-uak0-JqT42T",
        "colab_type": "code",
        "colab": {}
      },
      "source": [
        "# Pick your favorite clustering algorithm\n",
        "from sklearn.cluster import SpectralClustering\n",
        "clusters = SpectralClustering(n_clusters=3).fit_predict(DPT[[root_cell,end_cell]])"
      ],
      "execution_count": 0,
      "outputs": []
    },
    {
      "cell_type": "code",
      "metadata": {
        "id": "56hWFEd7T42W",
        "colab_type": "code",
        "colab": {}
      },
      "source": [
        "# Plot clusters\n",
        "ax = scprep.plot.scatter(DPT[root_cell], DPT[end_cell],                          \n",
        "                         c=clusters,\n",
        "                        xlabel='Forward psuedotime',\n",
        "                        ylabel='Reverse pseudotime')\n",
        "ax.set_aspect(1)"
      ],
      "execution_count": 0,
      "outputs": []
    },
    {
      "cell_type": "code",
      "metadata": {
        "id": "qe0FyBh4T42a",
        "colab_type": "code",
        "colab": {}
      },
      "source": [
        "# Plotting the rest of the cells\n",
        "ax = scprep.plot.scatter2d(data_pca, c=clusters, \n",
        "                      title='DPT Branch Assignments',\n",
        "                      legend=True, label_prefix='PC',\n",
        "                      ticks=False,\n",
        "                      figsize=(5,5))"
      ],
      "execution_count": 0,
      "outputs": []
    },
    {
      "cell_type": "markdown",
      "metadata": {
        "id": "8aLkVPr5T42d",
        "colab_type": "text"
      },
      "source": [
        "### Discussion\n",
        "\n",
        "In pairs, go back and change:\n",
        "1. The selection for the root cell (instead of the lowest PC1 value, use the 5th lowest or 10th lowest)\n",
        "2. The clustering algorithm for branch identification\n",
        "\n",
        "Answer the following questions:\n",
        "1. How robust is DPT to selection of root and end cell? How could you quantify this?\n",
        "2. Is there a better clustering algorithm for branch selection than KMeans?\n"
      ]
    },
    {
      "cell_type": "markdown",
      "metadata": {
        "id": "JtblXpDbT42e",
        "colab_type": "text"
      },
      "source": [
        "## Bonus: Trajectory inference on more complicated trees.\n",
        "\n",
        "Above we worked on a very simple dataset with only two branches. Below, we've set up parameters to generate a tree with 9 branches. Try running the code an determine:\n",
        "\n",
        "1. How would you select the root cell?\n",
        "2. How well does the correlation/anti-correlation work to identify different branches?\n"
      ]
    },
    {
      "cell_type": "markdown",
      "metadata": {
        "id": "wkt6b9eYT42g",
        "colab_type": "text"
      },
      "source": [
        "#### Generating data with Splatter"
      ]
    },
    {
      "cell_type": "code",
      "metadata": {
        "id": "p7GkTGj4T42j",
        "colab_type": "code",
        "colab": {}
      },
      "source": [
        "# Splatter parameters\n",
        "# cells_per_path * n_groupsnp.tile(1/n_groups, n_groups)\n",
        "n_groups = 9\n",
        "cells_per_path = 300\n",
        "params = {'method':'paths', 'batch_cells':cells_per_path * n_groups, 'seed':42, \n",
        "         'group_prob':np.tile(1/n_groups, n_groups), 'path_from':[0,1,1,2,2,3,3,4,4], 'n_genes':5000,\n",
        "         'de_fac_loc':0.2}\n",
        "\n",
        "# Run Splatter\n",
        "results = scprep.run.SplatSimulate(**params)\n",
        "\n",
        "# Assign data to data frame\n",
        "data = pd.DataFrame(results['true_counts'])\n",
        "\n",
        "metadata = pd.DataFrame([results['step'], results['group']], index=['step', 'group']).T\n",
        "metadata = metadata.astype({'step': int})\n",
        "\n",
        "\n",
        "\n",
        "# Reindex\n",
        "new_index = pd.Index(['cell_{}'.format(i) for i in range(metadata.shape[0])])\n",
        "data.index = new_index\n",
        "metadata.index = new_index\n",
        "\n",
        "data_ln = scprep.normalize.library_size_normalize(data)"
      ],
      "execution_count": 0,
      "outputs": []
    },
    {
      "cell_type": "markdown",
      "metadata": {
        "id": "UXuxonKCT42l",
        "colab_type": "text"
      },
      "source": [
        "#### Visualizing with PCA\n",
        "\n",
        "Given what you know about PCA, why does it perform poorly here?"
      ]
    },
    {
      "cell_type": "code",
      "metadata": {
        "id": "uYmfz3CgT42n",
        "colab_type": "code",
        "colab": {}
      },
      "source": [
        "data_pca = scprep.reduce.pca(np.sqrt(data_ln))"
      ],
      "execution_count": 0,
      "outputs": []
    },
    {
      "cell_type": "code",
      "metadata": {
        "id": "EqZu_Ih1T42r",
        "colab_type": "code",
        "colab": {}
      },
      "source": [
        "scprep.plot.scatter2d(data_pca, c=metadata['group'], legend_anchor=(1,1))"
      ],
      "execution_count": 0,
      "outputs": []
    },
    {
      "cell_type": "markdown",
      "metadata": {
        "id": "AB2_xmQRT42v",
        "colab_type": "text"
      },
      "source": [
        "#### Visualizing with PHATE"
      ]
    },
    {
      "cell_type": "code",
      "metadata": {
        "id": "0DwxMLjNT43A",
        "colab_type": "code",
        "colab": {}
      },
      "source": [
        "phate_op = phate.PHATE()\n",
        "data_phate = phate_op.fit_transform(data_pca)\n",
        "data_phate = pd.DataFrame(data_phate, index=data.index)"
      ],
      "execution_count": 0,
      "outputs": []
    },
    {
      "cell_type": "code",
      "metadata": {
        "id": "gKZvGgsPT43G",
        "colab_type": "code",
        "colab": {}
      },
      "source": [
        "data_phate = pd.DataFrame(data_phate, index=data.index)"
      ],
      "execution_count": 0,
      "outputs": []
    },
    {
      "cell_type": "code",
      "metadata": {
        "id": "N9f4q6DjT43I",
        "colab_type": "code",
        "colab": {}
      },
      "source": [
        "scprep.plot.scatter2d(data_phate, c=metadata['group'], legend_anchor=(1,1))"
      ],
      "execution_count": 0,
      "outputs": []
    },
    {
      "cell_type": "markdown",
      "metadata": {
        "id": "PqhR-GgGT43M",
        "colab_type": "text"
      },
      "source": [
        "#### Identifying the root cell\n",
        "\n",
        "Here we're cheating and using the ground truth to identify this cell. What would you do in a biological dataset?"
      ]
    },
    {
      "cell_type": "code",
      "metadata": {
        "id": "glERHhlET43O",
        "colab_type": "code",
        "colab": {}
      },
      "source": [
        "root_idx = metadata['step'].loc[metadata['group'] == 1].idxmin()"
      ],
      "execution_count": 0,
      "outputs": []
    },
    {
      "cell_type": "markdown",
      "metadata": {
        "id": "5Mh-VkBXT43V",
        "colab_type": "text"
      },
      "source": [
        "#### Calculating DPT\n",
        "\n"
      ]
    },
    {
      "cell_type": "code",
      "metadata": {
        "id": "AwRDRh0zT43V",
        "colab_type": "code",
        "colab": {}
      },
      "source": [
        "def calculateDiffusionPseudotime(data):\n",
        "    '''Calculates DPT between all points in the data'''\n",
        "\n",
        "    G = gt.Graph(data, n_pca=100, use_pygsp=True)\n",
        "    \n",
        "    # Calculate eigenvectors of the diffusion operator\n",
        "    # May be faster way to do this\n",
        "    W, V = sparse.linalg.eigs(G.diff_op, k=1)\n",
        "    \n",
        "    # Remove first eigenspace\n",
        "    T_tilde = G.diff_op.toarray() - (V[:,0] @ V[:,0].T)\n",
        "    \n",
        "    # Calculate M\n",
        "    I = np.eye(T_tilde.shape[1])\n",
        "    M = np.linalg.inv(I - T_tilde) - I\n",
        "    M = np.real(M)\n",
        "    \n",
        "    # Calc DPT\n",
        "    DPT = squareform(pdist(M))\n",
        "    \n",
        "    DPT = DPT\n",
        "    return DPT"
      ],
      "execution_count": 0,
      "outputs": []
    },
    {
      "cell_type": "code",
      "metadata": {
        "id": "IiPYeDtaT43Y",
        "colab_type": "code",
        "colab": {}
      },
      "source": [
        "DPT = calculateDiffusionPseudotime(data)\n",
        "\n",
        "DPT = pd.DataFrame(DPT, index=data.index,columns=data.index)"
      ],
      "execution_count": 0,
      "outputs": []
    },
    {
      "cell_type": "code",
      "metadata": {
        "id": "f0kY7nS6T43a",
        "colab_type": "code",
        "colab": {}
      },
      "source": [
        "ax = scprep.plot.scatter2d(data_phate, c=DPT[root_idx], legend_anchor=(1,1))\n",
        "ax.scatter(data_phate.loc[root_idx, 0], data_phate.loc[root_idx, 1], color='red', s=100, zorder=10)"
      ],
      "execution_count": 0,
      "outputs": []
    },
    {
      "cell_type": "markdown",
      "metadata": {
        "id": "gGpn8bZkioXC",
        "colab_type": "text"
      },
      "source": [
        "## Calculating reverse pseudotime and branches\n",
        "\n",
        "Here, you should adapt the code from the **\"Calculating branches using correlation anti-correlation\"** to calculate reverse pseudotime."
      ]
    },
    {
      "cell_type": "code",
      "metadata": {
        "id": "SKaGUNXqioyI",
        "colab_type": "code",
        "colab": {}
      },
      "source": [
        "# ========\n",
        "end_cell = \n",
        "\n",
        "\n",
        "\n",
        "#Here we take the `end_cell` row of `DPT`\n",
        "ax = scprep.plot.scatter2d(data_pca, c = ????, \n",
        "                      ticks=None, title='Reverse Pseudotime', \n",
        "                      discrete=False, legend=True, label_prefix='PC',\n",
        "                      figsize=(4.6,4))\n",
        "# Plot the root cell\n",
        "ax.scatter(??, ??, c ='red', s=100, zorder=10)\n",
        "\n",
        "# Plot the end cell\n",
        "ax.scatter(??, ??, color='#5ac8fa', s=100, zorder=10)\n",
        "\n",
        "\n",
        "# ========"
      ],
      "execution_count": 0,
      "outputs": []
    },
    {
      "cell_type": "code",
      "metadata": {
        "id": "ySS6LDgpkAf0",
        "colab_type": "code",
        "colab": {}
      },
      "source": [
        "# ========\n",
        "# Plotting forward vs reverse pseudotime\n",
        "\n",
        "ax = scprep.plot.scatter(??, ??, \n",
        "                         c=sample, cmap=sample_cmap,\n",
        "                        xlabel='Forward psuedotime',\n",
        "                        ylabel='Reverse pseudotime')\n",
        "\n",
        "ax.set_aspect(1)\n",
        "# ========"
      ],
      "execution_count": 0,
      "outputs": []
    },
    {
      "cell_type": "code",
      "metadata": {
        "id": "0UjbEjSGT43e",
        "colab_type": "code",
        "colab": {}
      },
      "source": [
        "scprep.plot.jitter(metadata['group'], DPT[root_idx])"
      ],
      "execution_count": 0,
      "outputs": []
    },
    {
      "cell_type": "markdown",
      "metadata": {
        "id": "BXO_nlhLT43g",
        "colab_type": "text"
      },
      "source": [
        "### Discussion\n",
        "\n",
        "1. What do you notice about the distribution of DPT values in this tree?\n",
        "2. Try adding more or fewer branches. How does this change the resolution of DPT?"
      ]
    }
  ]
}