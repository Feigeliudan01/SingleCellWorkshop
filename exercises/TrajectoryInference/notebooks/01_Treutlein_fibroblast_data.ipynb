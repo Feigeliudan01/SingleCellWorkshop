{
 "cells": [
  {
   "cell_type": "code",
   "execution_count": null,
   "metadata": {
    "colab": {},
    "colab_type": "code",
    "id": "o7oCqlF8rtyO"
   },
   "outputs": [],
   "source": [
    "!pip install --user scprep phate scanpy anndata"
   ]
  },
  {
   "cell_type": "code",
   "execution_count": null,
   "metadata": {
    "colab": {},
    "colab_type": "code",
    "id": "B-sLPG3NrqXG"
   },
   "outputs": [],
   "source": [
    "import scprep"
   ]
  },
  {
   "cell_type": "code",
   "execution_count": null,
   "metadata": {
    "colab": {},
    "colab_type": "code",
    "id": "B-sLPG3NrqXG"
   },
   "outputs": [],
   "source": [
    "scprep.io.download.download_google_drive('1VuddKA7Xa23NAFKvRUmtuND16eEMHL9z', '/content/r_packages.tar.gz')\n",
    "!tar xzf /content/r_packages.tar.gz && rm /content/r_packages.tar.gz\n",
    "!apt-get install -yqq libgsl-dev=2.4+dfsg-6\n",
    "!pip install -U rpy2\n",
    "!echo \"R_LIBS_USER='/content/.r_packages'\" >> ~/.Renviron\n",
    "!R -e \"BiocManager::install('splatter')\""
   ]
  },
  {
   "cell_type": "code",
   "execution_count": null,
   "metadata": {
    "colab": {},
    "colab_type": "code",
    "id": "WjBZwP60rqXW"
   },
   "outputs": [],
   "source": [
    "import pandas as pd\n",
    "import numpy as np\n",
    "import phate\n",
    "\n",
    "import matplotlib.pyplot as plt\n",
    "\n",
    "import os, tarfile\n",
    "\n",
    "import anndata, scanpy\n",
    "# matplotlib settings for Jupyter notebooks only\n",
    "%matplotlib inline"
   ]
  },
  {
   "cell_type": "markdown",
   "metadata": {
    "colab_type": "text",
    "id": "nBIzwnaQrqXf"
   },
   "source": [
    "# Comparing trajectory inference algorithms on Treutlein fibroblast data\n",
    "\n",
    "In this exercise, we will run both Diffusion Pseudotime and Slingshot on a dataset of 392 cells generated from trans-differentiating fibroblasts from [Treutlein et al. _Nature_. 2016](http://doi.org/10.1038/nature18323). This data was already preprocessed and downloaded from the [Dynverse quickstart tutorial](https://dynverse.org/users/2-quick_start/).\n",
    "\n",
    "Briefly, a variety of transcription factors were overexpressed in Mouse Embryonic Fibroblasts (MEFs) to induce neuronal differentiation. Cells were sampled at several intervals over 22 days of differentation and sequenced using the Fluidigm C1 system and the SMART-seq protocol.\n",
    "\n",
    "Here, we're doing to work with data that has already been filtered, preprocessed, and normalized so we can get straight to work running trajectory inference algorithms. This preprocessing includes selection of 2000 highly variable genes so the data matrix is 392 cells by 2000 genes.\n",
    "\n",
    "Unlike the previous exercise, we're going to use the Diffusion Psuedotime (DPT) and Slingshot implementations provided by the original authors of each paper. DPT is provided as part of the excellent [Scanpy](https://scanpy.readthedocs.io/en/stable/) single cell analysis toolkit. Slingshot is only available from the R implementation, so we provided a convenience wrapper in `scprep.run`.\n",
    "\n",
    "We're breaking this section into the following parts. First, we'll run Slingshot on the Treutlein data. Next, we'll run diffusion pseudotime and compare the results."
   ]
  },
  {
   "cell_type": "markdown",
   "metadata": {
    "colab_type": "text",
    "id": "qJwzNDovrqXj"
   },
   "source": [
    "## Loading and visualizing the data"
   ]
  },
  {
   "cell_type": "markdown",
   "metadata": {
    "colab_type": "text",
    "id": "8sEHpf-orqXm"
   },
   "source": [
    "#### Download data from Google Drive"
   ]
  },
  {
   "cell_type": "code",
   "execution_count": null,
   "metadata": {
    "colab": {},
    "colab_type": "code",
    "id": "agDjU_NCrqXo"
   },
   "outputs": [],
   "source": [
    "download_dir = os.path.expanduser('~')\n",
    "tar_path = os.path.join(download_dir, '2014_Treutlein_Fibroblast.tar.gz')\n",
    "\n",
    "# Download the data tarball\n",
    "if not os.path.exists(tar_path):\n",
    "    scprep.io.download.download_google_drive('1WzEva0PM95an9hKiwgQydV_df0P_g63Q', tar_path)\n",
    "\n",
    "# Extract data directory\n",
    "with tarfile.open(tar_path) as tf:\n",
    "    tf.extractall(download_dir)\n",
    "\n",
    "# Format the data paths\n",
    "data_dir = os.path.join(download_dir, '2014_Treutlein_Fibroblast_induced_neural_differentation')\n",
    "\n",
    "data_path = os.path.join(data_dir, 'Treutlein.expression.csv')\n",
    "metadata_path  = os.path.join(data_dir, 'Treutlein.groups.csv')"
   ]
  },
  {
   "cell_type": "markdown",
   "metadata": {
    "colab_type": "text",
    "id": "T-GEe3O2rqXu"
   },
   "source": [
    "#### Read in the data using `scprep`"
   ]
  },
  {
   "cell_type": "code",
   "execution_count": null,
   "metadata": {
    "colab": {},
    "colab_type": "code",
    "id": "PAYSqgn8rqXy"
   },
   "outputs": [],
   "source": [
    "data = scprep.io.load_csv(data_path)\n",
    "data.head()"
   ]
  },
  {
   "cell_type": "code",
   "execution_count": null,
   "metadata": {
    "colab": {},
    "colab_type": "code",
    "id": "PAYSqgn8rqXy"
   },
   "outputs": [],
   "source": [
    "# we can read in arbitrary csv files with scprep\n",
    "# here the columns will be metadata features rather than genes\n",
    "metadata = scprep.io.load_csv(metadata_path, gene_names=['annotated_clusters'], skiprows=1)\n",
    "metadata.head()"
   ]
  },
  {
   "cell_type": "markdown",
   "metadata": {
    "colab_type": "text",
    "id": "zV3XiAOrrqX5"
   },
   "source": [
    "#### Run PHATE"
   ]
  },
  {
   "cell_type": "code",
   "execution_count": null,
   "metadata": {
    "colab": {},
    "colab_type": "code",
    "id": "qI0kKeXarqX7"
   },
   "outputs": [],
   "source": [
    "phate_op = phate.PHATE()\n",
    "\n",
    "data_phate = phate_op.fit_transform(data)\n",
    "data_phate = pd.DataFrame(data_phate, index=data.index)"
   ]
  },
  {
   "cell_type": "code",
   "execution_count": null,
   "metadata": {
    "colab": {},
    "colab_type": "code",
    "id": "KxRh-QzkrqYK"
   },
   "outputs": [],
   "source": [
    "scprep.plot.scatter2d(data_phate, c=metadata['annotated_clusters'],\n",
    "                      legend_anchor=(1,1),\n",
    "                      label_prefix='PHATE', ticks=None,\n",
    "                      title='Annotated Clusters',\n",
    "                      figsize=(7,5))"
   ]
  },
  {
   "cell_type": "markdown",
   "metadata": {
    "colab_type": "text",
    "id": "IchTyw0VrqYZ"
   },
   "source": [
    "## Running Slingshot\n",
    "\n",
    "[Slingshot](https://doi.org/10.1186/s12864-018-4772-0) is a trajectory inference tool that was reported to be among the top-performing trajectory inference algorithms for simple trajectories. The method has five conceptual steps:\n",
    "\n",
    "1. Perform dimensionality reduction on the data (e.g. PCA, PHATE, UMAP)\n",
    "2. Cluster the data\n",
    "3. Create a minimum spanning tree between the data\n",
    "4. Fit principal curves to the data\n",
    "5. Project the data onto the principal curves\n",
    "\n"
   ]
  },
  {
   "cell_type": "markdown",
   "metadata": {
    "colab_type": "text",
    "id": "HiCXG6mSrqYb"
   },
   "source": [
    "### Step 1 - Perform dimensionality reduction\n",
    "\n",
    "We already did this! For now, let's proceed to Step 2.\n",
    "\n",
    "**Bonus** If you have extra time later, try using a different dimensionality reduction algorithm by removing the comments at the beginning of the next code block."
   ]
  },
  {
   "cell_type": "code",
   "execution_count": null,
   "metadata": {
    "colab": {},
    "colab_type": "code",
    "id": "kmxgjBtJrqYc"
   },
   "outputs": [],
   "source": [
    "# =================\n",
    "# To run the next two lines, remove the hashtags at the beginning of each line\n",
    "# data_umap = umap.UMAP().fit_transform(data)\n",
    "# data_pca = scprep.reduce.pca(data, n_components=2)\n",
    "# ================="
   ]
  },
  {
   "cell_type": "markdown",
   "metadata": {
    "colab_type": "text",
    "id": "UB0UiapcrqYj"
   },
   "source": [
    "### Step 2 - Cluster the data\n",
    "\n",
    "Picking the ideal number of clusters here is a little trial and error. Let's try a few different number of clusters and compare."
   ]
  },
  {
   "cell_type": "code",
   "execution_count": null,
   "metadata": {
    "colab": {},
    "colab_type": "code",
    "id": "MQDQpN32rqYm"
   },
   "outputs": [],
   "source": [
    "fig, axes = plt.subplots(1,4, figsize=(16,4))\n",
    "\n",
    "ks = [3,4,5,6]\n",
    "for ax, k in zip(axes, ks):\n",
    "    # Run PHATE clustering\n",
    "    clusters = phate.cluster.kmeans(phate_op, n_clusters=k)\n",
    "    metadata['cluster'] = clusters\n",
    "    scprep.plot.scatter2d(data_phate, c=metadata['cluster'],\n",
    "                     title='n_clusters = {}'.format(k),\n",
    "                     label_prefix='PHATE', ticks=None,\n",
    "                     ax=ax)\n",
    "    \n",
    "fig.tight_layout()"
   ]
  },
  {
   "cell_type": "markdown",
   "metadata": {
    "colab_type": "text",
    "id": "JYfbFTLvrqYt"
   },
   "source": [
    "#### Pick a number of clusters that looks good to you\n"
   ]
  },
  {
   "cell_type": "code",
   "execution_count": null,
   "metadata": {
    "colab": {},
    "colab_type": "code",
    "id": "tYmdky0grqYy"
   },
   "outputs": [],
   "source": [
    "# =========\n",
    "# Set the number of clusters here\n",
    "clusters = phate.cluster.kmeans(phate_op, n_clusters= ?)\n",
    "metadata['cluster'] = clusters\n",
    "# ========="
   ]
  },
  {
   "cell_type": "code",
   "execution_count": null,
   "metadata": {
    "colab": {},
    "colab_type": "code",
    "id": "rqSPKsVYrqZE"
   },
   "outputs": [],
   "source": [
    "scprep.plot.scatter2d(data_phate, c=metadata['cluster'],\n",
    "                 label_prefix='PHATE', ticks=None,\n",
    "                figsize=(5,5))"
   ]
  },
  {
   "cell_type": "markdown",
   "metadata": {
    "colab_type": "text",
    "id": "zilyy4lnrqZL"
   },
   "source": [
    "### Step 3, 4, 5 - Create the minimum spanning tree, fit principal curves, and project data onto curves\n",
    "\n",
    "These last steps of Slingshot are all performed behind-the-scenes by the Slingshot R package. We're going to leave all of those steps to Slingshot here and access the method using `scprep.run.Slingshot`. You can find the full documentation for the method here: https://scprep.readthedocs.io/en/stable/reference.html#module-scprep.run"
   ]
  },
  {
   "cell_type": "markdown",
   "metadata": {
    "colab_type": "text",
    "id": "Zw2WwLS8rqZM"
   },
   "source": [
    "#### Run `scprep.run.Slingshot()`"
   ]
  },
  {
   "cell_type": "code",
   "execution_count": null,
   "metadata": {
    "colab": {},
    "colab_type": "code",
    "id": "VhdQAtCJrqZN"
   },
   "outputs": [],
   "source": [
    "# =======\n",
    "# Reading the documentation for `scprep.run.Slingshot()` \n",
    "# replace the '...' with the correct code.\n",
    "results = scprep.run.Slingshot( ... )\n",
    "\n",
    "# ======="
   ]
  },
  {
   "cell_type": "markdown",
   "metadata": {
    "colab_type": "text",
    "id": "5M4O3xn2rqZW"
   },
   "source": [
    "#### Grab output from `results` dictionary"
   ]
  },
  {
   "cell_type": "code",
   "execution_count": null,
   "metadata": {
    "colab": {},
    "colab_type": "code",
    "id": "xPPCG98ErqZY"
   },
   "outputs": [],
   "source": [
    "pseudotime = results['pseudotime']\n",
    "metadata['slingshot1'] = pseudotime.iloc[:,0]\n",
    "metadata['slingshot2'] = pseudotime.iloc[:,1]\n",
    "\n",
    "metadata['slingshot_branch'] = results['branch']"
   ]
  },
  {
   "cell_type": "markdown",
   "metadata": {
    "colab_type": "text",
    "id": "yiSmEjCMrqZc"
   },
   "source": [
    "#### Plotting the principal curves\n"
   ]
  },
  {
   "cell_type": "code",
   "execution_count": null,
   "metadata": {
    "colab": {},
    "colab_type": "code",
    "id": "_n6oXc7RrqZe"
   },
   "outputs": [],
   "source": [
    "ax = scprep.plot.scatter2d(data_phate, c=metadata['slingshot_branch'],\n",
    "                 label_prefix='PHATE', ticks=None,\n",
    "                 title='Slingshot Principal Curves',\n",
    "                 figsize=(5,5))\n",
    "\n",
    "# `results['curves']` returns as tensor (an array of arrays)\n",
    "# Each array contains coordinates for the curves in the dimensionality reduced space\n",
    "for curve in results['curves']:\n",
    "    ax.plot(curve[:,0], curve[:,1], c='k', linewidth=3)"
   ]
  },
  {
   "cell_type": "markdown",
   "metadata": {
    "colab_type": "text",
    "id": "CBG9Gq1_rqZl"
   },
   "source": [
    "### Plotting branch pseudotime"
   ]
  },
  {
   "cell_type": "code",
   "execution_count": null,
   "metadata": {
    "colab": {},
    "colab_type": "code",
    "id": "NAvSgsoJrqZn"
   },
   "outputs": [],
   "source": [
    "fig, axes = plt.subplots(1,2, figsize=(11,5))\n",
    "\n",
    "for i, ax in enumerate(axes):\n",
    "    curr_pseudotime = metadata['slingshot{}'.format(i+1)]\n",
    "    m = np.isfinite(curr_pseudotime)\n",
    "    # plot null points as grey\n",
    "    scprep.plot.scatter2d(data_phate[~m], color='grey', s=10, ax=ax)    \n",
    "    # plot points on branch\n",
    "    scprep.plot.scatter2d(data_phate[m], c=curr_pseudotime[m], s=10,\n",
    "                          label_prefix='PHATE', ticks=None,\n",
    "                          title='Branch {}'.format(i + 1), ax=ax)\n",
    "    \n",
    "fig.tight_layout()"
   ]
  },
  {
   "cell_type": "markdown",
   "metadata": {
    "colab_type": "text",
    "id": "DVSTbNg1rqZt"
   },
   "source": [
    "### Plotting clusters by pseudotime\n",
    "\n",
    "Now we can do something interesting, like figure out the developmental ordering of the various cell types characterized in the `annotated_clusters` metadata variable.\n",
    "\n",
    "To plot clusters by pseudotime, we're going to use `scprep.plot.jitter()`. Jitterplots are a kind of scatter plot useful for comparing the distribution of values within various classes of data. They are related to [`sns.violinplot`](https://seaborn.pydata.org/generated/seaborn.violinplot.html) and [`sns.swarmplot`](https://seaborn.pydata.org/generated/seaborn.swarmplot.html), but can be plotted much more quickly because the noise on the x-dimension is random Normal.\n",
    "\n",
    "The grey circles in the center of each column are the means for those classes.\n",
    "\n",
    "`scprep.plot.jitter` API: https://scprep.readthedocs.io/en/stable/reference.html#scprep.plot.jitter\n",
    "\n",
    "Jitterplot gallery: https://scprep.readthedocs.io/en/stable/examples/jitter.html"
   ]
  },
  {
   "cell_type": "code",
   "execution_count": null,
   "metadata": {
    "colab": {},
    "colab_type": "code",
    "id": "unHRc9TVrqZu"
   },
   "outputs": [],
   "source": [
    "# Get all the cells that are on the desired branch.\n",
    "curr_branch = 'slingshot1'\n",
    "mask = np.isfinite(metadata[curr_branch])\n",
    "\n",
    "# Create Jitterplot\n",
    "ax = scprep.plot.jitter(metadata['annotated_clusters'].loc[mask], metadata[curr_branch].loc[mask],\n",
    "                        c=metadata['annotated_clusters'].loc[mask], legend_anchor=(1,1),\n",
    "                        means_s=50,\n",
    "                        figsize=(8,4))\n",
    "\n",
    "# Neaten xticklabels\n",
    "ax.set_xticklabels(ax.get_xticklabels(), rotation=45, ha='right')\n",
    "scprep.plot.utils.shift_ticklabels(ax.xaxis, dx=0.15)"
   ]
  },
  {
   "cell_type": "code",
   "execution_count": null,
   "metadata": {
    "colab": {},
    "colab_type": "code",
    "id": "PaAsbA6jrqZz"
   },
   "outputs": [],
   "source": [
    "# Get all the cells that are on the desired branch.\n",
    "curr_branch = 'slingshot2'\n",
    "mask = np.isfinite(metadata[curr_branch])\n",
    "\n",
    "# Create Jitterplot\n",
    "ax = scprep.plot.jitter(metadata['annotated_clusters'].loc[mask], metadata[curr_branch].loc[mask],\n",
    "                        c=metadata['annotated_clusters'].loc[mask], legend_anchor=(1,1),\n",
    "                        means_s=50,\n",
    "                        figsize=(8,4))\n",
    "\n",
    "# Neaten xticklabels\n",
    "ax.set_xticklabels(ax.get_xticklabels(), rotation=45, ha='right')\n",
    "scprep.plot.utils.shift_ticklabels(ax.xaxis, dx=0.15)"
   ]
  },
  {
   "cell_type": "markdown",
   "metadata": {
    "colab_type": "text",
    "id": "3MOUGGQ5vARy"
   },
   "source": [
    "### Dicsussion\n",
    "\n",
    "Each pair per table should:\n",
    "1. Pick a different dimensionality reduction method (UMAP, t-SNE, or PCA).\n",
    "2. Pick a different clustering method (see earleir exercises for code).\n",
    "3. Rerun Slingshot\n",
    "4. Compare results\n",
    "\n",
    "In groups, discuss the following questions:\n",
    "1. Do these orderings make sense given the cluster labels? Why?\n",
    "2. How does choice of dimensionality reduction tool affect the output of Slingshot?\n",
    "3. Does choice of dimensionality reduction tool or cluster method have more impact on output?"
   ]
  },
  {
   "cell_type": "markdown",
   "metadata": {
    "colab_type": "text",
    "id": "9xPb4IoNrqZ-"
   },
   "source": [
    "#### Breakpoint: if you're done, help those around you!"
   ]
  },
  {
   "cell_type": "markdown",
   "metadata": {
    "colab_type": "text",
    "id": "s2gmjOjirqaA"
   },
   "source": [
    "## Running Diffusion Pseudotime\n",
    "\n",
    "In this section, we're going to use the diffusion pseudotime algorithm implemented in `scanpy`, a scRNA-seq analysis toolkit from Alex Wolf and the Theis Lab. The Theis lab were the inventors of the algorithm, so we're going to use their implementation to provide a comparison to Slingshot. As this MEF dataset is fairly simply, we don't expect to see huge differences between the algorithms. \n",
    "\n",
    "Because `scanpy` is a Python package, we can just use their code directly. The documentation for the `scanpy.tl.dpt` function can be found here: https://icb-scanpy.readthedocs-hosted.com/en/stable/api/scanpy.api.tl.dpt.html."
   ]
  },
  {
   "cell_type": "markdown",
   "metadata": {
    "colab_type": "text",
    "id": "zvHdkDUprqaB"
   },
   "source": [
    "#### About the  `AnnData` object\n",
    "\n",
    "All of the `scanpy` functions expect data to be organized in an `AnnData` object. The idea behind `AnnData` is to have a single container for all of the data and metadata associated with a single cell experiment. The `AnnData` class is useful and flexible. We don't use the `AnnData` class elsewhere in the workshop because we prefer to directly interact with Pandas `DataFrame` objects which are a more generic data container. The `DataFrame` is a useful data container for almost any kind of data one might work with, while `AnnData` is designed around gene expression data.\n",
    "\n",
    "You very well may find that you prefer working with `AnnData` objects because of the handy single-cell functionality built into `scanpy`. If you want to learn more about them, check out the official `AnnData` documentation here: https://anndata.readthedocs.io."
   ]
  },
  {
   "cell_type": "markdown",
   "metadata": {
    "colab_type": "text",
    "id": "l_tofbHGrqaC"
   },
   "source": [
    "### Running DPT\n",
    "\n",
    "The workflow here is fairly simple. We're going to put the data in an `Anndata` container, run PCA, calculate NearestNeighbors, and DiffusionMaps. With that done, we are ready to run DPT."
   ]
  },
  {
   "cell_type": "code",
   "execution_count": null,
   "metadata": {
    "colab": {},
    "colab_type": "code",
    "id": "dpDZxNkIrqaD"
   },
   "outputs": [],
   "source": [
    "# Here we create an AnnData container\n",
    "adata = anndata.AnnData(data)\n",
    "\n",
    "# DPT requires a root cell, depending on the orientation of your\n",
    "# plot, you should be able to use the cell with the highest \n",
    "# data_phate[:,0] coordinate\n",
    "adata.uns['iroot'] = np.argmax(data_phate.iloc[:,0].values)\n",
    "\n",
    "# Run PCA\n",
    "scanpy.pp.pca(adata)\n",
    "\n",
    "# Identify nearest neighbors\n",
    "scanpy.pp.neighbors(adata)\n",
    "\n",
    "# Create the diffusion map\n",
    "scanpy.tl.diffmap(adata)\n",
    "\n",
    "# Run Diffusion Pseudotime with 1 branching event\n",
    "scanpy.tl.dpt(adata, n_branchings=1)\n",
    "\n",
    "# Grab the output and store in our metadata DataFrame\n",
    "metadata['dpt'] = adata.obs['dpt_pseudotime']\n",
    "metadata['dpt_branch'] = adata.obs['dpt_groups'].astype(int)"
   ]
  },
  {
   "cell_type": "markdown",
   "metadata": {
    "colab_type": "text",
    "id": "uFOglXlOrqaK"
   },
   "source": [
    "### Plotting pseudotime and branch assignments"
   ]
  },
  {
   "cell_type": "code",
   "execution_count": null,
   "metadata": {
    "colab": {},
    "colab_type": "code",
    "id": "eFMNB7JVrqaN"
   },
   "outputs": [],
   "source": [
    "fig, axes = plt.subplots(1,2, figsize=(10,5))\n",
    "\n",
    "ax = scprep.plot.scatter2d(data_phate, c=metadata['dpt'], \n",
    "                           ticks=None, label_prefix='PHATE',\n",
    "                           title='Diffusion Pseudotime',\n",
    "                           ax=axes[0])\n",
    "\n",
    "scprep.plot.scatter2d(data_phate, c=metadata['dpt_branch'], \n",
    "                      ticks=None, label_prefix='PHATE',\n",
    "                      title='DPT branches',\n",
    "                      legend_anchor=(1,1),\n",
    "                      ax=axes[1])\n",
    "\n",
    "fig.tight_layout()"
   ]
  },
  {
   "cell_type": "markdown",
   "metadata": {
    "colab_type": "text",
    "id": "x8_qyzNirqaR"
   },
   "source": [
    "#### Breakpoint: if you're done, help those around you!"
   ]
  },
  {
   "cell_type": "markdown",
   "metadata": {
    "colab_type": "text",
    "id": "IAW_ZX_prqaS"
   },
   "source": [
    "## Plotting clusters by pseudotime"
   ]
  },
  {
   "cell_type": "code",
   "execution_count": null,
   "metadata": {
    "colab": {},
    "colab_type": "code",
    "id": "O1ab-yryrqaT"
   },
   "outputs": [],
   "source": [
    "ax = scprep.plot.jitter(metadata['annotated_clusters'], metadata['dpt'], \n",
    "                        c=metadata['annotated_clusters'], legend_anchor=(1,1), figsize=(8,4))\n",
    "\n",
    "ax.set_xticklabels(ax.get_xticklabels(), rotation=45, ha='right')\n",
    "scprep.plot.utils.shift_ticklabels(ax.xaxis, dx=0.15)"
   ]
  },
  {
   "cell_type": "markdown",
   "metadata": {
    "colab_type": "text",
    "id": "SuKwZmosrqaY"
   },
   "source": [
    "## Comparing DPT vs Slingshot"
   ]
  },
  {
   "cell_type": "code",
   "execution_count": null,
   "metadata": {
    "colab": {},
    "colab_type": "code",
    "id": "06HvpxKirqaZ"
   },
   "outputs": [],
   "source": [
    "# Get all the cells that are on the desired branch.\n",
    "curr_branch = 'slingshot1'\n",
    "mask = np.isfinite(metadata[curr_branch])\n",
    "\n",
    "ax = scprep.plot.scatter(metadata[curr_branch].loc[mask], metadata['dpt'].loc[mask],\n",
    "                         c=metadata['annotated_clusters'].loc[mask],\n",
    "                         title='Slingshot vs. DPT - Branch 1',\n",
    "                         legend_anchor=(1,1))"
   ]
  },
  {
   "cell_type": "code",
   "execution_count": null,
   "metadata": {
    "colab": {},
    "colab_type": "code",
    "id": "onQFi0H_rqag"
   },
   "outputs": [],
   "source": [
    "# Get all the cells that are on the desired branch.\n",
    "curr_branch = 'slingshot2'\n",
    "mask = np.isfinite(metadata[curr_branch])\n",
    "\n",
    "ax = scprep.plot.scatter(metadata[curr_branch].loc[mask], metadata['dpt'].loc[mask],\n",
    "                         c=metadata['annotated_clusters'].loc[mask],\n",
    "                         title='Slingshot vs. DPT - Branch 1',\n",
    "                         legend_anchor=(1,1))"
   ]
  },
  {
   "cell_type": "markdown",
   "metadata": {
    "colab_type": "text",
    "id": "Ll27gJ5yrqak"
   },
   "source": [
    "### Optional - Plotting genes by pseudotime\n",
    "\n",
    "Try plotting genes like `Vim`, `Fn1`, `Ascl1`, `Myl1`, or `Stemn3` against either slingshot or diffusion pseudotime. "
   ]
  },
  {
   "cell_type": "markdown",
   "metadata": {
    "colab_type": "text",
    "id": "LYUTlpkkt75U"
   },
   "source": [
    "### Discussion\n",
    "\n",
    "In groups, discuss the following questions:\n",
    "\n",
    "1. How well do the pseudotime orderings from Slingshot and DPT agree?\n",
    "2. How could you quantify this?\n",
    "3. Notice how there is a gap in pseudotime identified by both methods. Why do you think this happens? Provide both an algorithmic explanation (mathematically why is there a gap) and a biologically plausible explanation (what does this suggest about differentiation)?"
   ]
  }
 ],
 "metadata": {
  "colab": {
   "name": "01_Treutlein_fibroblast_data.ipynb",
   "provenance": []
  },
  "kernelspec": {
   "display_name": "Python 3",
   "language": "python",
   "name": "python3"
  },
  "language_info": {
   "codemirror_mode": {
    "name": "ipython",
    "version": 3
   },
   "file_extension": ".py",
   "mimetype": "text/x-python",
   "name": "python",
   "nbconvert_exporter": "python",
   "pygments_lexer": "ipython3",
   "version": "3.7.3"
  }
 },
 "nbformat": 4,
 "nbformat_minor": 1
}
