{
  "nbformat": 4,
  "nbformat_minor": 0,
  "metadata": {
    "kernelspec": {
      "display_name": "Python 3",
      "language": "python",
      "name": "python3"
    },
    "language_info": {
      "codemirror_mode": {
        "name": "ipython",
        "version": 3
      },
      "file_extension": ".py",
      "mimetype": "text/x-python",
      "name": "python",
      "nbconvert_exporter": "python",
      "pygments_lexer": "ipython3",
      "version": "3.7.3"
    },
    "colab": {
      "name": "01_Treutlein_fibroblast_data.ipynb",
      "provenance": []
    }
  },
  "cells": [
    {
      "cell_type": "code",
      "metadata": {
        "id": "o7oCqlF8rtyO",
        "colab_type": "code",
        "colab": {}
      },
      "source": [
        "!pip install --user scprep phate scanpy anndata"
      ],
      "execution_count": 0,
      "outputs": []
    },
    {
      "cell_type": "code",
      "metadata": {
        "id": "B-sLPG3NrqXG",
        "colab_type": "code",
        "colab": {}
      },
      "source": [
        "import scprep\n",
        "scprep.io.download.download_google_drive('1VuddKA7Xa23NAFKvRUmtuND16eEMHL9z', '/content/r_packages.tar.gz')\n",
        "!tar xzf /content/r_packages.tar.gz && rm /content/r_packages.tar.gz\n",
        "!apt-get install -yqq libgsl-dev=2.4+dfsg-6\n",
        "!pip install -U rpy2\n",
        "!echo \"R_LIBS_USER='/content/.r_packages'\" >> ~/.Renviron"
      ],
      "execution_count": 0,
      "outputs": []
    },
    {
      "cell_type": "code",
      "metadata": {
        "id": "WjBZwP60rqXW",
        "colab_type": "code",
        "colab": {}
      },
      "source": [
        "import pandas as pd\n",
        "import numpy as np\n",
        "import phate\n",
        "import scprep\n",
        "\n",
        "import matplotlib.pyplot as plt\n",
        "import seaborn as sns\n",
        "\n",
        "import time, os, tarfile\n",
        "\n",
        "import anndata, scanpy\n",
        "# matplotlib settings for Jupyter notebooks only\n",
        "%matplotlib inline\n",
        "\n",
        "sns.set_style('ticks')"
      ],
      "execution_count": 0,
      "outputs": []
    },
    {
      "cell_type": "markdown",
      "metadata": {
        "id": "nBIzwnaQrqXf",
        "colab_type": "text"
      },
      "source": [
        "# Comparing trajectory inference algorithms on Treutlein fibroblast data\n",
        "\n",
        "In this exercise, we will run both Diffusion Pseudotime and Slingshot on a dataset of 392 cells generated from trans-differentiating fibroblasts from [Treutlein et al. _Nature_. 2016](http://doi.org/10.1038/nature18323). This data was already preprocessed and downloaded from the [Dynverse quickstart tutorial](https://dynverse.org/users/2-quick_start/).\n",
        "\n",
        "Briefly, a variety of transcription factors were overexpressed in Mouse Embryonic Fibroblasts (MEFs) to induce neuronal differentiation. Cells were sampled at several intervals over 22 days of differentation and sequenced using the Fluidigm C1 system and the SMART-seq protocol.\n",
        "\n",
        "Here, we're doing to work with data that has already been filtered, preprocessed, and normalized so we can get straight to work running trajectory inference algorithms. This preprocessing includes selection of 2000 highly variable genes so the data matrix is 392 cells by 2000 genes.\n",
        "\n",
        "Unlike the previous exercise, we're going to use the Diffusion Psuedotime (DPT) and Slingshot implementations provided by the original authors of each paper. DPT is provided as part of the excellent [Scanpy](https://scanpy.readthedocs.io/en/stable/) single cell analysis toolkit. Slingshot is only available from the R implementation, so we provided a convenience wrapper in `scprep.run`.\n",
        "\n",
        "We're breaking this section into the following parts. First, we'll run Slingshot on the Treutlein data. Next, we'll run diffusion pseudotime and compare the results."
      ]
    },
    {
      "cell_type": "markdown",
      "metadata": {
        "id": "qJwzNDovrqXj",
        "colab_type": "text"
      },
      "source": [
        "## Loading and visualizing the data"
      ]
    },
    {
      "cell_type": "markdown",
      "metadata": {
        "id": "8sEHpf-orqXm",
        "colab_type": "text"
      },
      "source": [
        "#### Download data from Google Drive"
      ]
    },
    {
      "cell_type": "code",
      "metadata": {
        "id": "agDjU_NCrqXo",
        "colab_type": "code",
        "colab": {}
      },
      "source": [
        "home = os.path.expanduser('~')\n",
        "download_path = os.path.join(home, 'scRNAseq', '2014_Treutlein_Fibroblast.tar.gz')\n",
        "\n",
        "if not os.path.exists(os.path.dirname(download_path)):\n",
        "  os.makedirs(os.path.dirname(download_path))\n",
        "\n",
        "# Download the data tarball\n",
        "if not os.path.exists(download_path):\n",
        "    scprep.io.download.download_google_drive('1WzEva0PM95an9hKiwgQydV_df0P_g63Q',download_path)\n",
        "\n",
        "# Extract data directory\n",
        "tf = tarfile.open(download_path)\n",
        "tf.extractall(os.path.dirname(download_path))\n",
        "\n",
        "# Format the data paths\n",
        "data_dir = os.path.join(os.path.dirname(download_path), '2014_Treutlein_Fibroblast_induced_neural_differentation')\n",
        "\n",
        "data_path = os.path.join(data_dir, 'Treutlein.expression.csv')\n",
        "metadata_path  = os.path.join(data_dir, 'Treutlein.groups.csv')"
      ],
      "execution_count": 0,
      "outputs": []
    },
    {
      "cell_type": "markdown",
      "metadata": {
        "id": "T-GEe3O2rqXu",
        "colab_type": "text"
      },
      "source": [
        "#### Read in the data using `pandas`"
      ]
    },
    {
      "cell_type": "code",
      "metadata": {
        "id": "PAYSqgn8rqXy",
        "colab_type": "code",
        "colab": {}
      },
      "source": [
        "data = pd.read_csv(data_path, index_col=0)\n",
        "\n",
        "metadata = pd.read_csv(metadata_path, index_col=0)\n",
        "metadata.columns = pd.Index(['annotated_clusters'])"
      ],
      "execution_count": 0,
      "outputs": []
    },
    {
      "cell_type": "markdown",
      "metadata": {
        "id": "zV3XiAOrrqX5",
        "colab_type": "text"
      },
      "source": [
        "#### Run PHATE"
      ]
    },
    {
      "cell_type": "code",
      "metadata": {
        "id": "qI0kKeXarqX7",
        "colab_type": "code",
        "colab": {}
      },
      "source": [
        "phate_op = phate.PHATE()\n",
        "\n",
        "data_phate = phate_op.fit_transform(data)\n",
        "data_phate = pd.DataFrame(data_phate, index=data.index)"
      ],
      "execution_count": 0,
      "outputs": []
    },
    {
      "cell_type": "code",
      "metadata": {
        "id": "KxRh-QzkrqYK",
        "colab_type": "code",
        "colab": {}
      },
      "source": [
        "scprep.plot.scatter2d(data_phate, c=metadata['annotated_clusters'],\n",
        "                      legend_anchor=(1,1),\n",
        "                      label_prefix='PHATE', ticks=None,\n",
        "                      title='Annotated Clusters',\n",
        "                      figsize=(7,5))"
      ],
      "execution_count": 0,
      "outputs": []
    },
    {
      "cell_type": "markdown",
      "metadata": {
        "id": "IchTyw0VrqYZ",
        "colab_type": "text"
      },
      "source": [
        "## Running Slingshot\n",
        "\n",
        "[Slingshot](https://doi.org/10.1186/s12864-018-4772-0) is a trajectory inference tool that was reported to be among the top-performing trajectory inference algorithms for simple trajectories. The method has five conceptual steps:\n",
        "\n",
        "1. Perform dimensionality reduction on the data (e.g. PCA, PHATE, UMAP)\n",
        "2. Cluster the data\n",
        "3. Create a minimum spanning tree between the data\n",
        "4. Fit principal curves to the data\n",
        "5. Project the data onto the principal curves\n",
        "\n"
      ]
    },
    {
      "cell_type": "markdown",
      "metadata": {
        "id": "HiCXG6mSrqYb",
        "colab_type": "text"
      },
      "source": [
        "### Step 1 - Perform dimensionality reduction\n",
        "\n",
        "We already did this! For now, let's proceed to Step 2.\n",
        "\n",
        "**Bonus** If you have extra time later, try using a different dimensionality reduction algorithm by removing the comments at the beginning of the next code block."
      ]
    },
    {
      "cell_type": "code",
      "metadata": {
        "id": "kmxgjBtJrqYc",
        "colab_type": "code",
        "colab": {}
      },
      "source": [
        "# To run the next two lines, remove the hashtags at the beginning of each line\n",
        "#data_umap = umap.UMAP().fit_transform(data)\n",
        "#data_pca = scprep.reduce.pca(data, n_components=2)"
      ],
      "execution_count": 0,
      "outputs": []
    },
    {
      "cell_type": "markdown",
      "metadata": {
        "id": "UB0UiapcrqYj",
        "colab_type": "text"
      },
      "source": [
        "### Step 2 - Cluster the data\n",
        "\n",
        "Picking the ideal number of clusters here is a little trial and error. Let's try a few different number of clusters and compare."
      ]
    },
    {
      "cell_type": "code",
      "metadata": {
        "id": "MQDQpN32rqYm",
        "colab_type": "code",
        "colab": {}
      },
      "source": [
        "fig, axes = plt.subplots(1,4, figsize=(16,4))\n",
        "\n",
        "ks = [3,4,5,6]\n",
        "for i, ax in enumerate(axes):\n",
        "    k = ks[i]\n",
        "    # Run PHATE clustering\n",
        "    clusters = phate.cluster.kmeans(phate_op, n_clusters=k)\n",
        "    metadata['cluster'] = clusters\n",
        "    scprep.plot.scatter2d(data_phate, c=metadata['cluster'],\n",
        "                     title='n_clusters = {}'.format(k),\n",
        "                     label_prefix='PHATE', ticks=None,\n",
        "                          ax=ax)\n",
        "    \n",
        "fig.tight_layout()"
      ],
      "execution_count": 0,
      "outputs": []
    },
    {
      "cell_type": "markdown",
      "metadata": {
        "id": "JYfbFTLvrqYt",
        "colab_type": "text"
      },
      "source": [
        "#### Pick a number of clusters that looks good to you\n"
      ]
    },
    {
      "cell_type": "code",
      "metadata": {
        "id": "tYmdky0grqYy",
        "colab_type": "code",
        "colab": {}
      },
      "source": [
        "# =========\n",
        "# Set the number of clusters here\n",
        "clusters = phate.cluster.kmeans(phate_op, n_clusters= ?)\n",
        "metadata['cluster'] = clusters\n",
        "# ========="
      ],
      "execution_count": 0,
      "outputs": []
    },
    {
      "cell_type": "code",
      "metadata": {
        "id": "rqSPKsVYrqZE",
        "colab_type": "code",
        "colab": {}
      },
      "source": [
        "scprep.plot.scatter2d(data_phate, c=metadata['cluster'],\n",
        "                 label_prefix='PHATE', ticks=None,\n",
        "                figsize=(5,5))"
      ],
      "execution_count": 0,
      "outputs": []
    },
    {
      "cell_type": "markdown",
      "metadata": {
        "id": "zilyy4lnrqZL",
        "colab_type": "text"
      },
      "source": [
        "### Step 3, 4, 5 - Create the minimum spanning tree, fit principal curves, and project data onto curves\n",
        "\n",
        "These last steps of Slingshot are all performed behind-the-scenes by the Slingshot R package. We're going to leave all of those steps to Slingshot here and access the method using `scprep.run.Slingshot`. You can find the full documentation for the method here: https://scprep.readthedocs.io/en/stable/reference.html#module-scprep.run"
      ]
    },
    {
      "cell_type": "markdown",
      "metadata": {
        "id": "Zw2WwLS8rqZM",
        "colab_type": "text"
      },
      "source": [
        "#### Run `scprep.run.Slingshot()`"
      ]
    },
    {
      "cell_type": "code",
      "metadata": {
        "id": "VhdQAtCJrqZN",
        "colab_type": "code",
        "colab": {}
      },
      "source": [
        "# =======\n",
        "# Reading the documentation for `scprep.run.Slingshot()` \n",
        "# replace the '...' with the correct code.\n",
        "results = scprep.run.Slingshot( ... )\n",
        "\n",
        "# ======="
      ],
      "execution_count": 0,
      "outputs": []
    },
    {
      "cell_type": "markdown",
      "metadata": {
        "id": "5M4O3xn2rqZW",
        "colab_type": "text"
      },
      "source": [
        "#### Grab output from `results` dictionary"
      ]
    },
    {
      "cell_type": "code",
      "metadata": {
        "id": "xPPCG98ErqZY",
        "colab_type": "code",
        "colab": {}
      },
      "source": [
        "pseudotime = results['pseudotime']\n",
        "metadata['slingshot1'] = pseudotime.iloc[:,0]\n",
        "metadata['slingshot2'] = pseudotime.iloc[:,1]\n",
        "\n",
        "metadata['slingshot_branch'] = results['branch']"
      ],
      "execution_count": 0,
      "outputs": []
    },
    {
      "cell_type": "markdown",
      "metadata": {
        "id": "yiSmEjCMrqZc",
        "colab_type": "text"
      },
      "source": [
        "#### Plotting the principal curves\n"
      ]
    },
    {
      "cell_type": "code",
      "metadata": {
        "id": "_n6oXc7RrqZe",
        "colab_type": "code",
        "colab": {}
      },
      "source": [
        "ax = scprep.plot.scatter2d(data_phate, c=metadata['slingshot_branch'],\n",
        "                 label_prefix='PHATE', ticks=None,\n",
        "                 title='Slingshot Principal Curves',\n",
        "                 figsize=(5,5))\n",
        "\n",
        "# `results['curves']` returns as tensor (an array of arrays)\n",
        "# Each array contains coordinates for the curves in the dimensionality reduced space\n",
        "for curve in results['curves']:\n",
        "    ax.plot(curve[:,0], curve[:,1], c='k', linewidth=3)"
      ],
      "execution_count": 0,
      "outputs": []
    },
    {
      "cell_type": "markdown",
      "metadata": {
        "id": "CBG9Gq1_rqZl",
        "colab_type": "text"
      },
      "source": [
        "### Plotting branch pseudotime"
      ]
    },
    {
      "cell_type": "code",
      "metadata": {
        "id": "NAvSgsoJrqZn",
        "colab_type": "code",
        "colab": {}
      },
      "source": [
        "fig, axes = plt.subplots(1,2, figsize=(11,5))\n",
        "\n",
        "for i, ax in enumerate(axes):\n",
        "    curr_pseudotime = metadata['slingshot{}'.format(i+1)]\n",
        "    m = ~pd.isnull(curr_pseudotime)\n",
        "    # plot null points as grey\n",
        "    scprep.plot.scatter2d(data_phate[~m], color='grey', s=10,\n",
        "                          ax=ax)    \n",
        "    # plot points on branch\n",
        "    scprep.plot.scatter2d(data_phate[m], c=curr_pseudotime[m], s=10,\n",
        "                         label_prefix='PHATE', ticks=None,\n",
        "                          title='Branch {}'.format(i + 1),\n",
        "                          ax=ax)\n",
        "    \n",
        "fig.tight_layout()"
      ],
      "execution_count": 0,
      "outputs": []
    },
    {
      "cell_type": "markdown",
      "metadata": {
        "id": "DVSTbNg1rqZt",
        "colab_type": "text"
      },
      "source": [
        "### Plotting clusters by pseudotime\n",
        "\n",
        "Now we can do something interesting, like figure out the developmental ordering of the various cell types characterized in the `annotated_clusters` metadata variable.\n",
        "\n",
        "To plot clusters by pseudotime, we're going to use `scprep.plot.jitterplot()`. Jitterplots are a kind of scatter plot useful for comparing the distribution of values within various classes of data. They are related to `sns.violinplot` and `sns.swarmplot`, but can be plotted much more quickly because the noise on the x-dimension is random Normal.\n",
        "\n",
        "The grey circles in the center of each column are the means for those classes.\n",
        "\n",
        "`scprep.plot.jitterplot` API: https://scprep.readthedocs.io/en/stable/reference.html#module-scprep.plot  \n",
        "Jitterplot gallery: https://scprep.readthedocs.io/en/stable/examples/jitter.html"
      ]
    },
    {
      "cell_type": "code",
      "metadata": {
        "id": "unHRc9TVrqZu",
        "colab_type": "code",
        "colab": {}
      },
      "source": [
        "# Get all the cells that are on the desired branch.\n",
        "curr_branch = 'slingshot1'\n",
        "mask = ~pd.isnull(metadata[curr_branch])\n",
        "\n",
        "# Create Jitterplot\n",
        "ax = scprep.plot.jitter(metadata['annotated_clusters'].loc[mask], metadata[curr_branch].loc[mask],\n",
        "                       c=metadata['annotated_clusters'].loc[mask], legend_anchor=(1,1),\n",
        "                        means_s=50,\n",
        "                       figsize=(8,4))\n",
        "\n",
        "# Neaten xticklabels\n",
        "ax.set_xticklabels(ax.get_xticklabels(), rotation=45, ha='right')\n",
        "scprep.plot.utils.shift_ticklabels(ax.xaxis, dx=0.15)"
      ],
      "execution_count": 0,
      "outputs": []
    },
    {
      "cell_type": "code",
      "metadata": {
        "id": "PaAsbA6jrqZz",
        "colab_type": "code",
        "colab": {}
      },
      "source": [
        "# Get all the cells that are on the desired branch.\n",
        "curr_branch = 'slingshot2'\n",
        "mask = ~pd.isnull(metadata[curr_branch])\n",
        "\n",
        "# Create Jitterplot\n",
        "ax = scprep.plot.jitter(metadata['annotated_clusters'].loc[mask], metadata[curr_branch].loc[mask],\n",
        "                       c=metadata['annotated_clusters'].loc[mask], legend_anchor=(1,1),\n",
        "                        means_s=50,\n",
        "                       figsize=(8,4))\n",
        "\n",
        "# Neaten xticklabels\n",
        "ax.set_xticklabels(ax.get_xticklabels(), rotation=45, ha='right')\n",
        "scprep.plot.utils.shift_ticklabels(ax.xaxis, dx=0.15)"
      ],
      "execution_count": 0,
      "outputs": []
    },
    {
      "cell_type": "markdown",
      "metadata": {
        "id": "3MOUGGQ5vARy",
        "colab_type": "text"
      },
      "source": [
        "### Dicsussion\n",
        "\n",
        "Each pair per table should:\n",
        "1. Pick a different dimensionality reduction method (UMAP, t-SNE, or PCA).\n",
        "2. Pick a different clustering method (see earleir exercises for code).\n",
        "3. Rerun Slingshot\n",
        "4. Compare results\n",
        "\n",
        "In groups, discuss the following questions:\n",
        "1. Do these orderings make sense given the cluster labels? Why?\n",
        "2. How does choice of dimensionality reduction tool affect the output of Slingshot?\n",
        "3. Does choice of dimensionality reduction tool or cluster method have more impact on output?"
      ]
    },
    {
      "cell_type": "markdown",
      "metadata": {
        "id": "9xPb4IoNrqZ-",
        "colab_type": "text"
      },
      "source": [
        "#### Breakpoint: if you're done, help those around you!"
      ]
    },
    {
      "cell_type": "markdown",
      "metadata": {
        "id": "s2gmjOjirqaA",
        "colab_type": "text"
      },
      "source": [
        "## Running Diffusion Pseudotime\n",
        "\n",
        "In this section, we're going to use the diffusion pseudotime algorithm implemented in `scanpy`, a scRNA-seq analysis toolkit from Alex Wolf and the Theis Lab. The Theis lab were the inventors of the algorithm, so we're going to use their implementation to provide a comparison to Slingshot. As this MEF dataset is fairly simply, we don't expect to see huge differences between the algorithms. \n",
        "\n",
        "Because `scanpy` is a Python package, we can just use their code directly. The documentation for the `scanpy.tl.dpt` function can be found here: https://icb-scanpy.readthedocs-hosted.com/en/stable/api/scanpy.api.tl.dpt.html."
      ]
    },
    {
      "cell_type": "markdown",
      "metadata": {
        "id": "zvHdkDUprqaB",
        "colab_type": "text"
      },
      "source": [
        "#### About the  `AnnData` object\n",
        "\n",
        "All of the `scanpy` functions expect data to be organized in an `AnnData` object. The idea behind `AnnData` is to have a single container for all of the data and metadata associated with a single cell experiment. The `AnnData` class is useful and flexible. We don't use the `AnnData` class elsewhere in the workshop because we prefer to directly interact with Pandas `DataFrame` objects which are a more generic data container. The `DataFrame` is a useful data container for almost any kind of data one might work with, while `AnnData` is designed around gene expression data.\n",
        "\n",
        "You very well may find that you prefer working with `AnnData` objects because of the handy single-cell functionality built into `scanpy`. If you want to learn more about them, check out the official `AnnData` documentation here: https://anndata.readthedocs.io."
      ]
    },
    {
      "cell_type": "markdown",
      "metadata": {
        "id": "l_tofbHGrqaC",
        "colab_type": "text"
      },
      "source": [
        "### Running DPT\n",
        "\n",
        "The workflow here is fairly simple. We're going to put the data in an `Anndata` container, run PCA, calculate NearestNeighbors, and DiffusionMaps. With that done, we are ready to run DPT."
      ]
    },
    {
      "cell_type": "code",
      "metadata": {
        "id": "dpDZxNkIrqaD",
        "colab_type": "code",
        "colab": {}
      },
      "source": [
        "# Here we create an AnnData container\n",
        "adata = anndata.AnnData(data)\n",
        "\n",
        "# DPT requires a root cell, depending on the orientation of your\n",
        "# plot, you should be able to use the cell with the highest \n",
        "# data_phate[:,0] coordinate\n",
        "adata.uns['iroot'] = np.argmax(data_phate.iloc[:,0].values)\n",
        "\n",
        "# Run PCA\n",
        "scanpy.pp.pca(adata)\n",
        "\n",
        "# Identify nearest neighbors\n",
        "scanpy.pp.neighbors(adata)\n",
        "\n",
        "# Create the diffusion map\n",
        "scanpy.tl.diffmap(adata)\n",
        "\n",
        "# Run Diffusion Pseudotime with 1 branching event\n",
        "scanpy.tl.dpt(adata, n_branchings=1)\n",
        "\n",
        "# Grab the output and store in our metadata DataFrame\n",
        "metadata['dpt'] = adata.obs['dpt_pseudotime']\n",
        "metadata['dpt_branch'] = adata.obs['dpt_groups'].astype(int)"
      ],
      "execution_count": 0,
      "outputs": []
    },
    {
      "cell_type": "markdown",
      "metadata": {
        "id": "uFOglXlOrqaK",
        "colab_type": "text"
      },
      "source": [
        "### Plotting pseudotime and branch assignments"
      ]
    },
    {
      "cell_type": "code",
      "metadata": {
        "id": "eFMNB7JVrqaN",
        "colab_type": "code",
        "colab": {}
      },
      "source": [
        "fig, axes = plt.subplots(1,2, figsize=(10,5))\n",
        "\n",
        "ax = scprep.plot.scatter2d(data_phate, c=metadata['dpt'], \n",
        "                           ticks=None, label_prefix='PHATE',\n",
        "                           title='Diffusion Pseudotime',\n",
        "                           ax=axes[0])\n",
        "\n",
        "scprep.plot.scatter2d(data_phate, c=metadata['dpt_branch'], \n",
        "                      ticks=None, label_prefix='PHATE',\n",
        "                      title='DPT branches',\n",
        "                      legend_anchor=(1,1),\n",
        "                     ax=axes[1])\n",
        "\n",
        "fig.tight_layout()"
      ],
      "execution_count": 0,
      "outputs": []
    },
    {
      "cell_type": "markdown",
      "metadata": {
        "id": "x8_qyzNirqaR",
        "colab_type": "text"
      },
      "source": [
        "#### Breakpoint: if you're done, help those around you!"
      ]
    },
    {
      "cell_type": "markdown",
      "metadata": {
        "id": "IAW_ZX_prqaS",
        "colab_type": "text"
      },
      "source": [
        "## Plotting clusters by pseudotime"
      ]
    },
    {
      "cell_type": "code",
      "metadata": {
        "id": "O1ab-yryrqaT",
        "colab_type": "code",
        "colab": {}
      },
      "source": [
        "ax = scprep.plot.jitter(metadata['annotated_clusters'], metadata['dpt'], \n",
        "                        c=metadata['annotated_clusters'], legend_anchor=(1,1))\n",
        "\n",
        "ax.set_xticklabels(ax.get_xticklabels(), rotation=45, ha='right')\n",
        "scprep.plot.utils.shift_ticklabels(ax.xaxis, dx=0.15)"
      ],
      "execution_count": 0,
      "outputs": []
    },
    {
      "cell_type": "markdown",
      "metadata": {
        "id": "SuKwZmosrqaY",
        "colab_type": "text"
      },
      "source": [
        "## Comparing DPT vs Slingshot"
      ]
    },
    {
      "cell_type": "code",
      "metadata": {
        "id": "06HvpxKirqaZ",
        "colab_type": "code",
        "colab": {}
      },
      "source": [
        "# Get all the cells that are on the desired branch.\n",
        "curr_branch = 'slingshot1'\n",
        "mask = ~pd.isnull(metadata[curr_branch])\n",
        "\n",
        "ax = scprep.plot.scatter(metadata[curr_branch].loc[mask], metadata['dpt'].loc[mask],\n",
        "                        c=metadata['annotated_clusters'].loc[mask],\n",
        "                         title='Slingshot vs. DPT - Branch 1',\n",
        "                        legend_anchor=(1,1))"
      ],
      "execution_count": 0,
      "outputs": []
    },
    {
      "cell_type": "code",
      "metadata": {
        "id": "onQFi0H_rqag",
        "colab_type": "code",
        "colab": {}
      },
      "source": [
        "# Get all the cells that are on the desired branch.\n",
        "curr_branch = 'slingshot2'\n",
        "mask = ~pd.isnull(metadata[curr_branch])\n",
        "\n",
        "ax = scprep.plot.scatter(metadata[curr_branch].loc[mask], metadata['dpt'].loc[mask],\n",
        "                        c=metadata['annotated_clusters'].loc[mask],\n",
        "                         title='Slingshot vs. DPT - Branch 1',\n",
        "                        legend_anchor=(1,1))"
      ],
      "execution_count": 0,
      "outputs": []
    },
    {
      "cell_type": "markdown",
      "metadata": {
        "id": "Ll27gJ5yrqak",
        "colab_type": "text"
      },
      "source": [
        "### Optional - Plotting genes by pseudotime\n",
        "\n",
        "Try plotting genes like `Vim`, `Fn1`, `Ascl1`, `Myl1`, or `Stemn3` against either slingshot or diffusion pseudotime. "
      ]
    },
    {
      "cell_type": "markdown",
      "metadata": {
        "id": "LYUTlpkkt75U",
        "colab_type": "text"
      },
      "source": [
        "### Discussion\n",
        "\n",
        "In groups, discuss the following questions:\n",
        "\n",
        "1. How well do the pseudotime orderings from Slingshot and DPT agree?\n",
        "2. How could you quantify this?\n",
        "3. Notice how there is a gap in pseudotime identified by both methods. Why do you think this happens? Provide both an algorithmic explanation (mathematically why is there a gap) and a biologically plausible explanation (what does this suggest about differentiation)?"
      ]
    },
    {
      "cell_type": "markdown",
      "metadata": {
        "id": "_16WoRSSrqal",
        "colab_type": "text"
      },
      "source": [
        "#### Breakpoint - Help others around you if you're done!"
      ]
    }
  ]
}