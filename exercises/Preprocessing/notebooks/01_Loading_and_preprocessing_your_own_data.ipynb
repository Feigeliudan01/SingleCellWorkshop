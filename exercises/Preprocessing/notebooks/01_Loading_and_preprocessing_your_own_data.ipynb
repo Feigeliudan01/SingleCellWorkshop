{
  "nbformat": 4,
  "nbformat_minor": 0,
  "metadata": {
    "colab": {
      "name": "01_preprocessing.ipynb",
      "provenance": [],
      "collapsed_sections": []
    },
    "kernelspec": {
      "display_name": "Python 3",
      "language": "python",
      "name": "python3"
    },
    "language_info": {
      "codemirror_mode": {
        "name": "ipython",
        "version": 3
      },
      "file_extension": ".py",
      "mimetype": "text/x-python",
      "name": "python",
      "nbconvert_exporter": "python",
      "pygments_lexer": "ipython3",
      "version": "3.7.3"
    }
  },
  "cells": [
    {
      "cell_type": "markdown",
      "metadata": {
        "colab_type": "text",
        "id": "ReoBzap1acVv"
      },
      "source": [
        "# Loading and preprocessing your own data\n",
        "\n",
        "In this tutorial, we demonstrate how to process your own dataset for later analysis on Google Colab.\n",
        "\n",
        "We review the following steps:\n",
        "\n",
        "1. Loading your own data  \n",
        "2. Filtering\n",
        "3. Normalization\n",
        "4. Transformation"
      ]
    },
    {
      "cell_type": "markdown",
      "metadata": {
        "id": "cZZOws5li73K",
        "colab_type": "text"
      },
      "source": [
        "## 0. Introducing `scprep`\n",
        "\n",
        "`scprep` is a lightweight scRNA-seq toolkit for Python Data Scientists.\n",
        "\n",
        "Most scRNA-seq toolkits are written in R (the most famous being [Seurat](https://satijalab.org/seurat/)), but we (and a majority of machine learning / data scientists) develop our tools in Python. Currently, [Scanpy](https://icb-scanpy.readthedocs-hosted.com/en/stable/) is the most popular toolkit for scRNA-seq analysis in Python. However, Scanpy has a highly structured framework for data representation that is incompatible with the bulk of the Python data science framework, e.g. [pandas](https://pandas.pydata.org/), [SciPy](https://www.scipy.org/), and [scikit-learn](https://scikit-learn.org/stable/).\n",
        "\n",
        "To accommodate users of the wider Python data analysis ecosystem, we developed `scprep` (<b>s</b>ingle <b>c</b>ell <b>prep</b>aration). `scprep` makes it easier to use the pandas / SciPy / scikit-learn ecosystem for scRNA-seq analysis. Most of `scprep` is composed of helper functions to perform tasks common to single cell data like loading counts matrices, filtering & normalizing cells by library size, and calculating common statistics. The key advantage of `scprep` is that data can be stored in Pandas DataFrames, NumPy arrays, Scipy sparse matrices, and no matter which tools you choose to interface with, _it just works_.\n",
        "\n",
        "To learn more about `scprep`, you can read the documentation at https://scprep.readthedocs.io/."
      ]
    },
    {
      "cell_type": "markdown",
      "metadata": {
        "colab_type": "text",
        "id": "oBJb_vVW1ONw"
      },
      "source": [
        "## 1. Install tools\n",
        "\n",
        "To run this notebook, you need to download a couple of packages. Unfortunately, due to restrictions of Google CoLab, these installations won't be saved. A workaround can be found at the following link if you're interested: https://stackoverflow.com/questions/52582858/saving-pip-installs-in-google-colab\n",
        "\n",
        "For now, simply run the following line of code by clicking on the code cell and hit `Shift` + `Enter`.\n",
        "\n",
        "**Once the installation has finished** (you should see `Succcessfully installed ...` on the last line), go to `Runtime -> Restart Runtime` from the menubar at the top of the page.\n",
        "\n",
        "After restarting, there's no need to run the `!pip install` block again.\n",
        "\n"
      ]
    },
    {
      "cell_type": "code",
      "metadata": {
        "colab_type": "code",
        "id": "RUZx-nc_1Mdr",
        "outputId": "fdff4e34-dae1-4371-85f7-6cf2aeeccc42",
        "colab": {
          "base_uri": "https://localhost:8080/",
          "height": 333
        }
      },
      "source": [
        "!pip install --user scprep tasklogger"
      ],
      "execution_count": 5,
      "outputs": [
        {
          "output_type": "stream",
          "text": [
            "Collecting scprep\n",
            "\u001b[?25l  Downloading https://files.pythonhosted.org/packages/74/24/242b0903bf0dbfb2e9e6245317ef5597f5b7252684826a6a9100adcfbb8e/scprep-1.0.4-py3-none-any.whl (96kB)\n",
            "\r\u001b[K     |███▍                            | 10kB 19.3MB/s eta 0:00:01\r\u001b[K     |██████▊                         | 20kB 1.7MB/s eta 0:00:01\r\u001b[K     |██████████▏                     | 30kB 2.5MB/s eta 0:00:01\r\u001b[K     |█████████████▌                  | 40kB 1.7MB/s eta 0:00:01\r\u001b[K     |█████████████████               | 51kB 2.1MB/s eta 0:00:01\r\u001b[K     |████████████████████▎           | 61kB 2.4MB/s eta 0:00:01\r\u001b[K     |███████████████████████▊        | 71kB 2.8MB/s eta 0:00:01\r\u001b[K     |███████████████████████████     | 81kB 2.2MB/s eta 0:00:01\r\u001b[K     |██████████████████████████████▌ | 92kB 2.5MB/s eta 0:00:01\r\u001b[K     |████████████████████████████████| 102kB 2.3MB/s \n",
            "\u001b[?25hCollecting tasklogger\n",
            "  Downloading https://files.pythonhosted.org/packages/5d/6b/cb2a724eff19829a0ada0217f403f54fca1e48c7de6fc3383e0a8b8fa121/tasklogger-1.0.0-py3-none-any.whl\n",
            "Requirement already satisfied: scipy>=0.18.1 in /usr/local/lib/python3.6/dist-packages (from scprep) (1.4.1)\n",
            "Requirement already satisfied: numpy>=1.12.0 in /usr/local/lib/python3.6/dist-packages (from scprep) (1.18.3)\n",
            "Requirement already satisfied: scikit-learn>=0.19.1 in /usr/local/lib/python3.6/dist-packages (from scprep) (0.22.2.post1)\n",
            "Requirement already satisfied: pandas>=0.25 in /usr/local/lib/python3.6/dist-packages (from scprep) (1.0.3)\n",
            "Requirement already satisfied: decorator>=4.3.0 in /usr/local/lib/python3.6/dist-packages (from scprep) (4.4.2)\n",
            "Requirement already satisfied: future in /usr/local/lib/python3.6/dist-packages (from tasklogger) (0.16.0)\n",
            "Requirement already satisfied: joblib>=0.11 in /usr/local/lib/python3.6/dist-packages (from scikit-learn>=0.19.1->scprep) (0.14.1)\n",
            "Requirement already satisfied: pytz>=2017.2 in /usr/local/lib/python3.6/dist-packages (from pandas>=0.25->scprep) (2018.9)\n",
            "Requirement already satisfied: python-dateutil>=2.6.1 in /usr/local/lib/python3.6/dist-packages (from pandas>=0.25->scprep) (2.8.1)\n",
            "Requirement already satisfied: six>=1.5 in /usr/local/lib/python3.6/dist-packages (from python-dateutil>=2.6.1->pandas>=0.25->scprep) (1.12.0)\n",
            "Installing collected packages: scprep, tasklogger\n",
            "Successfully installed scprep-1.0.4 tasklogger-1.0.0\n"
          ],
          "name": "stdout"
        }
      ]
    },
    {
      "cell_type": "markdown",
      "metadata": {
        "colab_type": "text",
        "id": "XUF17reyacVy"
      },
      "source": [
        "<a id='loading'></a>\n",
        "## 2. Loading your own data\n",
        "\n",
        "To run the tutorials with your own data, we will upload it to Google Colab and apply the preprocessing once. Then you can upload your processed data in each notebook instead of using the provided dataset."
      ]
    },
    {
      "cell_type": "code",
      "metadata": {
        "id": "3yQo0oAejTTR",
        "colab_type": "code",
        "colab": {
          "resources": {
            "http://localhost:8080/nbextensions/google.colab/files.js": {
              "data": "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",
              "ok": true,
              "headers": [
                [
                  "content-type",
                  "application/javascript"
                ]
              ],
              "status": 200,
              "status_text": "OK"
            }
          },
          "base_uri": "https://localhost:8080/",
          "height": 271
        },
        "outputId": "0848ed4e-fe96-4ca7-de7a-7c8b9bbdcff7"
      },
      "source": [
        "from google.colab import files\n",
        "uploaded_file = files.upload()\n",
        "filename = list(uploaded_file.keys())[0]"
      ],
      "execution_count": 4,
      "outputs": [
        {
          "output_type": "display_data",
          "data": {
            "text/html": [
              "\n",
              "     <input type=\"file\" id=\"files-531b2f03-73d7-4448-95e5-3b534f671149\" name=\"files[]\" multiple disabled />\n",
              "     <output id=\"result-531b2f03-73d7-4448-95e5-3b534f671149\">\n",
              "      Upload widget is only available when the cell has been executed in the\n",
              "      current browser session. Please rerun this cell to enable.\n",
              "      </output>\n",
              "      <script src=\"/nbextensions/google.colab/files.js\"></script> "
            ],
            "text/plain": [
              "<IPython.core.display.HTML object>"
            ]
          },
          "metadata": {
            "tags": []
          }
        },
        {
          "output_type": "stream",
          "text": [
            "Saving image.png to image (1).png\n"
          ],
          "name": "stdout"
        },
        {
          "output_type": "error",
          "ename": "TypeError",
          "evalue": "ignored",
          "traceback": [
            "\u001b[0;31m---------------------------------------------------------------------------\u001b[0m",
            "\u001b[0;31mTypeError\u001b[0m                                 Traceback (most recent call last)",
            "\u001b[0;32m<ipython-input-4-faf34022fde5>\u001b[0m in \u001b[0;36m<module>\u001b[0;34m()\u001b[0m\n\u001b[1;32m      1\u001b[0m \u001b[0;32mfrom\u001b[0m \u001b[0mgoogle\u001b[0m\u001b[0;34m.\u001b[0m\u001b[0mcolab\u001b[0m \u001b[0;32mimport\u001b[0m \u001b[0mfiles\u001b[0m\u001b[0;34m\u001b[0m\u001b[0;34m\u001b[0m\u001b[0m\n\u001b[1;32m      2\u001b[0m \u001b[0muploaded_file\u001b[0m \u001b[0;34m=\u001b[0m \u001b[0mfiles\u001b[0m\u001b[0;34m.\u001b[0m\u001b[0mupload\u001b[0m\u001b[0;34m(\u001b[0m\u001b[0;34m)\u001b[0m\u001b[0;34m\u001b[0m\u001b[0;34m\u001b[0m\u001b[0m\n\u001b[0;32m----> 3\u001b[0;31m \u001b[0mfilename\u001b[0m \u001b[0;34m=\u001b[0m \u001b[0muploaded_file\u001b[0m\u001b[0;34m.\u001b[0m\u001b[0mkeys\u001b[0m\u001b[0;34m(\u001b[0m\u001b[0;34m)\u001b[0m\u001b[0;34m[\u001b[0m\u001b[0;36m0\u001b[0m\u001b[0;34m]\u001b[0m\u001b[0;34m\u001b[0m\u001b[0;34m\u001b[0m\u001b[0m\n\u001b[0m",
            "\u001b[0;31mTypeError\u001b[0m: 'dict_keys' object does not support indexing"
          ]
        }
      ]
    },
    {
      "cell_type": "markdown",
      "metadata": {
        "colab_type": "text",
        "id": "AaPgko5lacWp"
      },
      "source": [
        "### Using `scprep` to import data into Pandas DataFrames\n",
        "\n",
        "\n",
        "We use a toolkit for loading and manipulating single-cell data called `scprep`. The functions in [`scprep.io`](https://scprep.readthedocs.io/en/stable/reference.html#module-scprep.io) will automatically load most single-cell datasets into a Pandas DataFrame. DataFrames are incredibly useful tools for data analysis in Python. To learn more about them, [check out the Pandas Documentation and Tutorials](https://pandas.pydata.org/pandas-docs/stable/).\n",
        "\n",
        "\n",
        "Let's load the data and create a single matrix that we can use for preprocessing, visualization, and analysis."
      ]
    },
    {
      "cell_type": "code",
      "metadata": {
        "id": "rinT1SUmlj64",
        "colab_type": "code",
        "colab": {}
      },
      "source": [
        "import scprep"
      ],
      "execution_count": 0,
      "outputs": []
    },
    {
      "cell_type": "markdown",
      "metadata": {
        "id": "BTNNT3_zkOHw",
        "colab_type": "text"
      },
      "source": [
        "#### Loading 10X data (zipped folder)\n",
        "\n",
        "Typically, 10X count matrices are stored in a folder containing `matrix.mtx.gz`, `features.tsv.gz` and `barcodes.tsv.gz`. To upload these to Google Colab, you will need to compress these three files (add them to a `.zip` archive) and upload the zipped folder. It does not need to be decompressed to load it with `scprep`.\n"
      ]
    },
    {
      "cell_type": "code",
      "metadata": {
        "id": "OoeA3VklkT_9",
        "colab_type": "code",
        "colab": {}
      },
      "source": [
        "data = scprep.io.load_10X_zip(filename)\n",
        "data.head()"
      ],
      "execution_count": 0,
      "outputs": []
    },
    {
      "cell_type": "markdown",
      "metadata": {
        "id": "ORPK6b71kfsI",
        "colab_type": "text"
      },
      "source": [
        "#### Loading 10X data (HDF5)\n",
        "\n",
        "Sometimes, 10X count matrices are stored in a HDF5 (or H5) file, a hierarchical file structure with native compression. You can upload and read this file directly."
      ]
    },
    {
      "cell_type": "code",
      "metadata": {
        "id": "YCnh6RQHj7dL",
        "colab_type": "code",
        "colab": {}
      },
      "source": [
        "data = scprep.io.load_10X_HDF5(filename)\n",
        "data.head()"
      ],
      "execution_count": 0,
      "outputs": []
    },
    {
      "cell_type": "markdown",
      "metadata": {
        "id": "SvNOh4BJkmg9",
        "colab_type": "text"
      },
      "source": [
        "#### Loading text data (csv/tsv/txt)\n",
        "\n",
        "Most other data formats are text-based, meaning the gene expression values are stored in plain text separated by a special character, usually a comma or a tab. You may also see a compressed version of these (most often `.csv.gz`), which do not need to be decompressed before loading with `scprep`."
      ]
    },
    {
      "cell_type": "code",
      "metadata": {
        "id": "T27JQGoRkoRd",
        "colab_type": "code",
        "colab": {}
      },
      "source": [
        "data = scprep.io.load_csv(filename, cell_axis='row', sparse=True)\n",
        "# or, if your data is tab-spaced\n",
        "# data = scprep.io.load_tsv(filename, cell_axis='row', sparse=True)\n",
        "data.head()"
      ],
      "execution_count": 0,
      "outputs": []
    },
    {
      "cell_type": "markdown",
      "metadata": {
        "id": "5c-w_RtVk3HK",
        "colab_type": "text"
      },
      "source": [
        "Your data should have cell barcodes on the rows and genes on the columns. If you see the opposite of this, you should switch the `cell_axis` argument in the data loading function call and run it again."
      ]
    },
    {
      "cell_type": "markdown",
      "metadata": {
        "id": "EB4WqfC7nAw6",
        "colab_type": "text"
      },
      "source": [
        "#### Loading other data\n",
        "\n",
        "If your data is not of any of the above formats, please feel free to ask for help in how to load it."
      ]
    },
    {
      "cell_type": "markdown",
      "metadata": {
        "id": "1a2NhqZdoK0U",
        "colab_type": "text"
      },
      "source": [
        "### Dealing with multiple data files\n",
        "\n",
        "More complex single-cell datasets will often involve more than one file, for example in time-course experiments. In this case, we will combine each of the datasets in a list. Give the first data file we uploaded an appropriate batch name in the cell below.\n",
        "\n",
        "If you only have one data file, skip to section 2.1."
      ]
    },
    {
      "cell_type": "code",
      "metadata": {
        "id": "ruJhHpZOo8SC",
        "colab_type": "code",
        "colab": {}
      },
      "source": [
        "# =============\n",
        "# Give your first batch an appropriate name\n",
        "first_batch_label = # Fill in the batch name, e.g. \"Control\"\n",
        "# =============\n",
        "\n",
        "data = [data]\n",
        "batch_labels = [first_batch_label]"
      ],
      "execution_count": 0,
      "outputs": []
    },
    {
      "cell_type": "markdown",
      "metadata": {
        "id": "--gTavYEpHxl",
        "colab_type": "text"
      },
      "source": [
        "Run the cell below once for every file in your dataset, changing the batch name each time."
      ]
    },
    {
      "cell_type": "code",
      "metadata": {
        "id": "ic8hns_8owYF",
        "colab_type": "code",
        "colab": {}
      },
      "source": [
        "# Upload the file\n",
        "from google.colab import files\n",
        "uploaded_file = files.upload()\n",
        "filename = list(uploaded_file.keys())[0]\n",
        "\n",
        "# =============\n",
        "# Load your data with the appropriate `io` function\n",
        "next_data = scprep.io. # fill in the load function, e.g. scprep.io.load_10X_zip(filename)\n",
        "next_batch_label = # fill in the batch name, e.g. \"Mutant\"\n",
        "# =============\n",
        "\n",
        "data.append(next_data)\n",
        "batch_labels.append(next_batch_label)"
      ],
      "execution_count": 0,
      "outputs": []
    },
    {
      "cell_type": "markdown",
      "metadata": {
        "id": "OM872o90qGnI",
        "colab_type": "text"
      },
      "source": [
        "Now, we can combine our datasets into a single combined data matrix. If you wish, you may first apply library size filtering to each batch individually, as described in section 2.3, but this is not strictly necessary."
      ]
    },
    {
      "cell_type": "code",
      "metadata": {
        "id": "A4xtHCf_qF_V",
        "colab_type": "code",
        "colab": {}
      },
      "source": [
        "data, sample_labels = scprep.utils.combine_batches(data, batch_labels)"
      ],
      "execution_count": 0,
      "outputs": []
    },
    {
      "cell_type": "markdown",
      "metadata": {
        "colab_type": "text",
        "id": "8UwGtjtSacWx"
      },
      "source": [
        "### 2.1. Standard imports\n",
        "\n",
        "We'll import these few packages at the beginning of nearly every session."
      ]
    },
    {
      "cell_type": "code",
      "metadata": {
        "colab_type": "code",
        "id": "xHNATT38acWz",
        "colab": {}
      },
      "source": [
        "import pandas as pd\n",
        "import numpy as np\n",
        "import scprep\n",
        "\n",
        "import matplotlib.pyplot as plt\n",
        "\n",
        "# matplotlib settings for Jupyter notebooks only\n",
        "%matplotlib inline"
      ],
      "execution_count": 0,
      "outputs": []
    },
    {
      "cell_type": "markdown",
      "metadata": {
        "id": "nHLnCfKri74E",
        "colab_type": "text"
      },
      "source": [
        "#### Understanding the data matrix\n",
        "\n",
        "How big is our matrix? We can find out with `data.shape`."
      ]
    },
    {
      "cell_type": "code",
      "metadata": {
        "id": "Z40ZJK9Ri74F",
        "colab_type": "code",
        "colab": {}
      },
      "source": [
        "data.shape"
      ],
      "execution_count": 0,
      "outputs": []
    },
    {
      "cell_type": "markdown",
      "metadata": {
        "id": "b42rRXFLi74L",
        "colab_type": "text"
      },
      "source": [
        "Most Python data analysis techniques handle a single data matrix with rows (cells) and columns (genes). In Pandas DataFrames, each row and column has a name associated with it."
      ]
    },
    {
      "cell_type": "markdown",
      "metadata": {
        "id": "FPAy3eBOi74M",
        "colab_type": "text"
      },
      "source": [
        "The _columns_ refer to the genes, of features of the data. `data.columns` gives these as a list."
      ]
    },
    {
      "cell_type": "code",
      "metadata": {
        "id": "p5mr720Pi74O",
        "colab_type": "code",
        "colab": {}
      },
      "source": [
        "data.columns"
      ],
      "execution_count": 0,
      "outputs": []
    },
    {
      "cell_type": "markdown",
      "metadata": {
        "id": "PQ7Cr9gwi74V",
        "colab_type": "text"
      },
      "source": [
        "The _rows_ refer to the cells, of observations of the data. `data.index` gives these as a list."
      ]
    },
    {
      "cell_type": "code",
      "metadata": {
        "id": "QBCkUH31i74W",
        "colab_type": "code",
        "colab": {}
      },
      "source": [
        "data.index"
      ],
      "execution_count": 0,
      "outputs": []
    },
    {
      "cell_type": "markdown",
      "metadata": {
        "id": "VAnf7DOIi74c",
        "colab_type": "text"
      },
      "source": [
        "Note that some tools expect the opposite: that genes would be on the rows and cells on the columns. This is a hold-over from bulk RNA-seq, when it made sense for each replicate (of which there were few) to be a feature and each gene (of which there were many) to be an observation; however, now that we can have as many or more cells than genes, it makes more sense for cells to be observations. Keep this difference in mind when you try new tools."
      ]
    },
    {
      "cell_type": "markdown",
      "metadata": {
        "id": "PcgUh4XKi74e",
        "colab_type": "text"
      },
      "source": [
        "Finally, we can view the actual matrix, either by simply typing the matrix name to view the whole thing, or using the `.head()` function to view the first few rows."
      ]
    },
    {
      "cell_type": "code",
      "metadata": {
        "id": "Aat4dAqTi74f",
        "colab_type": "code",
        "colab": {}
      },
      "source": [
        "data.head(10)"
      ],
      "execution_count": 0,
      "outputs": []
    },
    {
      "cell_type": "markdown",
      "metadata": {
        "id": "814_Tlfqsd-p",
        "colab_type": "text"
      },
      "source": [
        "### 2.2 Creating the metadata matrix\n",
        "\n",
        "Often, there is additional information associated with our cells which we want to retain (e.g. batch, library size, cluster number, etc.) Here we create a metadata DataFrame to store this information."
      ]
    },
    {
      "cell_type": "code",
      "metadata": {
        "id": "m6J6BV7IsdVl",
        "colab_type": "code",
        "colab": {}
      },
      "source": [
        "metadata = pd.DataFrame(index = data.index)"
      ],
      "execution_count": 0,
      "outputs": []
    },
    {
      "cell_type": "markdown",
      "metadata": {
        "id": "ZySaqqdes6JE",
        "colab_type": "text"
      },
      "source": [
        "If you combined multiple datasets to create your data matrix, we can add the sample labels to the metadata."
      ]
    },
    {
      "cell_type": "code",
      "metadata": {
        "id": "Y0dqhK_ys_Tt",
        "colab_type": "code",
        "colab": {}
      },
      "source": [
        "metadata['sample_labels'] = sample_labels"
      ],
      "execution_count": 0,
      "outputs": []
    },
    {
      "cell_type": "markdown",
      "metadata": {
        "colab_type": "text",
        "id": "77XS07XVacXH"
      },
      "source": [
        "### 2.3. Library size filtering\n",
        "\n",
        "#### Why we filter cells by library size\n",
        "In scRNA-seq the library size of a cell is the number of unique mRNA molecules detected in that cell. These unique molecules are identified using a random barcode incorporated during the first round of reverse transcription. This barcode is called a <b>U</b>nique <b>M</b>olecule <b>I</b>dentifier, and often we refer to the number unique mRNAs in a cell as the number of UMIs. To read more about UMIs, [Smith *et al.* (2017)](https://www.ncbi.nlm.nih.gov/pmc/articles/PMC5340976/) write about how sequencing errors and PCR amplification errors lead to innaccurate quantification of UMIs/cell.\n",
        "\n",
        "Depending on the method of scRNA-seq, the amount of library size filtering done can vary. The 10X Genomics CellRanger tool, the DropSeq and InDrops pipelines, and the Umitools package each have their own method and cutoff for determining real cells from empty droplets. Additional methods exist for trying to detect the difference between droplets containing one cell and droplets containing two cells (\"doublets\"). You can take these methods at face value or set some manual cutoffs based on your data.\n",
        "\n",
        "#### Visualing the library size distribution using `scprep`\n",
        "\n",
        "There is a helper function for plotting library size from a gene expression matrix in scprep called [`scprep.plot.plot_library_size()`](https://scprep.readthedocs.io/en/stable/reference.html#scprep.plot.plot_library_size).\n",
        "\n",
        "Let's have a look at the library size for the first time point. In this sample we see that there is a small number of cells with very small library sizes and a long tail of cells that have very high library sizes."
      ]
    },
    {
      "cell_type": "code",
      "metadata": {
        "colab_type": "code",
        "id": "lg6jXB-IacXI",
        "scrolled": true,
        "colab": {}
      },
      "source": [
        "scprep.plot.plot_library_size(data,\n",
        "                              log=False, title='Library Size Before Filtering')"
      ],
      "execution_count": 0,
      "outputs": []
    },
    {
      "cell_type": "markdown",
      "metadata": {
        "id": "oZoeKZYEi741",
        "colab_type": "text"
      },
      "source": [
        "Choose cutoffs above and below the main bulk of cells, removing cells that are both significantly smaller than average and significantly larger than average. You can plot the result by running `scprep.plot.plot_library_size` with `cutoff=(low, high)` or `percentile=(low, high)` where low and high are values or percentiles that you choose."
      ]
    },
    {
      "cell_type": "code",
      "metadata": {
        "id": "il3fSe26i742",
        "colab_type": "code",
        "colab": {}
      },
      "source": [
        "# =============\n",
        "# Select appropriate percentiles (percentile=(low, high))\n",
        "# for filtering and plot the result\n",
        "scprep.plot.plot_library_size( # e.g., scprep.plot.plot_library_size(data, percentile=(20, 90))\n",
        "# ============="
      ],
      "execution_count": 0,
      "outputs": []
    },
    {
      "cell_type": "markdown",
      "metadata": {
        "colab_type": "text",
        "id": "YG4_xhXt7RQb"
      },
      "source": [
        "#### Selecting a cutoff\n",
        "\n",
        "Several papers describe strategies for picking a maximum and minimum threshold that can be found with a quick google search for \"library size threshold single cell RNA seq\".\n",
        "\n",
        "Most of these pick an arbitrary measure such as a certain number of deviations below or above the mean or median library size. We find that spending too much time worrying about the exact threshold is inefficient, as results tend to be robust to filtering beyond some minimum threshold.\n",
        "\n",
        "For the above dataset, I would remove all cells with more than 12,000 UMI / cell in fear they might represent doublets of cells. I will generally also remove all cells with fewer than 1000 reads per cell.\n",
        "\n",
        "### Exercise 1 - Filtering cells by library size\n",
        "\n",
        "You can do this using [`scprep.filter.filter_library_size()`](https://scprep.readthedocs.io/en/stable/reference.html#scprep.filter.filter_library_size)."
      ]
    },
    {
      "cell_type": "code",
      "metadata": {
        "colab_type": "code",
        "id": "o_ucsSK9acXO",
        "colab": {}
      },
      "source": [
        "# ==================\n",
        "# fill in your chosen `percentile` values\n",
        "percentiles = # e.g. (20, 90)\n",
        "data, metadata = scprep.filter.filter_library_size(data, metadata, percentile=percentiles)\n",
        "# =================="
      ],
      "execution_count": 0,
      "outputs": []
    },
    {
      "cell_type": "code",
      "metadata": {
        "colab_type": "code",
        "id": "w9GKIljH4S05",
        "colab": {}
      },
      "source": [
        "scprep.plot.plot_library_size(data, log=False, title='Library size after filtering')"
      ],
      "execution_count": 0,
      "outputs": []
    },
    {
      "cell_type": "markdown",
      "metadata": {
        "id": "SpmUlonui75U",
        "colab_type": "text"
      },
      "source": [
        "The library size distribution is now much more constrained, which will reduce the effects of differences in library size (which can affect your results, even after normalization)."
      ]
    },
    {
      "cell_type": "markdown",
      "metadata": {
        "id": "A5xc_Dxmi75t",
        "colab_type": "text"
      },
      "source": [
        "### 2.4 Subsampling data\n",
        "\n",
        "Finally, because the Google Colab client is not the most powerful client, we'll subsample this dataset to allow you to run the preprocessing steps a little more quickly."
      ]
    },
    {
      "cell_type": "code",
      "metadata": {
        "id": "sbJ6jxRti75u",
        "colab_type": "code",
        "colab": {}
      },
      "source": [
        "data, metadata = scprep.select.subsample(data, metadata, n=10000)"
      ],
      "execution_count": 0,
      "outputs": []
    },
    {
      "cell_type": "code",
      "metadata": {
        "id": "nB849v2Hi750",
        "colab_type": "code",
        "colab": {}
      },
      "source": [
        "data.shape, metadata.shape"
      ],
      "execution_count": 0,
      "outputs": []
    },
    {
      "cell_type": "markdown",
      "metadata": {
        "id": "7-4emCXei756",
        "colab_type": "text"
      },
      "source": [
        "#### Batch effects\n",
        "\n",
        "It's worth noting here that if you have combined different experiments into one data matrix here, you are potentially exposed yourself to a \"batch effect\". A batch effect is a difference (technical or biological) between two batches of an experiment. This can be caused by systematic error (e.g. a difference in temperature during library preparation) or a genuine biological effect of interest (e.g. in this case each batch is sampled at a different time of development.)\n",
        "\n",
        "Correcting for technical / systematic batch effects is a topic unto itself which we won't cover in detail in the workshop; however it's worth noting that any time we combine multiple experiments, we should check to see if they are substantially different and compare this to our expectations. If the effect is large and unexpected, we can either a) attempt to correct it / account for it using computational methods, or b) modify our analysis to avoid combining the datasets."
      ]
    },
    {
      "cell_type": "markdown",
      "metadata": {
        "colab_type": "text",
        "collapsed": true,
        "id": "pGrC9YiEacXc"
      },
      "source": [
        "<a id='preprocessing'></a>\n",
        "## 3. Preprocessing: Filtering, Normalizing, and Transforming\n",
        "\n",
        "### Filtering\n",
        "\n",
        "We filter the data by: \n",
        "1. Removing dead cells  \n",
        "2. Filtering by library size (if we did not do this prior to combining batches)\n",
        "3. Removing genes that are expressed in relatively few cells."
      ]
    },
    {
      "cell_type": "markdown",
      "metadata": {
        "colab_type": "text",
        "collapsed": true,
        "id": "3e3m5x8LacXd"
      },
      "source": [
        "### 3.1 Dead cell removal\n",
        "\n",
        "#### What does high mitochondrial gene expression indicate?\n",
        "\n",
        "Generally, we assume that cells with high detection of mitochondrial RNAs have undergone degradation of the mitochondrial membrane as a result of apoptosis. This may be from stress during dissociation, culture, or really anywhere in the experimental pipeline. As with the high and low library size cells, we want to remove the long tail from the distribution. In a successful experiment, it's typical for 5-10% of the cells to have this apoptotic signature.\n",
        "\n",
        "#### Plotting mitochondrial expression\n",
        "\n",
        "Let's look at the mitochondrial expression. You can do this using [`scprep.plot.plot_gene_set_expression()`](https://scprep.readthedocs.io/en/stable/reference.html#scprep.plot.plot_gene_set_expression), which conveniently gets you the list of mitochrondrial genes by name using the helper function [`scprep.select.get_gene_set()`](https://scprep.readthedocs.io/en/stable/reference.html#scprep.select.get_gene_set)."
      ]
    },
    {
      "cell_type": "code",
      "metadata": {
        "colab_type": "code",
        "id": "1ZKa468GacXe",
        "scrolled": true,
        "colab": {}
      },
      "source": [
        "# Plot all mitochondrial genes. There are 14, FYI.\n",
        "scprep.plot.plot_gene_set_expression(data, starts_with=\"MT-\",\n",
        "                                     library_size_normalize=True,\n",
        "                                     title=\"Mitochrondrial expression before filtering\")"
      ],
      "execution_count": 0,
      "outputs": []
    },
    {
      "cell_type": "markdown",
      "metadata": {
        "colab_type": "text",
        "id": "3PBCeKuPacXh"
      },
      "source": [
        "Here we see that above some threshold, there is a steep increase in expression of mitochondrial RNAs. We'll remove these cells from further analysis. Choose a cut-off based on the histogram above and plot your chosen value on a new histogram.\n",
        "\n",
        "### Exercise 2 - filtering dead cells by mitochondrial expression"
      ]
    },
    {
      "cell_type": "code",
      "metadata": {
        "id": "9VLut_AAi76F",
        "colab_type": "code",
        "colab": {}
      },
      "source": [
        "# ================\n",
        "# choose a cutoff at which to plot a red line such that you\n",
        "# remove cells with aberrant mitochondrial expression\n",
        "scprep.plot.plot_gene_set_expression(\n",
        "    data, starts_with=\"MT-\",\n",
        "    library_size_normalize=True,\n",
        "    cutoff = \n",
        ")\n",
        "# ================"
      ],
      "execution_count": 0,
      "outputs": []
    },
    {
      "cell_type": "markdown",
      "metadata": {
        "id": "pZ7YEYfNi76L",
        "colab_type": "text"
      },
      "source": [
        "Now we can remove those cells."
      ]
    },
    {
      "cell_type": "code",
      "metadata": {
        "colab_type": "code",
        "id": "IYhfs7y9acXi",
        "colab": {}
      },
      "source": [
        "# ================\n",
        "# Fill in your chosen cutoff value\n",
        "cutoff = \n",
        "# ================\n",
        "data, metadata = scprep.filter.filter_gene_set_expression(\n",
        "    data, metadata, starts_with=\"MT-\",\n",
        "    cutoff=cutoff, keep_cells='below', library_size_normalize=True)\n",
        "data.shape"
      ],
      "execution_count": 0,
      "outputs": []
    },
    {
      "cell_type": "markdown",
      "metadata": {
        "id": "bSB0nhtNi76P",
        "colab_type": "text"
      },
      "source": [
        "Let's look at that histogram again."
      ]
    },
    {
      "cell_type": "code",
      "metadata": {
        "id": "DKEU2xCHi76R",
        "colab_type": "code",
        "colab": {}
      },
      "source": [
        "scprep.plot.plot_gene_set_expression(data, starts_with=\"MT-\",\n",
        "                                     library_size_normalize=True,\n",
        "                                     title=\"Mitochrondrial expression after filtering\")"
      ],
      "execution_count": 0,
      "outputs": []
    },
    {
      "cell_type": "markdown",
      "metadata": {
        "id": "sfqrFY7Li76U",
        "colab_type": "text"
      },
      "source": [
        "Much better! We have a tight distribution without a long tail, indicating that all of our cells have relatively normal mitochondrial expression."
      ]
    },
    {
      "cell_type": "markdown",
      "metadata": {
        "colab_type": "text",
        "collapsed": true,
        "id": "ZxLVx9q1acXo"
      },
      "source": [
        "### 3.2 - Filtering lowly expressed genes\n",
        "\n",
        "#### Why remove lowly expressed genes?\n",
        "\n",
        "Capturing RNA from single cells is a noisy process. The first round of reverse transcription is done in the presence of cell lysate. This results in capture of only 10-40% of the mRNA molecules in a cell leading to a phenomenon called dropout where some lowly expressed genes are not detected in cells in which they are expressed [[1](https://www.ncbi.nlm.nih.gov/pmc/articles/PMC5561556/#CR13), [2](https://www.ncbi.nlm.nih.gov/pmc/articles/PMC5561556/#CR44), [3](https://www.ncbi.nlm.nih.gov/pmc/articles/PMC5561556/#CR64), [4](https://www.ncbi.nlm.nih.gov/pmc/articles/PMC5561556/#CR65)]. As a result, some genes are so lowly expressed (or expressed not at all) that we do not have sufficient observations of that gene to make any inferences on its expression.\n",
        "\n",
        "Lowly expressed genes that may only be represented by a handful of mRNAs may not appear in a given dataset. Others might only be present in a small number of cells. Because we lack sufficient information about these genes, we remove lowly expressed genes from the gene expression matrix during preprocessing. Typically, if a gene is detected in fewer than very few cells, it gets removed.\n",
        "\n",
        "Here, we can see that in EB dataset, there are many genes that are detected in very few cells."
      ]
    },
    {
      "cell_type": "code",
      "metadata": {
        "id": "NdqadKiJi76V",
        "colab_type": "code",
        "colab": {}
      },
      "source": [
        "scprep.plot.histogram(scprep.measure.gene_capture_count(data), log=True,\n",
        "                      title=\"Gene capture before filtering\",\n",
        "                     xlabel='# of cells with nonzero expression',\n",
        "                     ylabel='# of genes')"
      ],
      "execution_count": 0,
      "outputs": []
    },
    {
      "cell_type": "markdown",
      "metadata": {
        "id": "qn1hRMG0i76Z",
        "colab_type": "text"
      },
      "source": [
        "Again, we see a relatively clean distribution on the right (genes observed in many cells) with a heavy tail on the right (rare genes). Where would you choose to cut this off?\n",
        "\n",
        "### Exercise 3 - filtering rare genes"
      ]
    },
    {
      "cell_type": "code",
      "metadata": {
        "id": "TpodU2_5i76Z",
        "colab_type": "code",
        "colab": {}
      },
      "source": [
        "# ================\n",
        "# choose a cutoff\n",
        "scprep.plot.histogram(scprep.measure.gene_capture_count(data), \n",
        "                      cutoff =\n",
        "                      log=True,\n",
        "                      title=\"Gene capture before filtering\",\n",
        "                     xlabel='# of cells with nonzero expression',\n",
        "                     ylabel='# of genes')\n",
        "# ================"
      ],
      "execution_count": 0,
      "outputs": []
    },
    {
      "cell_type": "markdown",
      "metadata": {
        "id": "FPXN0SVQi76c",
        "colab_type": "text"
      },
      "source": [
        "Let's go ahead and remove those genes."
      ]
    },
    {
      "cell_type": "code",
      "metadata": {
        "colab_type": "code",
        "id": "9pyvgVwracXq",
        "colab": {}
      },
      "source": [
        "# ================\n",
        "# choose a cutoff\n",
        "cutoff = \n",
        "data = scprep.filter.filter_rare_genes(data, min_cells=cutoff)\n",
        "# ================"
      ],
      "execution_count": 0,
      "outputs": []
    },
    {
      "cell_type": "markdown",
      "metadata": {
        "id": "BLE4lM5Vi76h",
        "colab_type": "text"
      },
      "source": [
        "We can plot the above histogram again for good measure. As you can see, the rare genes are all gone."
      ]
    },
    {
      "cell_type": "code",
      "metadata": {
        "id": "0rFicdbei76h",
        "colab_type": "code",
        "colab": {}
      },
      "source": [
        "scprep.plot.histogram(scprep.measure.gene_capture_count(data), cutoff=cutoff, log=True,\n",
        "                      title=\"Gene capture after filtering\",\n",
        "                     xlabel='# of cells with nonzero expression',\n",
        "                     ylabel='# of genes')"
      ],
      "execution_count": 0,
      "outputs": []
    },
    {
      "cell_type": "code",
      "metadata": {
        "id": "TyB3I31Ai76m",
        "colab_type": "code",
        "colab": {}
      },
      "source": [
        "data.shape"
      ],
      "execution_count": 0,
      "outputs": []
    },
    {
      "cell_type": "markdown",
      "metadata": {
        "id": "pdU5EQszi76r",
        "colab_type": "text"
      },
      "source": [
        "After filtering, we have removed many thousands of genes. This will be our last filtering step, though you can always filter out aberrant expression on an ad hoc basis. As it stands, we've quite significantly reduced our dataset from 10,000 x 33,000 that we started with. And that's not even counting the cells we removed by library size before combining time points!"
      ]
    },
    {
      "cell_type": "markdown",
      "metadata": {
        "colab_type": "text",
        "id": "zTOt3GU2acXu"
      },
      "source": [
        "### 3.3 - Normalization\n",
        "\n",
        "As you saw during filtering, the range of library sizes between cells can be quite extreme. We visualized this for one time point pre-filtering, but let's now visualize the whole dataset, post-filtering."
      ]
    },
    {
      "cell_type": "code",
      "metadata": {
        "id": "F2gLalYRi76r",
        "colab_type": "code",
        "colab": {}
      },
      "source": [
        "scprep.plot.plot_library_size(data, title='Library size before normalization')"
      ],
      "execution_count": 0,
      "outputs": []
    },
    {
      "cell_type": "markdown",
      "metadata": {
        "colab_type": "text",
        "id": "N62nnl8Ri76u"
      },
      "source": [
        "To correct for differences in library sizes, we divide each cell by its library size and then rescale by the a fixed value, sometimes the median library size. The default in `scprep` is to rescale every cell to 10,000 counts to make numbers comparable across datasets.\n",
        "\n",
        "In python this is performed using the preprocessing method [`scprep.normalize.library_size_normalize()`](https://scprep.readthedocs.io/en/stable/reference.html#scprep.normalize.library_size_normalize)."
      ]
    },
    {
      "cell_type": "code",
      "metadata": {
        "colab_type": "code",
        "id": "The5qKgGacXw",
        "colab": {}
      },
      "source": [
        "data, metadata['library_size'] = scprep.normalize.library_size_normalize(data, return_library_size=True)"
      ],
      "execution_count": 0,
      "outputs": []
    },
    {
      "cell_type": "markdown",
      "metadata": {
        "id": "siINZRAYi76y",
        "colab_type": "text"
      },
      "source": [
        "If you plot the library sizes again, you'll see they are all the same."
      ]
    },
    {
      "cell_type": "code",
      "metadata": {
        "id": "7dMxlh-9i76y",
        "colab_type": "code",
        "colab": {}
      },
      "source": [
        "scprep.plot.plot_library_size(data, title='Library size after normalization')"
      ],
      "execution_count": 0,
      "outputs": []
    },
    {
      "cell_type": "markdown",
      "metadata": {
        "colab_type": "text",
        "id": "qtpLNUB2acX4"
      },
      "source": [
        "### 3.4 - Gene Count Transformation\n",
        "\n",
        "In scRNA-seq analysis, we often see that some genes are orders of magnitude more common than others. Let's have a look at the mean expression of each gene."
      ]
    },
    {
      "cell_type": "code",
      "metadata": {
        "id": "dHRfDNx0i766",
        "colab_type": "code",
        "colab": {}
      },
      "source": [
        "scprep.plot.histogram(data.mean(axis=0), log='y',\n",
        "                      title=\"Gene counts before transformation\",\n",
        "                     xlabel='total # of gene counts',\n",
        "                     ylabel='# of genes')"
      ],
      "execution_count": 0,
      "outputs": []
    },
    {
      "cell_type": "markdown",
      "metadata": {
        "colab_type": "text",
        "id": "XDpPOgUai76-"
      },
      "source": [
        "In order to avoid these high-expression genes dominating the variation, the data is often $\\log$-transformed. This typically requires the addition of some small value to avoid taking $\\log(0)$. We avoid this issue entirely by instead taking the square root transform. The square root function has a similar form as the $\\log$ function with the added benefit of being stable at 0."
      ]
    },
    {
      "cell_type": "code",
      "metadata": {
        "colab_type": "code",
        "id": "gnWsT6p5acX5",
        "colab": {}
      },
      "source": [
        "data = scprep.transform.sqrt(data)"
      ],
      "execution_count": 0,
      "outputs": []
    },
    {
      "cell_type": "markdown",
      "metadata": {
        "id": "ONRY2Yvvi77B",
        "colab_type": "text"
      },
      "source": [
        "After transformation, you should see that the mean expression values are now much closer together."
      ]
    },
    {
      "cell_type": "code",
      "metadata": {
        "id": "lSnzRGaMi77C",
        "colab_type": "code",
        "colab": {}
      },
      "source": [
        "scprep.plot.histogram(data.mean(axis=0), log='y',\n",
        "                      title=\"Gene counts after transformation\",\n",
        "                     xlabel='total # of gene counts',\n",
        "                     ylabel='# of genes')"
      ],
      "execution_count": 0,
      "outputs": []
    },
    {
      "cell_type": "markdown",
      "metadata": {
        "id": "67r61LQuvEwd",
        "colab_type": "text"
      },
      "source": [
        "### 4.0 Saving the output\n",
        "\n",
        "There are many ways to save a Pandas DataFrame, including built in `pandas` function [`DataFrame.to_csv`](https://pandas.pydata.org/pandas-docs/stable/user_guide/io.html#writing-out-data) and `scprep` function [`scprep.io.save_mtx`](https://scprep.readthedocs.io/en/dev/reference.html#scprep.io.save_mtx). For speed, we will be using [`DataFrame.to_pickle`](https://pandas.pydata.org/pandas-docs/stable/user_guide/io.html#pickling) which is extremely fast and efficient for reading and writing matrices in Python.\n",
        "\n",
        "The next cell will write and download the processed data matrices. You may upload these to any of the workshop notebooks in order to use your own data in place of the provided data."
      ]
    },
    {
      "cell_type": "code",
      "metadata": {
        "id": "PlT1MDf2wFzF",
        "colab_type": "code",
        "colab": {}
      },
      "source": [
        "data.to_pickle(\"data.pickle\")\n",
        "metadata.to_pickle(\"metadata.pickle\")\n",
        "files.download(\"data.pickle\")\n",
        "files.download(\"metadata.pickle\")"
      ],
      "execution_count": 0,
      "outputs": []
    },
    {
      "cell_type": "markdown",
      "metadata": {
        "id": "Rmd8OovSi77Q",
        "colab_type": "text"
      },
      "source": [
        "## Summary\n",
        "\n",
        "To summarize, we've preprocessed our data as follows:\n",
        "\n",
        "1. Filter by library size to remove empty droplets and doublets\n",
        "2. Combine batches\n",
        "3. Filter out rarely expressed genes\n",
        "4. Filter cells with high mitochrondrial expression\n",
        "5. Normalize by library size\n",
        "6. Square root transform\n",
        "7. Save and download"
      ]
    }
  ]
}