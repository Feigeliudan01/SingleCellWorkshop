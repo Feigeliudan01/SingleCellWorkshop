{
 "cells": [
  {
   "cell_type": "markdown",
   "metadata": {
    "colab_type": "text",
    "id": "ReoBzap1acVv"
   },
   "source": [
    "# Loading and preprocessing your own data\n",
    "\n",
    "In this tutorial, we demonstrate how to process your own dataset for later analysis on Google Colab.\n",
    "\n",
    "We review the following steps:\n",
    "\n",
    "1. Loading your own data  \n",
    "2. Filtering\n",
    "3. Normalization\n",
    "4. Transformation"
   ]
  },
  {
   "cell_type": "markdown",
   "metadata": {
    "colab_type": "text",
    "id": "cZZOws5li73K"
   },
   "source": [
    "## 0. Introducing `scprep`\n",
    "\n",
    "`scprep` is a lightweight scRNA-seq toolkit for Python Data Scientists.\n",
    "\n",
    "Most scRNA-seq toolkits are written in R (the most famous being [Seurat](https://satijalab.org/seurat/)), but we (and a majority of machine learning / data scientists) develop our tools in Python. Currently, [Scanpy](https://icb-scanpy.readthedocs-hosted.com/en/stable/) is the most popular toolkit for scRNA-seq analysis in Python. However, Scanpy has a highly structured framework for data representation that is incompatible with the bulk of the Python data science framework, e.g. [pandas](https://pandas.pydata.org/), [SciPy](https://www.scipy.org/), and [scikit-learn](https://scikit-learn.org/stable/).\n",
    "\n",
    "To accommodate users of the wider Python data analysis ecosystem, we developed `scprep` (<b>s</b>ingle <b>c</b>ell <b>prep</b>aration). `scprep` makes it easier to use the pandas / SciPy / scikit-learn ecosystem for scRNA-seq analysis. Most of `scprep` is composed of helper functions to perform tasks common to single cell data like loading counts matrices, filtering & normalizing cells by library size, and calculating common statistics. The key advantage of `scprep` is that data can be stored in Pandas DataFrames, NumPy arrays, Scipy sparse matrices, and no matter which tools you choose to interface with, _it just works_.\n",
    "\n",
    "To learn more about `scprep`, you can read the documentation at https://scprep.readthedocs.io/."
   ]
  },
  {
   "cell_type": "markdown",
   "metadata": {
    "colab_type": "text",
    "id": "oBJb_vVW1ONw"
   },
   "source": [
    "## 1. Install tools\n",
    "\n",
    "To run this notebook, you need to download a couple of packages. Unfortunately, due to restrictions of Google CoLab, these installations won't be saved. A workaround can be found at the following link if you're interested: https://stackoverflow.com/questions/52582858/saving-pip-installs-in-google-colab\n",
    "\n",
    "For now, simply run the following line of code by clicking on the code cell and hit `Shift` + `Enter`."
   ]
  },
  {
   "cell_type": "code",
   "execution_count": 5,
   "metadata": {
    "colab": {
     "base_uri": "https://localhost:8080/",
     "height": 333
    },
    "colab_type": "code",
    "id": "RUZx-nc_1Mdr",
    "outputId": "fdff4e34-dae1-4371-85f7-6cf2aeeccc42"
   },
   "outputs": [
    {
     "name": "stdout",
     "output_type": "stream",
     "text": [
      "Collecting scprep\n",
      "\u001b[?25l  Downloading https://files.pythonhosted.org/packages/74/24/242b0903bf0dbfb2e9e6245317ef5597f5b7252684826a6a9100adcfbb8e/scprep-1.0.4-py3-none-any.whl (96kB)\n",
      "\r",
      "\u001b[K     |███▍                            | 10kB 19.3MB/s eta 0:00:01\r",
      "\u001b[K     |██████▊                         | 20kB 1.7MB/s eta 0:00:01\r",
      "\u001b[K     |██████████▏                     | 30kB 2.5MB/s eta 0:00:01\r",
      "\u001b[K     |█████████████▌                  | 40kB 1.7MB/s eta 0:00:01\r",
      "\u001b[K     |█████████████████               | 51kB 2.1MB/s eta 0:00:01\r",
      "\u001b[K     |████████████████████▎           | 61kB 2.4MB/s eta 0:00:01\r",
      "\u001b[K     |███████████████████████▊        | 71kB 2.8MB/s eta 0:00:01\r",
      "\u001b[K     |███████████████████████████     | 81kB 2.2MB/s eta 0:00:01\r",
      "\u001b[K     |██████████████████████████████▌ | 92kB 2.5MB/s eta 0:00:01\r",
      "\u001b[K     |████████████████████████████████| 102kB 2.3MB/s \n",
      "\u001b[?25hCollecting tasklogger\n",
      "  Downloading https://files.pythonhosted.org/packages/5d/6b/cb2a724eff19829a0ada0217f403f54fca1e48c7de6fc3383e0a8b8fa121/tasklogger-1.0.0-py3-none-any.whl\n",
      "Requirement already satisfied: scipy>=0.18.1 in /usr/local/lib/python3.6/dist-packages (from scprep) (1.4.1)\n",
      "Requirement already satisfied: numpy>=1.12.0 in /usr/local/lib/python3.6/dist-packages (from scprep) (1.18.3)\n",
      "Requirement already satisfied: scikit-learn>=0.19.1 in /usr/local/lib/python3.6/dist-packages (from scprep) (0.22.2.post1)\n",
      "Requirement already satisfied: pandas>=0.25 in /usr/local/lib/python3.6/dist-packages (from scprep) (1.0.3)\n",
      "Requirement already satisfied: decorator>=4.3.0 in /usr/local/lib/python3.6/dist-packages (from scprep) (4.4.2)\n",
      "Requirement already satisfied: future in /usr/local/lib/python3.6/dist-packages (from tasklogger) (0.16.0)\n",
      "Requirement already satisfied: joblib>=0.11 in /usr/local/lib/python3.6/dist-packages (from scikit-learn>=0.19.1->scprep) (0.14.1)\n",
      "Requirement already satisfied: pytz>=2017.2 in /usr/local/lib/python3.6/dist-packages (from pandas>=0.25->scprep) (2018.9)\n",
      "Requirement already satisfied: python-dateutil>=2.6.1 in /usr/local/lib/python3.6/dist-packages (from pandas>=0.25->scprep) (2.8.1)\n",
      "Requirement already satisfied: six>=1.5 in /usr/local/lib/python3.6/dist-packages (from python-dateutil>=2.6.1->pandas>=0.25->scprep) (1.12.0)\n",
      "Installing collected packages: scprep, tasklogger\n",
      "Successfully installed scprep-1.0.4 tasklogger-1.0.0\n"
     ]
    }
   ],
   "source": [
    "!pip install scprep tasklogger"
   ]
  },
  {
   "attachments": {},
   "cell_type": "markdown",
   "metadata": {
    "colab_type": "text",
    "id": "XUF17reyacVy"
   },
   "source": [
    "<a id='loading'></a>\n",
    "## 2. Loading your own data\n",
    "\n",
    "To run the tutorials with your own data, we will upload it to Google Colab and apply the preprocessing once. Then you can upload your processed data in each notebook instead of using the provided dataset.\n",
    "\n",
    "First, open the \"Files\" sidebar, which you can open by clicking on the folder icon in the top right of the notebook.\n",
    "\n",
    "![How to open the Files pane in Colab](https://github.com/KrishnaswamyLab/SingleCellWorkshop/raw/master/exercises/Preprocessing/img/files.png)"
   ]
  },
  {
   "attachments": {},
   "cell_type": "markdown",
   "metadata": {
    "colab_type": "text",
    "id": "XUF17reyacVy"
   },
   "source": [
    "Next, click the \"Upload\" button and select all of the files you need--both data and metadata.\n",
    "\n",
    "![How to upload data in Colab](https://github.com/KrishnaswamyLab/SingleCellWorkshop/raw/master/exercises/Preprocessing/img/upload.png)"
   ]
  },
  {
   "cell_type": "markdown",
   "metadata": {},
   "source": [
    "Once the upload is complete, we can read and preprocess the data."
   ]
  },
  {
   "cell_type": "markdown",
   "metadata": {
    "colab_type": "text",
    "id": "AaPgko5lacWp"
   },
   "source": [
    "### Using `scprep` to import data into Pandas DataFrames\n",
    "\n",
    "\n",
    "We use a toolkit for loading and manipulating single-cell data called `scprep`. The functions in [`scprep.io`](https://scprep.readthedocs.io/en/stable/reference.html#module-scprep.io) will automatically load most single-cell datasets into a Pandas DataFrame. DataFrames are incredibly useful tools for data analysis in Python. To learn more about them, [check out the Pandas Documentation and Tutorials](https://pandas.pydata.org/pandas-docs/stable/).\n",
    "\n",
    "\n",
    "Let's load the data and create a single matrix that we can use for preprocessing, visualization, and analysis."
   ]
  },
  {
   "cell_type": "code",
   "execution_count": 0,
   "metadata": {
    "colab": {},
    "colab_type": "code",
    "id": "rinT1SUmlj64"
   },
   "outputs": [],
   "source": [
    "import scprep"
   ]
  },
  {
   "cell_type": "markdown",
   "metadata": {
    "colab_type": "text",
    "id": "BTNNT3_zkOHw"
   },
   "source": [
    "#### Loading 10X data (zipped folder)\n",
    "\n",
    "Typically, 10X count matrices are stored in a folder containing `matrix.mtx.gz`, `features.tsv.gz` and `barcodes.tsv.gz`. To upload these to Google Colab, you will need to compress these three files (add them to a `.zip` archive) and upload the zipped folder. It does not need to be decompressed to load it with `scprep`.\n"
   ]
  },
  {
   "cell_type": "code",
   "execution_count": 0,
   "metadata": {
    "colab": {},
    "colab_type": "code",
    "id": "OoeA3VklkT_9"
   },
   "outputs": [],
   "source": [
    "data = scprep.io.load_10X_zip(filename)\n",
    "data.head()"
   ]
  },
  {
   "cell_type": "markdown",
   "metadata": {
    "colab_type": "text",
    "id": "ORPK6b71kfsI"
   },
   "source": [
    "#### Loading 10X data (HDF5)\n",
    "\n",
    "Sometimes, 10X count matrices are stored in a HDF5 (or H5) file, a hierarchical file structure with native compression. You can upload and read this file directly."
   ]
  },
  {
   "cell_type": "code",
   "execution_count": 0,
   "metadata": {
    "colab": {},
    "colab_type": "code",
    "id": "YCnh6RQHj7dL"
   },
   "outputs": [],
   "source": [
    "data = scprep.io.load_10X_HDF5(filename)\n",
    "data.head()"
   ]
  },
  {
   "cell_type": "markdown",
   "metadata": {
    "colab_type": "text",
    "id": "SvNOh4BJkmg9"
   },
   "source": [
    "#### Loading text data (csv/tsv/txt)\n",
    "\n",
    "Most other data formats are text-based, meaning the gene expression values are stored in plain text separated by a special character, usually a comma or a tab. You may also see a compressed version of these (most often `.csv.gz`), which do not need to be decompressed before loading with `scprep`."
   ]
  },
  {
   "cell_type": "code",
   "execution_count": 0,
   "metadata": {
    "colab": {},
    "colab_type": "code",
    "id": "T27JQGoRkoRd"
   },
   "outputs": [],
   "source": [
    "data = scprep.io.load_csv(filename, cell_axis='row', sparse=True)\n",
    "# or, if your data is tab-spaced\n",
    "# data = scprep.io.load_tsv(filename, cell_axis='row', sparse=True)\n",
    "data.head()"
   ]
  },
  {
   "cell_type": "markdown",
   "metadata": {
    "colab_type": "text",
    "id": "5c-w_RtVk3HK"
   },
   "source": [
    "Your data should have cell barcodes on the rows and genes on the columns. If you see the opposite of this, you should switch the `cell_axis` argument in the data loading function call and run it again."
   ]
  },
  {
   "cell_type": "markdown",
   "metadata": {
    "colab_type": "text",
    "id": "EB4WqfC7nAw6"
   },
   "source": [
    "#### Loading other data\n",
    "\n",
    "If your data is not of any of the above formats, please feel free to ask for help in how to load it."
   ]
  },
  {
   "cell_type": "markdown",
   "metadata": {
    "colab_type": "text",
    "id": "1a2NhqZdoK0U"
   },
   "source": [
    "### Dealing with multiple data files\n",
    "\n",
    "More complex single-cell datasets will often involve more than one file, for example in time-course experiments. In this case, we will combine each of the datasets in a list. Give the first data file we uploaded an appropriate batch name in the cell below.\n",
    "\n",
    "If you only have one data file, skip to section 2.1."
   ]
  },
  {
   "cell_type": "code",
   "execution_count": 0,
   "metadata": {
    "colab": {},
    "colab_type": "code",
    "id": "ruJhHpZOo8SC"
   },
   "outputs": [],
   "source": [
    "# =============\n",
    "# Give your first batch an appropriate name\n",
    "first_batch_label = # Fill in the batch name, e.g. \"Control\"\n",
    "# =============\n",
    "\n",
    "data = [data]\n",
    "batch_labels = [first_batch_label]"
   ]
  },
  {
   "cell_type": "markdown",
   "metadata": {
    "colab_type": "text",
    "id": "--gTavYEpHxl"
   },
   "source": [
    "Run the cell below once for every file in your dataset, changing the batch name each time."
   ]
  },
  {
   "cell_type": "code",
   "execution_count": 0,
   "metadata": {
    "colab": {},
    "colab_type": "code",
    "id": "ic8hns_8owYF"
   },
   "outputs": [],
   "source": [
    "# =============\n",
    "# Load your data with the appropriate `io` function\n",
    "next_data = scprep.io. # fill in the load function, e.g. scprep.io.load_10X_zip(filename)\n",
    "next_batch_label = # fill in the batch name, e.g. \"Mutant\"\n",
    "# =============\n",
    "\n",
    "data.append(next_data)\n",
    "batch_labels.append(next_batch_label)"
   ]
  },
  {
   "cell_type": "markdown",
   "metadata": {
    "colab_type": "text",
    "id": "OM872o90qGnI"
   },
   "source": [
    "Now, we can combine our datasets into a single combined data matrix. If you wish, you may first apply library size filtering to each batch individually, as described in section 2.3, but this is not strictly necessary."
   ]
  },
  {
   "cell_type": "code",
   "execution_count": 0,
   "metadata": {
    "colab": {},
    "colab_type": "code",
    "id": "A4xtHCf_qF_V"
   },
   "outputs": [],
   "source": [
    "data, sample_labels = scprep.utils.combine_batches(data, batch_labels)"
   ]
  },
  {
   "cell_type": "markdown",
   "metadata": {
    "colab_type": "text",
    "id": "8UwGtjtSacWx"
   },
   "source": [
    "### 2.1. Standard imports\n",
    "\n",
    "We'll import these few packages at the beginning of nearly every session."
   ]
  },
  {
   "cell_type": "code",
   "execution_count": 0,
   "metadata": {
    "colab": {},
    "colab_type": "code",
    "id": "xHNATT38acWz"
   },
   "outputs": [],
   "source": [
    "import pandas as pd\n",
    "import numpy as np\n",
    "import scprep\n",
    "\n",
    "import matplotlib.pyplot as plt\n",
    "\n",
    "# matplotlib settings for Jupyter notebooks only\n",
    "%matplotlib inline"
   ]
  },
  {
   "cell_type": "markdown",
   "metadata": {
    "colab_type": "text",
    "id": "nHLnCfKri74E"
   },
   "source": [
    "#### Understanding the data matrix\n",
    "\n",
    "How big is our matrix? We can find out with `data.shape`."
   ]
  },
  {
   "cell_type": "code",
   "execution_count": 0,
   "metadata": {
    "colab": {},
    "colab_type": "code",
    "id": "Z40ZJK9Ri74F"
   },
   "outputs": [],
   "source": [
    "data.shape"
   ]
  },
  {
   "cell_type": "markdown",
   "metadata": {
    "colab_type": "text",
    "id": "b42rRXFLi74L"
   },
   "source": [
    "Most Python data analysis techniques handle a single data matrix with rows (cells) and columns (genes). In Pandas DataFrames, each row and column has a name associated with it."
   ]
  },
  {
   "cell_type": "markdown",
   "metadata": {
    "colab_type": "text",
    "id": "FPAy3eBOi74M"
   },
   "source": [
    "The _columns_ refer to the genes, of features of the data. `data.columns` gives these as a list."
   ]
  },
  {
   "cell_type": "code",
   "execution_count": 0,
   "metadata": {
    "colab": {},
    "colab_type": "code",
    "id": "p5mr720Pi74O"
   },
   "outputs": [],
   "source": [
    "data.columns"
   ]
  },
  {
   "cell_type": "markdown",
   "metadata": {
    "colab_type": "text",
    "id": "PQ7Cr9gwi74V"
   },
   "source": [
    "The _rows_ refer to the cells, of observations of the data. `data.index` gives these as a list."
   ]
  },
  {
   "cell_type": "code",
   "execution_count": 0,
   "metadata": {
    "colab": {},
    "colab_type": "code",
    "id": "QBCkUH31i74W"
   },
   "outputs": [],
   "source": [
    "data.index"
   ]
  },
  {
   "cell_type": "markdown",
   "metadata": {
    "colab_type": "text",
    "id": "VAnf7DOIi74c"
   },
   "source": [
    "Note that some tools expect the opposite: that genes would be on the rows and cells on the columns. This is a hold-over from bulk RNA-seq, when it made sense for each replicate (of which there were few) to be a feature and each gene (of which there were many) to be an observation; however, now that we can have as many or more cells than genes, it makes more sense for cells to be observations. Keep this difference in mind when you try new tools."
   ]
  },
  {
   "cell_type": "markdown",
   "metadata": {
    "colab_type": "text",
    "id": "PcgUh4XKi74e"
   },
   "source": [
    "Finally, we can view the actual matrix, either by simply typing the matrix name to view the whole thing, or using the `.head()` function to view the first few rows."
   ]
  },
  {
   "cell_type": "code",
   "execution_count": 0,
   "metadata": {
    "colab": {},
    "colab_type": "code",
    "id": "Aat4dAqTi74f"
   },
   "outputs": [],
   "source": [
    "data.head(10)"
   ]
  },
  {
   "cell_type": "markdown",
   "metadata": {
    "colab_type": "text",
    "id": "814_Tlfqsd-p"
   },
   "source": [
    "### 2.2 Creating the metadata matrix\n",
    "\n",
    "Often, there is additional information associated with our cells which we want to retain (e.g. batch, library size, cluster number, etc.) Here we create a metadata DataFrame to store this information."
   ]
  },
  {
   "cell_type": "code",
   "execution_count": 0,
   "metadata": {
    "colab": {},
    "colab_type": "code",
    "id": "m6J6BV7IsdVl"
   },
   "outputs": [],
   "source": [
    "metadata = pd.DataFrame(index = data.index)"
   ]
  },
  {
   "cell_type": "markdown",
   "metadata": {
    "colab_type": "text",
    "id": "ZySaqqdes6JE"
   },
   "source": [
    "If you combined multiple datasets to create your data matrix, we can add the sample labels to the metadata."
   ]
  },
  {
   "cell_type": "code",
   "execution_count": 0,
   "metadata": {
    "colab": {},
    "colab_type": "code",
    "id": "Y0dqhK_ys_Tt"
   },
   "outputs": [],
   "source": [
    "metadata['sample_labels'] = sample_labels"
   ]
  },
  {
   "cell_type": "markdown",
   "metadata": {
    "colab_type": "text",
    "id": "77XS07XVacXH"
   },
   "source": [
    "### 2.3. Library size filtering\n",
    "\n",
    "#### Why we filter cells by library size\n",
    "In scRNA-seq the library size of a cell is the number of unique mRNA molecules detected in that cell. These unique molecules are identified using a random barcode incorporated during the first round of reverse transcription. This barcode is called a <b>U</b>nique <b>M</b>olecule <b>I</b>dentifier, and often we refer to the number unique mRNAs in a cell as the number of UMIs. To read more about UMIs, [Smith *et al.* (2017)](https://www.ncbi.nlm.nih.gov/pmc/articles/PMC5340976/) write about how sequencing errors and PCR amplification errors lead to innaccurate quantification of UMIs/cell.\n",
    "\n",
    "Depending on the method of scRNA-seq, the amount of library size filtering done can vary. The 10X Genomics CellRanger tool, the DropSeq and InDrops pipelines, and the Umitools package each have their own method and cutoff for determining real cells from empty droplets. Additional methods exist for trying to detect the difference between droplets containing one cell and droplets containing two cells (\"doublets\"). You can take these methods at face value or set some manual cutoffs based on your data.\n",
    "\n",
    "#### Visualing the library size distribution using `scprep`\n",
    "\n",
    "There is a helper function for plotting library size from a gene expression matrix in scprep called [`scprep.plot.plot_library_size()`](https://scprep.readthedocs.io/en/stable/reference.html#scprep.plot.plot_library_size).\n",
    "\n",
    "Let's have a look at the library size for the first time point. In this sample we see that there is a small number of cells with very small library sizes and a long tail of cells that have very high library sizes."
   ]
  },
  {
   "cell_type": "code",
   "execution_count": 0,
   "metadata": {
    "colab": {},
    "colab_type": "code",
    "id": "lg6jXB-IacXI",
    "scrolled": true
   },
   "outputs": [],
   "source": [
    "scprep.plot.plot_library_size(data,\n",
    "                              log=False, title='Library Size Before Filtering')"
   ]
  },
  {
   "cell_type": "markdown",
   "metadata": {
    "colab_type": "text",
    "id": "oZoeKZYEi741"
   },
   "source": [
    "Choose cutoffs above and below the main bulk of cells, removing cells that are both significantly smaller than average and significantly larger than average. You can plot the result by running `scprep.plot.plot_library_size` with `cutoff=(low, high)` or `percentile=(low, high)` where low and high are values or percentiles that you choose."
   ]
  },
  {
   "cell_type": "code",
   "execution_count": 0,
   "metadata": {
    "colab": {},
    "colab_type": "code",
    "id": "il3fSe26i742"
   },
   "outputs": [],
   "source": [
    "# =============\n",
    "# Select appropriate percentiles (percentile=(low, high))\n",
    "# for filtering and plot the result\n",
    "scprep.plot.plot_library_size( # e.g., scprep.plot.plot_library_size(data, percentile=(20, 90))\n",
    "# ============="
   ]
  },
  {
   "cell_type": "markdown",
   "metadata": {
    "colab_type": "text",
    "id": "YG4_xhXt7RQb"
   },
   "source": [
    "#### Selecting a cutoff\n",
    "\n",
    "Several papers describe strategies for picking a maximum and minimum threshold that can be found with a quick google search for \"library size threshold single cell RNA seq\".\n",
    "\n",
    "Most of these pick an arbitrary measure such as a certain number of deviations below or above the mean or median library size. We find that spending too much time worrying about the exact threshold is inefficient, as results tend to be robust to filtering beyond some minimum threshold.\n",
    "\n",
    "For the above dataset, I would remove all cells with more than 12,000 UMI / cell in fear they might represent doublets of cells. I will generally also remove all cells with fewer than 1000 reads per cell.\n",
    "\n",
    "### Exercise 1 - Filtering cells by library size\n",
    "\n",
    "You can do this using [`scprep.filter.filter_library_size()`](https://scprep.readthedocs.io/en/stable/reference.html#scprep.filter.filter_library_size)."
   ]
  },
  {
   "cell_type": "code",
   "execution_count": 0,
   "metadata": {
    "colab": {},
    "colab_type": "code",
    "id": "o_ucsSK9acXO"
   },
   "outputs": [],
   "source": [
    "# ==================\n",
    "# fill in your chosen `percentile` values\n",
    "percentiles = # e.g. (20, 90)\n",
    "data, metadata = scprep.filter.filter_library_size(data, metadata, percentile=percentiles)\n",
    "# =================="
   ]
  },
  {
   "cell_type": "code",
   "execution_count": 0,
   "metadata": {
    "colab": {},
    "colab_type": "code",
    "id": "w9GKIljH4S05"
   },
   "outputs": [],
   "source": [
    "scprep.plot.plot_library_size(data, log=False, title='Library size after filtering')"
   ]
  },
  {
   "cell_type": "markdown",
   "metadata": {
    "colab_type": "text",
    "id": "SpmUlonui75U"
   },
   "source": [
    "The library size distribution is now much more constrained, which will reduce the effects of differences in library size (which can affect your results, even after normalization)."
   ]
  },
  {
   "cell_type": "markdown",
   "metadata": {
    "colab_type": "text",
    "id": "A5xc_Dxmi75t"
   },
   "source": [
    "### 2.4 Subsampling data\n",
    "\n",
    "Finally, because the Google Colab client is not the most powerful client, we'll subsample this dataset to allow you to run the preprocessing steps a little more quickly."
   ]
  },
  {
   "cell_type": "code",
   "execution_count": 0,
   "metadata": {
    "colab": {},
    "colab_type": "code",
    "id": "sbJ6jxRti75u"
   },
   "outputs": [],
   "source": [
    "data, metadata = scprep.select.subsample(data, metadata, n=10000)"
   ]
  },
  {
   "cell_type": "code",
   "execution_count": 0,
   "metadata": {
    "colab": {},
    "colab_type": "code",
    "id": "nB849v2Hi750"
   },
   "outputs": [],
   "source": [
    "data.shape, metadata.shape"
   ]
  },
  {
   "cell_type": "markdown",
   "metadata": {
    "colab_type": "text",
    "id": "7-4emCXei756"
   },
   "source": [
    "#### Batch effects\n",
    "\n",
    "It's worth noting here that if you have combined different experiments into one data matrix here, you are potentially exposed yourself to a \"batch effect\". A batch effect is a difference (technical or biological) between two batches of an experiment. This can be caused by systematic error (e.g. a difference in temperature during library preparation) or a genuine biological effect of interest (e.g. in this case each batch is sampled at a different time of development.)\n",
    "\n",
    "Correcting for technical / systematic batch effects is a topic will we cover in detail later in the workshop; however it's worth noting that any time we combine multiple experiments, we should check to see if they are substantially different and compare this to our expectations. If the effect is large and unexpected, we can either a) attempt to correct it / account for it using computational methods, or b) modify our analysis to avoid combining the datasets."
   ]
  },
  {
   "cell_type": "markdown",
   "metadata": {
    "colab_type": "text",
    "collapsed": true,
    "id": "pGrC9YiEacXc"
   },
   "source": [
    "<a id='preprocessing'></a>\n",
    "## 3. Preprocessing: Filtering, Normalizing, and Transforming\n",
    "\n",
    "### Filtering\n",
    "\n",
    "We filter the data by: \n",
    "1. Removing dead cells  \n",
    "2. Filtering by library size (if we did not do this prior to combining batches)\n",
    "3. Removing genes that are expressed in relatively few cells."
   ]
  },
  {
   "cell_type": "markdown",
   "metadata": {
    "colab_type": "text",
    "collapsed": true,
    "id": "3e3m5x8LacXd"
   },
   "source": [
    "### 3.1 Dead cell removal\n",
    "\n",
    "#### What does high mitochondrial gene expression indicate?\n",
    "\n",
    "Generally, we assume that cells with high detection of mitochondrial RNAs have undergone degradation of the mitochondrial membrane as a result of apoptosis. This may be from stress during dissociation, culture, or really anywhere in the experimental pipeline. As with the high and low library size cells, we want to remove the long tail from the distribution. In a successful experiment, it's typical for 5-10% of the cells to have this apoptotic signature.\n",
    "\n",
    "#### Plotting mitochondrial expression\n",
    "\n",
    "Let's look at the mitochondrial expression. You can do this using [`scprep.plot.plot_gene_set_expression()`](https://scprep.readthedocs.io/en/stable/reference.html#scprep.plot.plot_gene_set_expression), which conveniently gets you the list of mitochrondrial genes by name using the helper function [`scprep.select.get_gene_set()`](https://scprep.readthedocs.io/en/stable/reference.html#scprep.select.get_gene_set)."
   ]
  },
  {
   "cell_type": "code",
   "execution_count": 0,
   "metadata": {
    "colab": {},
    "colab_type": "code",
    "id": "1ZKa468GacXe",
    "scrolled": true
   },
   "outputs": [],
   "source": [
    "# Plot all mitochondrial genes. There are 14, FYI.\n",
    "scprep.plot.plot_gene_set_expression(data, starts_with=\"MT-\",\n",
    "                                     library_size_normalize=True,\n",
    "                                     title=\"Mitochrondrial expression before filtering\")"
   ]
  },
  {
   "cell_type": "markdown",
   "metadata": {
    "colab_type": "text",
    "id": "3PBCeKuPacXh"
   },
   "source": [
    "Here we see that above some threshold, there is a steep increase in expression of mitochondrial RNAs. We'll remove these cells from further analysis. Choose a cut-off based on the histogram above and plot your chosen value on a new histogram.\n",
    "\n",
    "### Exercise 2 - filtering dead cells by mitochondrial expression"
   ]
  },
  {
   "cell_type": "code",
   "execution_count": 0,
   "metadata": {
    "colab": {},
    "colab_type": "code",
    "id": "9VLut_AAi76F"
   },
   "outputs": [],
   "source": [
    "# ================\n",
    "# choose a cutoff at which to plot a red line such that you\n",
    "# remove cells with aberrant mitochondrial expression\n",
    "scprep.plot.plot_gene_set_expression(\n",
    "    data, starts_with=\"MT-\",\n",
    "    library_size_normalize=True,\n",
    "    cutoff = \n",
    ")\n",
    "# ================"
   ]
  },
  {
   "cell_type": "markdown",
   "metadata": {
    "colab_type": "text",
    "id": "pZ7YEYfNi76L"
   },
   "source": [
    "Now we can remove those cells."
   ]
  },
  {
   "cell_type": "code",
   "execution_count": 0,
   "metadata": {
    "colab": {},
    "colab_type": "code",
    "id": "IYhfs7y9acXi"
   },
   "outputs": [],
   "source": [
    "# ================\n",
    "# Fill in your chosen cutoff value\n",
    "cutoff = \n",
    "# ================\n",
    "data, metadata = scprep.filter.filter_gene_set_expression(\n",
    "    data, metadata, starts_with=\"MT-\",\n",
    "    cutoff=cutoff, keep_cells='below', library_size_normalize=True)\n",
    "data.shape"
   ]
  },
  {
   "cell_type": "markdown",
   "metadata": {
    "colab_type": "text",
    "id": "bSB0nhtNi76P"
   },
   "source": [
    "Let's look at that histogram again."
   ]
  },
  {
   "cell_type": "code",
   "execution_count": 0,
   "metadata": {
    "colab": {},
    "colab_type": "code",
    "id": "DKEU2xCHi76R"
   },
   "outputs": [],
   "source": [
    "scprep.plot.plot_gene_set_expression(data, starts_with=\"MT-\",\n",
    "                                     library_size_normalize=True,\n",
    "                                     title=\"Mitochrondrial expression after filtering\")"
   ]
  },
  {
   "cell_type": "markdown",
   "metadata": {
    "colab_type": "text",
    "id": "sfqrFY7Li76U"
   },
   "source": [
    "Much better! We have a tight distribution without a long tail, indicating that all of our cells have relatively normal mitochondrial expression."
   ]
  },
  {
   "cell_type": "markdown",
   "metadata": {
    "colab_type": "text",
    "collapsed": true,
    "id": "ZxLVx9q1acXo"
   },
   "source": [
    "### 3.2 - Filtering lowly expressed genes\n",
    "\n",
    "#### Why remove lowly expressed genes?\n",
    "\n",
    "Capturing RNA from single cells is a noisy process. The first round of reverse transcription is done in the presence of cell lysate. This results in capture of only 10-40% of the mRNA molecules in a cell leading to a phenomenon called dropout where some lowly expressed genes are not detected in cells in which they are expressed [[1](https://www.ncbi.nlm.nih.gov/pmc/articles/PMC5561556/#CR13), [2](https://www.ncbi.nlm.nih.gov/pmc/articles/PMC5561556/#CR44), [3](https://www.ncbi.nlm.nih.gov/pmc/articles/PMC5561556/#CR64), [4](https://www.ncbi.nlm.nih.gov/pmc/articles/PMC5561556/#CR65)]. As a result, some genes are so lowly expressed (or expressed not at all) that we do not have sufficient observations of that gene to make any inferences on its expression.\n",
    "\n",
    "Lowly expressed genes that may only be represented by a handful of mRNAs may not appear in a given dataset. Others might only be present in a small number of cells. Because we lack sufficient information about these genes, we remove lowly expressed genes from the gene expression matrix during preprocessing. Typically, if a gene is detected in fewer than very few cells, it gets removed.\n",
    "\n",
    "Here, we can see that in EB dataset, there are many genes that are detected in very few cells."
   ]
  },
  {
   "cell_type": "code",
   "execution_count": 0,
   "metadata": {
    "colab": {},
    "colab_type": "code",
    "id": "NdqadKiJi76V"
   },
   "outputs": [],
   "source": [
    "scprep.plot.histogram(scprep.measure.gene_capture_count(data), log=True,\n",
    "                      title=\"Gene capture before filtering\",\n",
    "                     xlabel='# of cells with nonzero expression',\n",
    "                     ylabel='# of genes')"
   ]
  },
  {
   "cell_type": "markdown",
   "metadata": {
    "colab_type": "text",
    "id": "qn1hRMG0i76Z"
   },
   "source": [
    "Again, we see a relatively clean distribution on the right (genes observed in many cells) with a heavy tail on the right (rare genes). Where would you choose to cut this off?\n",
    "\n",
    "### Exercise 3 - filtering rare genes"
   ]
  },
  {
   "cell_type": "code",
   "execution_count": 0,
   "metadata": {
    "colab": {},
    "colab_type": "code",
    "id": "TpodU2_5i76Z"
   },
   "outputs": [],
   "source": [
    "# ================\n",
    "# choose a cutoff\n",
    "scprep.plot.histogram(scprep.measure.gene_capture_count(data), \n",
    "                      cutoff =\n",
    "                      log=True,\n",
    "                      title=\"Gene capture before filtering\",\n",
    "                     xlabel='# of cells with nonzero expression',\n",
    "                     ylabel='# of genes')\n",
    "# ================"
   ]
  },
  {
   "cell_type": "markdown",
   "metadata": {
    "colab_type": "text",
    "id": "FPXN0SVQi76c"
   },
   "source": [
    "Let's go ahead and remove those genes."
   ]
  },
  {
   "cell_type": "code",
   "execution_count": 0,
   "metadata": {
    "colab": {},
    "colab_type": "code",
    "id": "9pyvgVwracXq"
   },
   "outputs": [],
   "source": [
    "# ================\n",
    "# choose a cutoff\n",
    "cutoff = \n",
    "data = scprep.filter.filter_rare_genes(data, min_cells=cutoff)\n",
    "# ================"
   ]
  },
  {
   "cell_type": "markdown",
   "metadata": {
    "colab_type": "text",
    "id": "BLE4lM5Vi76h"
   },
   "source": [
    "We can plot the above histogram again for good measure. As you can see, the rare genes are all gone."
   ]
  },
  {
   "cell_type": "code",
   "execution_count": 0,
   "metadata": {
    "colab": {},
    "colab_type": "code",
    "id": "0rFicdbei76h"
   },
   "outputs": [],
   "source": [
    "scprep.plot.histogram(scprep.measure.gene_capture_count(data), cutoff=cutoff, log=True,\n",
    "                      title=\"Gene capture after filtering\",\n",
    "                     xlabel='# of cells with nonzero expression',\n",
    "                     ylabel='# of genes')"
   ]
  },
  {
   "cell_type": "code",
   "execution_count": 0,
   "metadata": {
    "colab": {},
    "colab_type": "code",
    "id": "TyB3I31Ai76m"
   },
   "outputs": [],
   "source": [
    "data.shape"
   ]
  },
  {
   "cell_type": "markdown",
   "metadata": {
    "colab_type": "text",
    "id": "pdU5EQszi76r"
   },
   "source": [
    "After filtering, we have removed many thousands of genes. This will be our last filtering step, though you can always filter out aberrant expression on an ad hoc basis. As it stands, we've quite significantly reduced our dataset from 10,000 x 33,000 that we started with. And that's not even counting the cells we removed by library size before combining time points!"
   ]
  },
  {
   "cell_type": "markdown",
   "metadata": {
    "colab_type": "text",
    "id": "zTOt3GU2acXu"
   },
   "source": [
    "### 3.3 - Normalization\n",
    "\n",
    "As you saw during filtering, the range of library sizes between cells can be quite extreme. We visualized this for one time point pre-filtering, but let's now visualize the whole dataset, post-filtering."
   ]
  },
  {
   "cell_type": "code",
   "execution_count": 0,
   "metadata": {
    "colab": {},
    "colab_type": "code",
    "id": "F2gLalYRi76r"
   },
   "outputs": [],
   "source": [
    "scprep.plot.plot_library_size(data, title='Library size before normalization')"
   ]
  },
  {
   "cell_type": "markdown",
   "metadata": {
    "colab_type": "text",
    "id": "N62nnl8Ri76u"
   },
   "source": [
    "To correct for differences in library sizes, we divide each cell by its library size and then rescale by the a fixed value, sometimes the median library size. The default in `scprep` is to rescale every cell to 10,000 counts to make numbers comparable across datasets.\n",
    "\n",
    "In python this is performed using the preprocessing method [`scprep.normalize.library_size_normalize()`](https://scprep.readthedocs.io/en/stable/reference.html#scprep.normalize.library_size_normalize)."
   ]
  },
  {
   "cell_type": "code",
   "execution_count": 0,
   "metadata": {
    "colab": {},
    "colab_type": "code",
    "id": "The5qKgGacXw"
   },
   "outputs": [],
   "source": [
    "data, metadata['library_size'] = scprep.normalize.library_size_normalize(data, return_library_size=True)"
   ]
  },
  {
   "cell_type": "markdown",
   "metadata": {
    "colab_type": "text",
    "id": "siINZRAYi76y"
   },
   "source": [
    "If you plot the library sizes again, you'll see they are all the same."
   ]
  },
  {
   "cell_type": "code",
   "execution_count": 0,
   "metadata": {
    "colab": {},
    "colab_type": "code",
    "id": "7dMxlh-9i76y"
   },
   "outputs": [],
   "source": [
    "scprep.plot.plot_library_size(data, title='Library size after normalization')"
   ]
  },
  {
   "cell_type": "markdown",
   "metadata": {
    "colab_type": "text",
    "id": "qtpLNUB2acX4"
   },
   "source": [
    "### 3.4 - Gene Count Transformation\n",
    "\n",
    "In scRNA-seq analysis, we often see that some genes are orders of magnitude more common than others. Let's have a look at the mean expression of each gene."
   ]
  },
  {
   "cell_type": "code",
   "execution_count": 0,
   "metadata": {
    "colab": {},
    "colab_type": "code",
    "id": "dHRfDNx0i766"
   },
   "outputs": [],
   "source": [
    "scprep.plot.histogram(data.mean(axis=0), log='y',\n",
    "                      title=\"Gene counts before transformation\",\n",
    "                     xlabel='total # of gene counts',\n",
    "                     ylabel='# of genes')"
   ]
  },
  {
   "cell_type": "markdown",
   "metadata": {
    "colab_type": "text",
    "id": "XDpPOgUai76-"
   },
   "source": [
    "In order to avoid these high-expression genes dominating the variation, the data is often $\\log$-transformed. This typically requires the addition of some small value to avoid taking $\\log(0)$. We avoid this issue entirely by instead taking the square root transform. The square root function has a similar form as the $\\log$ function with the added benefit of being stable at 0."
   ]
  },
  {
   "cell_type": "code",
   "execution_count": 0,
   "metadata": {
    "colab": {},
    "colab_type": "code",
    "id": "gnWsT6p5acX5"
   },
   "outputs": [],
   "source": [
    "data = scprep.transform.sqrt(data)"
   ]
  },
  {
   "cell_type": "markdown",
   "metadata": {
    "colab_type": "text",
    "id": "ONRY2Yvvi77B"
   },
   "source": [
    "After transformation, you should see that the mean expression values are now much closer together."
   ]
  },
  {
   "cell_type": "code",
   "execution_count": 0,
   "metadata": {
    "colab": {},
    "colab_type": "code",
    "id": "lSnzRGaMi77C"
   },
   "outputs": [],
   "source": [
    "scprep.plot.histogram(data.mean(axis=0), log='y',\n",
    "                      title=\"Gene counts after transformation\",\n",
    "                     xlabel='total # of gene counts',\n",
    "                     ylabel='# of genes')"
   ]
  },
  {
   "cell_type": "markdown",
   "metadata": {
    "colab_type": "text",
    "id": "67r61LQuvEwd"
   },
   "source": [
    "### 4.0 Saving the output\n",
    "\n",
    "There are many ways to save a Pandas DataFrame, including built in `pandas` function [`DataFrame.to_csv`](https://pandas.pydata.org/pandas-docs/stable/user_guide/io.html#writing-out-data) and `scprep` function [`scprep.io.save_mtx`](https://scprep.readthedocs.io/en/stable/reference.html#scprep.io.save_mtx). For speed, we will be using [`DataFrame.to_pickle`](https://pandas.pydata.org/pandas-docs/stable/user_guide/io.html#pickling) which is extremely fast and efficient for reading and writing matrices in Python.\n",
    "\n",
    "The next cell will write the processed data matrices to disk."
   ]
  },
  {
   "cell_type": "code",
   "execution_count": 0,
   "metadata": {
    "colab": {},
    "colab_type": "code",
    "id": "PlT1MDf2wFzF"
   },
   "outputs": [],
   "source": [
    "data.to_pickle(\"data.pickle.gz\")\n",
    "metadata.to_pickle(\"metadata.pickle.gz\")"
   ]
  },
  {
   "attachments": {},
   "cell_type": "markdown",
   "metadata": {},
   "source": [
    "To see the new files in the Files pane, click \"Refresh\".\n",
    "\n",
    "![How to refresh the files pane in Colab](https://github.com/KrishnaswamyLab/SingleCellWorkshop/raw/master/exercises/Preprocessing/img/refresh.png)"
   ]
  },
  {
   "attachments": {},
   "cell_type": "markdown",
   "metadata": {},
   "source": [
    "Click the three dots on `data.pickle` and select \"Download\". It may take a while to prepare the download. Repeat for `metadata.pickle`.\n",
    "\n",
    "![How to download files in Colab](https://github.com/KrishnaswamyLab/SingleCellWorkshop/raw/master/exercises/Preprocessing/img/download.png)"
   ]
  },
  {
   "cell_type": "markdown",
   "metadata": {},
   "source": [
    "You may upload these to any of the workshop notebooks in order to use your own data in place of the provided data by uploading them to [Google Drive](https://drive.google.com) and replacing the file hash in any of the downloads with your own file hash.\n",
    "\n",
    "Upload the files to Google Drive by dragging the files you downloaded into the Google Drive browser window."
   ]
  },
  {
   "attachments": {
    "image.png": {
     "image/png": "[encoded data removed]"
    }
   },
   "cell_type": "markdown",
   "metadata": {},
   "source": [
    "To find the file hash for your uploaded files, right click on the file and click \"Get Shareable Link\". \n",
    "\n",
    "![image.png](attachment:image.png)\n",
    "\n",
    "You should see something like this:\n",
    "```\n",
    "https://drive.google.com/open?id=1Xz0ONnRWp2MLC_R6r74MzNwaZ4DkQPcM\n",
    "```\n",
    "or like this:\n",
    "```\n",
    "https://drive.google.com/file/d/1Xz0ONnRWp2MLC_R6r74MzNwaZ4DkQPcM/view?usp=sharing\n",
    "```\n",
    "Either way, what we're looking for is that string of random letters and numbers, either between **`id=`** and the end, or between **`/d/`** and **`/view`**. In this case, the hash is `1Xz0ONnRWp2MLC_R6r74MzNwaZ4DkQPcM`.\n",
    "\n",
    "Once we have the hash, we can download the file using [`scprep.io.download.download_google_drive`](https://scprep.readthedocs.io/en/stable/reference.html#scprep.io.download.download_google_drive)."
   ]
  },
  {
   "cell_type": "code",
   "execution_count": 5,
   "metadata": {},
   "outputs": [
    {
     "data": {
      "text/html": [
       "<div>\n",
       "<style scoped>\n",
       "    .dataframe tbody tr th:only-of-type {\n",
       "        vertical-align: middle;\n",
       "    }\n",
       "\n",
       "    .dataframe tbody tr th {\n",
       "        vertical-align: top;\n",
       "    }\n",
       "\n",
       "    .dataframe thead th {\n",
       "        text-align: right;\n",
       "    }\n",
       "</style>\n",
       "<table border=\"1\" class=\"dataframe\">\n",
       "  <thead>\n",
       "    <tr style=\"text-align: right;\">\n",
       "      <th></th>\n",
       "      <th>FO538757.2 (ENSG00000279457)</th>\n",
       "      <th>AP006222.2 (ENSG00000228463)</th>\n",
       "      <th>RP11-206L10.9 (ENSG00000237491)</th>\n",
       "      <th>LINC00115 (ENSG00000225880)</th>\n",
       "      <th>FAM41C (ENSG00000230368)</th>\n",
       "      <th>RP11-54O7.1 (ENSG00000230699)</th>\n",
       "      <th>RP11-54O7.2 (ENSG00000241180)</th>\n",
       "      <th>RP11-54O7.3 (ENSG00000223764)</th>\n",
       "      <th>SAMD11 (ENSG00000187634)</th>\n",
       "      <th>NOC2L (ENSG00000188976)</th>\n",
       "      <th>...</th>\n",
       "      <th>MT-ND4L (ENSG00000212907)</th>\n",
       "      <th>MT-ND4 (ENSG00000198886)</th>\n",
       "      <th>MT-ND5 (ENSG00000198786)</th>\n",
       "      <th>MT-ND6 (ENSG00000198695)</th>\n",
       "      <th>MT-CYB (ENSG00000198727)</th>\n",
       "      <th>AC011043.1 (ENSG00000276256)</th>\n",
       "      <th>AL592183.1 (ENSG00000273748)</th>\n",
       "      <th>AC007325.4 (ENSG00000278817)</th>\n",
       "      <th>AC004556.1 (ENSG00000276345)</th>\n",
       "      <th>AC240274.1 (ENSG00000271254)</th>\n",
       "    </tr>\n",
       "  </thead>\n",
       "  <tbody>\n",
       "    <tr>\n",
       "      <th>AAACCGTGCAGAAA-1_Day 00-03</th>\n",
       "      <td>0.0</td>\n",
       "      <td>0.000000</td>\n",
       "      <td>0.0</td>\n",
       "      <td>0.0</td>\n",
       "      <td>0.0</td>\n",
       "      <td>0.0</td>\n",
       "      <td>0.0</td>\n",
       "      <td>0.0</td>\n",
       "      <td>0.0</td>\n",
       "      <td>0.000000</td>\n",
       "      <td>...</td>\n",
       "      <td>0.0</td>\n",
       "      <td>3.288398</td>\n",
       "      <td>1.898557</td>\n",
       "      <td>0.000000</td>\n",
       "      <td>3.797115</td>\n",
       "      <td>0.0</td>\n",
       "      <td>0.0</td>\n",
       "      <td>0.000000</td>\n",
       "      <td>0.0</td>\n",
       "      <td>0.0</td>\n",
       "    </tr>\n",
       "    <tr>\n",
       "      <th>AAACGCACCGGTAT-1_Day 00-03</th>\n",
       "      <td>0.0</td>\n",
       "      <td>0.000000</td>\n",
       "      <td>0.0</td>\n",
       "      <td>0.0</td>\n",
       "      <td>0.0</td>\n",
       "      <td>0.0</td>\n",
       "      <td>0.0</td>\n",
       "      <td>0.0</td>\n",
       "      <td>0.0</td>\n",
       "      <td>0.931534</td>\n",
       "      <td>...</td>\n",
       "      <td>0.0</td>\n",
       "      <td>3.158984</td>\n",
       "      <td>1.140891</td>\n",
       "      <td>0.658694</td>\n",
       "      <td>3.293468</td>\n",
       "      <td>0.0</td>\n",
       "      <td>0.0</td>\n",
       "      <td>0.000000</td>\n",
       "      <td>0.0</td>\n",
       "      <td>0.0</td>\n",
       "    </tr>\n",
       "    <tr>\n",
       "      <th>AAACGCACCTATTC-1_Day 00-03</th>\n",
       "      <td>0.0</td>\n",
       "      <td>0.000000</td>\n",
       "      <td>0.0</td>\n",
       "      <td>0.0</td>\n",
       "      <td>0.0</td>\n",
       "      <td>0.0</td>\n",
       "      <td>0.0</td>\n",
       "      <td>0.0</td>\n",
       "      <td>0.0</td>\n",
       "      <td>0.000000</td>\n",
       "      <td>...</td>\n",
       "      <td>0.0</td>\n",
       "      <td>3.282188</td>\n",
       "      <td>1.432464</td>\n",
       "      <td>0.000000</td>\n",
       "      <td>4.237287</td>\n",
       "      <td>0.0</td>\n",
       "      <td>0.0</td>\n",
       "      <td>0.000000</td>\n",
       "      <td>0.0</td>\n",
       "      <td>0.0</td>\n",
       "    </tr>\n",
       "    <tr>\n",
       "      <th>AAAGATCTCTGCTC-1_Day 00-03</th>\n",
       "      <td>0.0</td>\n",
       "      <td>1.232158</td>\n",
       "      <td>0.0</td>\n",
       "      <td>0.0</td>\n",
       "      <td>0.0</td>\n",
       "      <td>0.0</td>\n",
       "      <td>0.0</td>\n",
       "      <td>0.0</td>\n",
       "      <td>0.0</td>\n",
       "      <td>0.000000</td>\n",
       "      <td>...</td>\n",
       "      <td>0.0</td>\n",
       "      <td>3.141399</td>\n",
       "      <td>0.871267</td>\n",
       "      <td>0.000000</td>\n",
       "      <td>4.086606</td>\n",
       "      <td>0.0</td>\n",
       "      <td>0.0</td>\n",
       "      <td>0.000000</td>\n",
       "      <td>0.0</td>\n",
       "      <td>0.0</td>\n",
       "    </tr>\n",
       "    <tr>\n",
       "      <th>AAAGATCTGGTACT-1_Day 00-03</th>\n",
       "      <td>0.0</td>\n",
       "      <td>0.000000</td>\n",
       "      <td>0.0</td>\n",
       "      <td>0.0</td>\n",
       "      <td>0.0</td>\n",
       "      <td>0.0</td>\n",
       "      <td>0.0</td>\n",
       "      <td>0.0</td>\n",
       "      <td>0.0</td>\n",
       "      <td>0.686594</td>\n",
       "      <td>...</td>\n",
       "      <td>0.0</td>\n",
       "      <td>2.912970</td>\n",
       "      <td>0.970990</td>\n",
       "      <td>0.000000</td>\n",
       "      <td>3.760628</td>\n",
       "      <td>0.0</td>\n",
       "      <td>0.0</td>\n",
       "      <td>0.000000</td>\n",
       "      <td>0.0</td>\n",
       "      <td>0.0</td>\n",
       "    </tr>\n",
       "    <tr>\n",
       "      <th>...</th>\n",
       "      <td>...</td>\n",
       "      <td>...</td>\n",
       "      <td>...</td>\n",
       "      <td>...</td>\n",
       "      <td>...</td>\n",
       "      <td>...</td>\n",
       "      <td>...</td>\n",
       "      <td>...</td>\n",
       "      <td>...</td>\n",
       "      <td>...</td>\n",
       "      <td>...</td>\n",
       "      <td>...</td>\n",
       "      <td>...</td>\n",
       "      <td>...</td>\n",
       "      <td>...</td>\n",
       "      <td>...</td>\n",
       "      <td>...</td>\n",
       "      <td>...</td>\n",
       "      <td>...</td>\n",
       "      <td>...</td>\n",
       "      <td>...</td>\n",
       "    </tr>\n",
       "    <tr>\n",
       "      <th>TTTCGAACTTCTCA-1_Day 24-27</th>\n",
       "      <td>0.0</td>\n",
       "      <td>1.792619</td>\n",
       "      <td>0.0</td>\n",
       "      <td>0.0</td>\n",
       "      <td>0.0</td>\n",
       "      <td>0.0</td>\n",
       "      <td>0.0</td>\n",
       "      <td>0.0</td>\n",
       "      <td>0.0</td>\n",
       "      <td>0.000000</td>\n",
       "      <td>...</td>\n",
       "      <td>0.0</td>\n",
       "      <td>0.000000</td>\n",
       "      <td>1.267573</td>\n",
       "      <td>0.000000</td>\n",
       "      <td>4.391002</td>\n",
       "      <td>0.0</td>\n",
       "      <td>0.0</td>\n",
       "      <td>1.267573</td>\n",
       "      <td>0.0</td>\n",
       "      <td>0.0</td>\n",
       "    </tr>\n",
       "    <tr>\n",
       "      <th>TTTCTACTCTTATC-1_Day 24-27</th>\n",
       "      <td>0.0</td>\n",
       "      <td>0.000000</td>\n",
       "      <td>0.0</td>\n",
       "      <td>0.0</td>\n",
       "      <td>0.0</td>\n",
       "      <td>0.0</td>\n",
       "      <td>0.0</td>\n",
       "      <td>0.0</td>\n",
       "      <td>0.0</td>\n",
       "      <td>0.000000</td>\n",
       "      <td>...</td>\n",
       "      <td>0.0</td>\n",
       "      <td>3.677589</td>\n",
       "      <td>1.300224</td>\n",
       "      <td>1.300224</td>\n",
       "      <td>2.600448</td>\n",
       "      <td>0.0</td>\n",
       "      <td>0.0</td>\n",
       "      <td>0.000000</td>\n",
       "      <td>0.0</td>\n",
       "      <td>0.0</td>\n",
       "    </tr>\n",
       "    <tr>\n",
       "      <th>TTTCTACTTGAGCT-1_Day 24-27</th>\n",
       "      <td>0.0</td>\n",
       "      <td>0.000000</td>\n",
       "      <td>0.0</td>\n",
       "      <td>0.0</td>\n",
       "      <td>0.0</td>\n",
       "      <td>0.0</td>\n",
       "      <td>0.0</td>\n",
       "      <td>0.0</td>\n",
       "      <td>0.0</td>\n",
       "      <td>0.000000</td>\n",
       "      <td>...</td>\n",
       "      <td>0.0</td>\n",
       "      <td>0.000000</td>\n",
       "      <td>0.000000</td>\n",
       "      <td>0.000000</td>\n",
       "      <td>1.334102</td>\n",
       "      <td>0.0</td>\n",
       "      <td>0.0</td>\n",
       "      <td>0.000000</td>\n",
       "      <td>0.0</td>\n",
       "      <td>0.0</td>\n",
       "    </tr>\n",
       "    <tr>\n",
       "      <th>TTTGCATGATGACC-1_Day 24-27</th>\n",
       "      <td>0.0</td>\n",
       "      <td>0.000000</td>\n",
       "      <td>0.0</td>\n",
       "      <td>0.0</td>\n",
       "      <td>0.0</td>\n",
       "      <td>0.0</td>\n",
       "      <td>0.0</td>\n",
       "      <td>0.0</td>\n",
       "      <td>0.0</td>\n",
       "      <td>0.000000</td>\n",
       "      <td>...</td>\n",
       "      <td>0.0</td>\n",
       "      <td>4.547889</td>\n",
       "      <td>0.000000</td>\n",
       "      <td>2.033878</td>\n",
       "      <td>2.033878</td>\n",
       "      <td>0.0</td>\n",
       "      <td>0.0</td>\n",
       "      <td>0.000000</td>\n",
       "      <td>0.0</td>\n",
       "      <td>0.0</td>\n",
       "    </tr>\n",
       "    <tr>\n",
       "      <th>TTTGCATGTTCTTG-1_Day 24-27</th>\n",
       "      <td>0.0</td>\n",
       "      <td>0.000000</td>\n",
       "      <td>0.0</td>\n",
       "      <td>0.0</td>\n",
       "      <td>0.0</td>\n",
       "      <td>0.0</td>\n",
       "      <td>0.0</td>\n",
       "      <td>0.0</td>\n",
       "      <td>0.0</td>\n",
       "      <td>0.000000</td>\n",
       "      <td>...</td>\n",
       "      <td>0.0</td>\n",
       "      <td>3.345914</td>\n",
       "      <td>0.000000</td>\n",
       "      <td>0.000000</td>\n",
       "      <td>3.345914</td>\n",
       "      <td>0.0</td>\n",
       "      <td>0.0</td>\n",
       "      <td>0.000000</td>\n",
       "      <td>0.0</td>\n",
       "      <td>0.0</td>\n",
       "    </tr>\n",
       "  </tbody>\n",
       "</table>\n",
       "<p>16821 rows × 17619 columns</p>\n",
       "</div>"
      ],
      "text/plain": [
       "                            FO538757.2 (ENSG00000279457)  \\\n",
       "AAACCGTGCAGAAA-1_Day 00-03                           0.0   \n",
       "AAACGCACCGGTAT-1_Day 00-03                           0.0   \n",
       "AAACGCACCTATTC-1_Day 00-03                           0.0   \n",
       "AAAGATCTCTGCTC-1_Day 00-03                           0.0   \n",
       "AAAGATCTGGTACT-1_Day 00-03                           0.0   \n",
       "...                                                  ...   \n",
       "TTTCGAACTTCTCA-1_Day 24-27                           0.0   \n",
       "TTTCTACTCTTATC-1_Day 24-27                           0.0   \n",
       "TTTCTACTTGAGCT-1_Day 24-27                           0.0   \n",
       "TTTGCATGATGACC-1_Day 24-27                           0.0   \n",
       "TTTGCATGTTCTTG-1_Day 24-27                           0.0   \n",
       "\n",
       "                            AP006222.2 (ENSG00000228463)  \\\n",
       "AAACCGTGCAGAAA-1_Day 00-03                      0.000000   \n",
       "AAACGCACCGGTAT-1_Day 00-03                      0.000000   \n",
       "AAACGCACCTATTC-1_Day 00-03                      0.000000   \n",
       "AAAGATCTCTGCTC-1_Day 00-03                      1.232158   \n",
       "AAAGATCTGGTACT-1_Day 00-03                      0.000000   \n",
       "...                                                  ...   \n",
       "TTTCGAACTTCTCA-1_Day 24-27                      1.792619   \n",
       "TTTCTACTCTTATC-1_Day 24-27                      0.000000   \n",
       "TTTCTACTTGAGCT-1_Day 24-27                      0.000000   \n",
       "TTTGCATGATGACC-1_Day 24-27                      0.000000   \n",
       "TTTGCATGTTCTTG-1_Day 24-27                      0.000000   \n",
       "\n",
       "                            RP11-206L10.9 (ENSG00000237491)  \\\n",
       "AAACCGTGCAGAAA-1_Day 00-03                              0.0   \n",
       "AAACGCACCGGTAT-1_Day 00-03                              0.0   \n",
       "AAACGCACCTATTC-1_Day 00-03                              0.0   \n",
       "AAAGATCTCTGCTC-1_Day 00-03                              0.0   \n",
       "AAAGATCTGGTACT-1_Day 00-03                              0.0   \n",
       "...                                                     ...   \n",
       "TTTCGAACTTCTCA-1_Day 24-27                              0.0   \n",
       "TTTCTACTCTTATC-1_Day 24-27                              0.0   \n",
       "TTTCTACTTGAGCT-1_Day 24-27                              0.0   \n",
       "TTTGCATGATGACC-1_Day 24-27                              0.0   \n",
       "TTTGCATGTTCTTG-1_Day 24-27                              0.0   \n",
       "\n",
       "                            LINC00115 (ENSG00000225880)  \\\n",
       "AAACCGTGCAGAAA-1_Day 00-03                          0.0   \n",
       "AAACGCACCGGTAT-1_Day 00-03                          0.0   \n",
       "AAACGCACCTATTC-1_Day 00-03                          0.0   \n",
       "AAAGATCTCTGCTC-1_Day 00-03                          0.0   \n",
       "AAAGATCTGGTACT-1_Day 00-03                          0.0   \n",
       "...                                                 ...   \n",
       "TTTCGAACTTCTCA-1_Day 24-27                          0.0   \n",
       "TTTCTACTCTTATC-1_Day 24-27                          0.0   \n",
       "TTTCTACTTGAGCT-1_Day 24-27                          0.0   \n",
       "TTTGCATGATGACC-1_Day 24-27                          0.0   \n",
       "TTTGCATGTTCTTG-1_Day 24-27                          0.0   \n",
       "\n",
       "                            FAM41C (ENSG00000230368)  \\\n",
       "AAACCGTGCAGAAA-1_Day 00-03                       0.0   \n",
       "AAACGCACCGGTAT-1_Day 00-03                       0.0   \n",
       "AAACGCACCTATTC-1_Day 00-03                       0.0   \n",
       "AAAGATCTCTGCTC-1_Day 00-03                       0.0   \n",
       "AAAGATCTGGTACT-1_Day 00-03                       0.0   \n",
       "...                                              ...   \n",
       "TTTCGAACTTCTCA-1_Day 24-27                       0.0   \n",
       "TTTCTACTCTTATC-1_Day 24-27                       0.0   \n",
       "TTTCTACTTGAGCT-1_Day 24-27                       0.0   \n",
       "TTTGCATGATGACC-1_Day 24-27                       0.0   \n",
       "TTTGCATGTTCTTG-1_Day 24-27                       0.0   \n",
       "\n",
       "                            RP11-54O7.1 (ENSG00000230699)  \\\n",
       "AAACCGTGCAGAAA-1_Day 00-03                            0.0   \n",
       "AAACGCACCGGTAT-1_Day 00-03                            0.0   \n",
       "AAACGCACCTATTC-1_Day 00-03                            0.0   \n",
       "AAAGATCTCTGCTC-1_Day 00-03                            0.0   \n",
       "AAAGATCTGGTACT-1_Day 00-03                            0.0   \n",
       "...                                                   ...   \n",
       "TTTCGAACTTCTCA-1_Day 24-27                            0.0   \n",
       "TTTCTACTCTTATC-1_Day 24-27                            0.0   \n",
       "TTTCTACTTGAGCT-1_Day 24-27                            0.0   \n",
       "TTTGCATGATGACC-1_Day 24-27                            0.0   \n",
       "TTTGCATGTTCTTG-1_Day 24-27                            0.0   \n",
       "\n",
       "                            RP11-54O7.2 (ENSG00000241180)  \\\n",
       "AAACCGTGCAGAAA-1_Day 00-03                            0.0   \n",
       "AAACGCACCGGTAT-1_Day 00-03                            0.0   \n",
       "AAACGCACCTATTC-1_Day 00-03                            0.0   \n",
       "AAAGATCTCTGCTC-1_Day 00-03                            0.0   \n",
       "AAAGATCTGGTACT-1_Day 00-03                            0.0   \n",
       "...                                                   ...   \n",
       "TTTCGAACTTCTCA-1_Day 24-27                            0.0   \n",
       "TTTCTACTCTTATC-1_Day 24-27                            0.0   \n",
       "TTTCTACTTGAGCT-1_Day 24-27                            0.0   \n",
       "TTTGCATGATGACC-1_Day 24-27                            0.0   \n",
       "TTTGCATGTTCTTG-1_Day 24-27                            0.0   \n",
       "\n",
       "                            RP11-54O7.3 (ENSG00000223764)  \\\n",
       "AAACCGTGCAGAAA-1_Day 00-03                            0.0   \n",
       "AAACGCACCGGTAT-1_Day 00-03                            0.0   \n",
       "AAACGCACCTATTC-1_Day 00-03                            0.0   \n",
       "AAAGATCTCTGCTC-1_Day 00-03                            0.0   \n",
       "AAAGATCTGGTACT-1_Day 00-03                            0.0   \n",
       "...                                                   ...   \n",
       "TTTCGAACTTCTCA-1_Day 24-27                            0.0   \n",
       "TTTCTACTCTTATC-1_Day 24-27                            0.0   \n",
       "TTTCTACTTGAGCT-1_Day 24-27                            0.0   \n",
       "TTTGCATGATGACC-1_Day 24-27                            0.0   \n",
       "TTTGCATGTTCTTG-1_Day 24-27                            0.0   \n",
       "\n",
       "                            SAMD11 (ENSG00000187634)  NOC2L (ENSG00000188976)  \\\n",
       "AAACCGTGCAGAAA-1_Day 00-03                       0.0                 0.000000   \n",
       "AAACGCACCGGTAT-1_Day 00-03                       0.0                 0.931534   \n",
       "AAACGCACCTATTC-1_Day 00-03                       0.0                 0.000000   \n",
       "AAAGATCTCTGCTC-1_Day 00-03                       0.0                 0.000000   \n",
       "AAAGATCTGGTACT-1_Day 00-03                       0.0                 0.686594   \n",
       "...                                              ...                      ...   \n",
       "TTTCGAACTTCTCA-1_Day 24-27                       0.0                 0.000000   \n",
       "TTTCTACTCTTATC-1_Day 24-27                       0.0                 0.000000   \n",
       "TTTCTACTTGAGCT-1_Day 24-27                       0.0                 0.000000   \n",
       "TTTGCATGATGACC-1_Day 24-27                       0.0                 0.000000   \n",
       "TTTGCATGTTCTTG-1_Day 24-27                       0.0                 0.000000   \n",
       "\n",
       "                            ...  MT-ND4L (ENSG00000212907)  \\\n",
       "AAACCGTGCAGAAA-1_Day 00-03  ...                        0.0   \n",
       "AAACGCACCGGTAT-1_Day 00-03  ...                        0.0   \n",
       "AAACGCACCTATTC-1_Day 00-03  ...                        0.0   \n",
       "AAAGATCTCTGCTC-1_Day 00-03  ...                        0.0   \n",
       "AAAGATCTGGTACT-1_Day 00-03  ...                        0.0   \n",
       "...                         ...                        ...   \n",
       "TTTCGAACTTCTCA-1_Day 24-27  ...                        0.0   \n",
       "TTTCTACTCTTATC-1_Day 24-27  ...                        0.0   \n",
       "TTTCTACTTGAGCT-1_Day 24-27  ...                        0.0   \n",
       "TTTGCATGATGACC-1_Day 24-27  ...                        0.0   \n",
       "TTTGCATGTTCTTG-1_Day 24-27  ...                        0.0   \n",
       "\n",
       "                            MT-ND4 (ENSG00000198886)  \\\n",
       "AAACCGTGCAGAAA-1_Day 00-03                  3.288398   \n",
       "AAACGCACCGGTAT-1_Day 00-03                  3.158984   \n",
       "AAACGCACCTATTC-1_Day 00-03                  3.282188   \n",
       "AAAGATCTCTGCTC-1_Day 00-03                  3.141399   \n",
       "AAAGATCTGGTACT-1_Day 00-03                  2.912970   \n",
       "...                                              ...   \n",
       "TTTCGAACTTCTCA-1_Day 24-27                  0.000000   \n",
       "TTTCTACTCTTATC-1_Day 24-27                  3.677589   \n",
       "TTTCTACTTGAGCT-1_Day 24-27                  0.000000   \n",
       "TTTGCATGATGACC-1_Day 24-27                  4.547889   \n",
       "TTTGCATGTTCTTG-1_Day 24-27                  3.345914   \n",
       "\n",
       "                            MT-ND5 (ENSG00000198786)  \\\n",
       "AAACCGTGCAGAAA-1_Day 00-03                  1.898557   \n",
       "AAACGCACCGGTAT-1_Day 00-03                  1.140891   \n",
       "AAACGCACCTATTC-1_Day 00-03                  1.432464   \n",
       "AAAGATCTCTGCTC-1_Day 00-03                  0.871267   \n",
       "AAAGATCTGGTACT-1_Day 00-03                  0.970990   \n",
       "...                                              ...   \n",
       "TTTCGAACTTCTCA-1_Day 24-27                  1.267573   \n",
       "TTTCTACTCTTATC-1_Day 24-27                  1.300224   \n",
       "TTTCTACTTGAGCT-1_Day 24-27                  0.000000   \n",
       "TTTGCATGATGACC-1_Day 24-27                  0.000000   \n",
       "TTTGCATGTTCTTG-1_Day 24-27                  0.000000   \n",
       "\n",
       "                            MT-ND6 (ENSG00000198695)  \\\n",
       "AAACCGTGCAGAAA-1_Day 00-03                  0.000000   \n",
       "AAACGCACCGGTAT-1_Day 00-03                  0.658694   \n",
       "AAACGCACCTATTC-1_Day 00-03                  0.000000   \n",
       "AAAGATCTCTGCTC-1_Day 00-03                  0.000000   \n",
       "AAAGATCTGGTACT-1_Day 00-03                  0.000000   \n",
       "...                                              ...   \n",
       "TTTCGAACTTCTCA-1_Day 24-27                  0.000000   \n",
       "TTTCTACTCTTATC-1_Day 24-27                  1.300224   \n",
       "TTTCTACTTGAGCT-1_Day 24-27                  0.000000   \n",
       "TTTGCATGATGACC-1_Day 24-27                  2.033878   \n",
       "TTTGCATGTTCTTG-1_Day 24-27                  0.000000   \n",
       "\n",
       "                            MT-CYB (ENSG00000198727)  \\\n",
       "AAACCGTGCAGAAA-1_Day 00-03                  3.797115   \n",
       "AAACGCACCGGTAT-1_Day 00-03                  3.293468   \n",
       "AAACGCACCTATTC-1_Day 00-03                  4.237287   \n",
       "AAAGATCTCTGCTC-1_Day 00-03                  4.086606   \n",
       "AAAGATCTGGTACT-1_Day 00-03                  3.760628   \n",
       "...                                              ...   \n",
       "TTTCGAACTTCTCA-1_Day 24-27                  4.391002   \n",
       "TTTCTACTCTTATC-1_Day 24-27                  2.600448   \n",
       "TTTCTACTTGAGCT-1_Day 24-27                  1.334102   \n",
       "TTTGCATGATGACC-1_Day 24-27                  2.033878   \n",
       "TTTGCATGTTCTTG-1_Day 24-27                  3.345914   \n",
       "\n",
       "                            AC011043.1 (ENSG00000276256)  \\\n",
       "AAACCGTGCAGAAA-1_Day 00-03                           0.0   \n",
       "AAACGCACCGGTAT-1_Day 00-03                           0.0   \n",
       "AAACGCACCTATTC-1_Day 00-03                           0.0   \n",
       "AAAGATCTCTGCTC-1_Day 00-03                           0.0   \n",
       "AAAGATCTGGTACT-1_Day 00-03                           0.0   \n",
       "...                                                  ...   \n",
       "TTTCGAACTTCTCA-1_Day 24-27                           0.0   \n",
       "TTTCTACTCTTATC-1_Day 24-27                           0.0   \n",
       "TTTCTACTTGAGCT-1_Day 24-27                           0.0   \n",
       "TTTGCATGATGACC-1_Day 24-27                           0.0   \n",
       "TTTGCATGTTCTTG-1_Day 24-27                           0.0   \n",
       "\n",
       "                            AL592183.1 (ENSG00000273748)  \\\n",
       "AAACCGTGCAGAAA-1_Day 00-03                           0.0   \n",
       "AAACGCACCGGTAT-1_Day 00-03                           0.0   \n",
       "AAACGCACCTATTC-1_Day 00-03                           0.0   \n",
       "AAAGATCTCTGCTC-1_Day 00-03                           0.0   \n",
       "AAAGATCTGGTACT-1_Day 00-03                           0.0   \n",
       "...                                                  ...   \n",
       "TTTCGAACTTCTCA-1_Day 24-27                           0.0   \n",
       "TTTCTACTCTTATC-1_Day 24-27                           0.0   \n",
       "TTTCTACTTGAGCT-1_Day 24-27                           0.0   \n",
       "TTTGCATGATGACC-1_Day 24-27                           0.0   \n",
       "TTTGCATGTTCTTG-1_Day 24-27                           0.0   \n",
       "\n",
       "                            AC007325.4 (ENSG00000278817)  \\\n",
       "AAACCGTGCAGAAA-1_Day 00-03                      0.000000   \n",
       "AAACGCACCGGTAT-1_Day 00-03                      0.000000   \n",
       "AAACGCACCTATTC-1_Day 00-03                      0.000000   \n",
       "AAAGATCTCTGCTC-1_Day 00-03                      0.000000   \n",
       "AAAGATCTGGTACT-1_Day 00-03                      0.000000   \n",
       "...                                                  ...   \n",
       "TTTCGAACTTCTCA-1_Day 24-27                      1.267573   \n",
       "TTTCTACTCTTATC-1_Day 24-27                      0.000000   \n",
       "TTTCTACTTGAGCT-1_Day 24-27                      0.000000   \n",
       "TTTGCATGATGACC-1_Day 24-27                      0.000000   \n",
       "TTTGCATGTTCTTG-1_Day 24-27                      0.000000   \n",
       "\n",
       "                            AC004556.1 (ENSG00000276345)  \\\n",
       "AAACCGTGCAGAAA-1_Day 00-03                           0.0   \n",
       "AAACGCACCGGTAT-1_Day 00-03                           0.0   \n",
       "AAACGCACCTATTC-1_Day 00-03                           0.0   \n",
       "AAAGATCTCTGCTC-1_Day 00-03                           0.0   \n",
       "AAAGATCTGGTACT-1_Day 00-03                           0.0   \n",
       "...                                                  ...   \n",
       "TTTCGAACTTCTCA-1_Day 24-27                           0.0   \n",
       "TTTCTACTCTTATC-1_Day 24-27                           0.0   \n",
       "TTTCTACTTGAGCT-1_Day 24-27                           0.0   \n",
       "TTTGCATGATGACC-1_Day 24-27                           0.0   \n",
       "TTTGCATGTTCTTG-1_Day 24-27                           0.0   \n",
       "\n",
       "                            AC240274.1 (ENSG00000271254)  \n",
       "AAACCGTGCAGAAA-1_Day 00-03                           0.0  \n",
       "AAACGCACCGGTAT-1_Day 00-03                           0.0  \n",
       "AAACGCACCTATTC-1_Day 00-03                           0.0  \n",
       "AAAGATCTCTGCTC-1_Day 00-03                           0.0  \n",
       "AAAGATCTGGTACT-1_Day 00-03                           0.0  \n",
       "...                                                  ...  \n",
       "TTTCGAACTTCTCA-1_Day 24-27                           0.0  \n",
       "TTTCTACTCTTATC-1_Day 24-27                           0.0  \n",
       "TTTCTACTTGAGCT-1_Day 24-27                           0.0  \n",
       "TTTGCATGATGACC-1_Day 24-27                           0.0  \n",
       "TTTGCATGTTCTTG-1_Day 24-27                           0.0  \n",
       "\n",
       "[16821 rows x 17619 columns]"
      ]
     },
     "execution_count": 5,
     "metadata": {},
     "output_type": "execute_result"
    }
   ],
   "source": [
    "scprep.io.download.download_google_drive(\"1Xz0ONnRWp2MLC_R6r74MzNwaZ4DkQPcM\", \"data.pickle.gz\")\n",
    "pd.read_pickle(\"data.pickle.gz\")"
   ]
  },
  {
   "cell_type": "markdown",
   "metadata": {
    "colab_type": "text",
    "id": "Rmd8OovSi77Q"
   },
   "source": [
    "## Summary\n",
    "\n",
    "To summarize, we've preprocessed our data as follows:\n",
    "\n",
    "1. Filter by library size to remove empty droplets and doublets\n",
    "2. Combine batches\n",
    "3. Filter out rarely expressed genes\n",
    "4. Filter cells with high mitochrondrial expression\n",
    "5. Normalize by library size\n",
    "6. Square root transform\n",
    "7. Save and download"
   ]
  }
 ],
 "metadata": {
  "kernelspec": {
   "display_name": "Python 3",
   "language": "python",
   "name": "python3"
  },
  "language_info": {
   "codemirror_mode": {
    "name": "ipython",
    "version": 3
   },
   "file_extension": ".py",
   "mimetype": "text/x-python",
   "name": "python",
   "nbconvert_exporter": "python",
   "pygments_lexer": "ipython3",
   "version": "3.8.1"
  }
 },
 "nbformat": 4,
 "nbformat_minor": 1
}
