{
 "cells": [
  {
   "cell_type": "markdown",
   "metadata": {
    "colab_type": "text",
    "id": "LLeV_UqpGPKX"
   },
   "source": [
    "# Exercise 1  - Loading and plotting the UCI wine dataset\n",
    "\n",
    "## Goals\n",
    "\n",
    "* Introduction to Google Colab\n",
    "* Loading data into Pandas\n",
    "* Indexing Pandas DataFrames\n",
    "* Creating scatter plots using matplotlib\n",
    "\n",
    "Before we get started, you'll need to install `scprep` by running the following command (press **Shift-Enter** to run the cell.) After installing, you will need to restart the notebook by clicking `Restart Runtime` which will appear below the install message."
   ]
  },
  {
   "cell_type": "code",
   "execution_count": null,
   "metadata": {
    "colab": {},
    "colab_type": "code",
    "id": "ML_G3n8jrpgb"
   },
   "outputs": [],
   "source": [
    "!pip install --user scprep"
   ]
  },
  {
   "cell_type": "markdown",
   "metadata": {
    "colab_type": "text",
    "id": "inLJzv5uGPKg"
   },
   "source": [
    "## 1. Loading [the UCI wine dataset](https://scikit-learn.org/stable/modules/generated/sklearn.datasets.load_wine.html)"
   ]
  },
  {
   "cell_type": "markdown",
   "metadata": {
    "colab_type": "text",
    "id": "9sBcU0duGPKk"
   },
   "source": [
    "### Imports\n",
    "(Almost) everything in Python is imported. These lines load modules from four libraries:\n",
    "* `numpy` - *the* library for numerical computing in Python\n",
    "* `pandas` - a library for organizing and manipulating data\n",
    "* `matplotlib` - a library for plotting\n",
    "* `sklearn` - short for scikit-learn, a machine learning toolkit in Python"
   ]
  },
  {
   "cell_type": "code",
   "execution_count": null,
   "metadata": {
    "colab": {},
    "colab_type": "code",
    "id": "ax_0B77mGPKo"
   },
   "outputs": [],
   "source": [
    "import numpy as np\n",
    "import pandas as pd\n",
    "\n",
    "import matplotlib.pyplot as plt\n",
    "\n",
    "from sklearn import datasets"
   ]
  },
  {
   "cell_type": "markdown",
   "metadata": {
    "colab_type": "text",
    "id": "yj3JZGVrGPK6"
   },
   "source": [
    "### Loading the data from sklearn into a pandas DataFrame\n",
    "\n",
    "The core of pandas is the [`DataFrame`](https://pandas.pydata.org/pandas-docs/stable/reference/api/pandas.DataFrame.html). The `DataFrame` is a two-dimensional container for data that is organized into rows and columns. Generally speaking, rows should correspond to observations in a DataFrame, and columns should correspond to the features of variables of the data."
   ]
  },
  {
   "cell_type": "markdown",
   "metadata": {
    "colab_type": "text",
    "id": "dzOYOSOSGPK9"
   },
   "source": [
    "#### Load data"
   ]
  },
  {
   "cell_type": "code",
   "execution_count": null,
   "metadata": {
    "colab": {},
    "colab_type": "code",
    "id": "7IUzwZHCGPK_"
   },
   "outputs": [],
   "source": [
    "wine = datasets.load_wine()"
   ]
  },
  {
   "cell_type": "markdown",
   "metadata": {
    "colab_type": "text",
    "id": "vD-iuCpMGPLe"
   },
   "source": [
    "#### Extract information to put in DataFrame\n",
    "When you load data from sklearn, it is packaged into a Bunch (like a dict). We want the data in a pandas DataFrame so we can work with it easily."
   ]
  },
  {
   "cell_type": "code",
   "execution_count": null,
   "metadata": {
    "colab": {},
    "colab_type": "code",
    "id": "aOnWUMKKGPLl"
   },
   "outputs": [],
   "source": [
    "# Access the numerical data from the wine Bunch\n",
    "data = wine['data']\n",
    "\n",
    "data"
   ]
  },
  {
   "cell_type": "code",
   "execution_count": null,
   "metadata": {
    "colab": {},
    "colab_type": "code",
    "id": "tSlVtg0QGPMJ"
   },
   "outputs": [],
   "source": [
    "# Load data about the rows and columns\n",
    "feature_names = wine['feature_names']\n",
    "\n",
    "# Load cultivar information about each wine\n",
    "cultivars = np.array(['Cultivar{}'.format(cl) for cl in wine['target']])\n",
    "\n",
    "# Create nice names for each row\n",
    "wine_names = np.array(['Wine{}'.format(i) for i in range(data.shape[0])])"
   ]
  },
  {
   "cell_type": "markdown",
   "metadata": {
    "colab_type": "text",
    "id": "p2STGzxIGPMh"
   },
   "source": [
    "#### Create DataFrame"
   ]
  },
  {
   "cell_type": "code",
   "execution_count": null,
   "metadata": {
    "colab": {},
    "colab_type": "code",
    "id": "2553Z6Z3GPMq"
   },
   "outputs": [],
   "source": [
    "# Gather all of this information into a DataFrame\n",
    "data = pd.DataFrame(data, columns=feature_names, index=wine_names)\n",
    "\n",
    "# Print the first 5 rows of the data, eq. to data[:5]\n",
    "data.head()"
   ]
  },
  {
   "cell_type": "markdown",
   "metadata": {
    "colab_type": "text",
    "id": "ZRZ1KyaYGPMy"
   },
   "source": [
    "## 2. Looking at the data in the DataFrame"
   ]
  },
  {
   "cell_type": "code",
   "execution_count": null,
   "metadata": {
    "colab": {},
    "colab_type": "code",
    "id": "6gVltyZ2GPM1",
    "scrolled": true
   },
   "outputs": [],
   "source": [
    "# Access the 'total_phenols' for all wines\n",
    "data['total_phenols']"
   ]
  },
  {
   "cell_type": "code",
   "execution_count": null,
   "metadata": {
    "colab": {},
    "colab_type": "code",
    "id": "Xv13CDHQGPM9"
   },
   "outputs": [],
   "source": [
    "# Access the first 6 wines\n",
    "data.iloc[:6]"
   ]
  },
  {
   "cell_type": "code",
   "execution_count": null,
   "metadata": {
    "colab": {},
    "colab_type": "code",
    "id": "NS1-nqvJGPNG"
   },
   "outputs": [],
   "source": [
    "# Print the 'malic_acid', 'magnesium', and 'color_intensity' values for the first 3 wines\n",
    "# First, select columns, then select rows\n",
    "data[['malic_acid', 'magnesium', 'color_intensity']][:3]"
   ]
  },
  {
   "cell_type": "markdown",
   "metadata": {
    "colab_type": "text",
    "id": "Oawrf6_9GPNL"
   },
   "source": [
    "### Exercise 1 - Print the 'proanthocyanins' and 'flavanoids' for wines 100-111"
   ]
  },
  {
   "cell_type": "code",
   "execution_count": null,
   "metadata": {
    "colab": {},
    "colab_type": "code",
    "id": "uyq8FtPQGPNO"
   },
   "outputs": [],
   "source": [
    "# ===============\n",
    "# select the appropriate columns with the data['column'] syntax and the appropriate wines with [] indexing\n",
    "\n",
    "# ==============="
   ]
  },
  {
   "cell_type": "markdown",
   "metadata": {
    "colab_type": "text",
    "id": "sbTfv6UiGPNT"
   },
   "source": [
    "#### _Breakpoint_  - once you get here, please help those around you!"
   ]
  },
  {
   "cell_type": "markdown",
   "metadata": {
    "colab_type": "text",
    "id": "qfSNO-ASGPNU"
   },
   "source": [
    "## 3. Introduction to plotting data\n",
    "\n",
    "We're not going to go in depth on plotting, because that could take a full day to go through. There are plenty of online learning resources of getting the hang of matplotlib, though. \n",
    "\n",
    "We recommend:\n",
    "* [The official matplotlib pyplot tutorial](https://matplotlib.org/users/pyplot_tutorial.html)\n",
    "* [The free Cognitive Class Data Visualization Course](https://cognitiveclass.ai/courses/data-visualization-with-python)"
   ]
  },
  {
   "cell_type": "markdown",
   "metadata": {
    "colab_type": "text",
    "id": "278alwrkGPPf"
   },
   "source": [
    "### Exercise 2 - Plot the alcohol and hue of the first 10 wines in the dataset"
   ]
  },
  {
   "cell_type": "code",
   "execution_count": null,
   "metadata": {
    "colab": {},
    "colab_type": "code",
    "id": "GaCRz9-iGPPg"
   },
   "outputs": [],
   "source": [
    "# ===============\n",
    "# Get the first 10 rows and the 'hue' and 'alcohol' columns of the data\n",
    "plotting_data = \n",
    "# ===============\n",
    "\n",
    "# Create the Figure and Axis objects\n",
    "fig, ax = plt.subplots(1, figsize=(4.5,4))\n",
    "\n",
    "# Call the scatter() method of the axis object\n",
    "ax.scatter(plotting_data.iloc[:,0], plotting_data.iloc[:,1])\n",
    "\n",
    "# If you were running this on your computer, you could save the images\n",
    "fig.tight_layout()"
   ]
  },
  {
   "cell_type": "markdown",
   "metadata": {
    "colab_type": "text",
    "id": "Np8CTooFGPPo"
   },
   "source": [
    "## 4. Introducing `scprep`\n",
    "\n",
    "`scprep` is a toolkit for analysis of single cell data. It's open source and publicly available on GitHub at https://github.com/KrishnaswamyLab/scprep. You can install this using pip with `pip install scprep`.\n",
    "\n",
    "Like most packages, `scprep` is divided into modules. You can find a full list of the available modules and documentation in the `scprep` documentation at https://scprep.readthedocs.io/."
   ]
  },
  {
   "cell_type": "markdown",
   "metadata": {
    "colab_type": "text",
    "id": "-bnkNl6oGPPq"
   },
   "source": [
    "### Plot the alcohol and hue of all wines in the dataset *using scprep*\n",
    "\n",
    "It will be helpful for you to look at [the documentation for `scprep.plot.scatter2d()`](https://scprep.readthedocs.io/en/stable/reference.html#scprep.plot.scatter2d)."
   ]
  },
  {
   "cell_type": "code",
   "execution_count": null,
   "metadata": {
    "colab": {},
    "colab_type": "code",
    "id": "yWcm0hT5GPPt"
   },
   "outputs": [],
   "source": [
    "import scprep"
   ]
  },
  {
   "cell_type": "code",
   "execution_count": null,
   "metadata": {
    "colab": {},
    "colab_type": "code",
    "id": "k9al4PL0GPP0"
   },
   "outputs": [],
   "source": [
    "# =======\n",
    "# replace '...' with the correct code\n",
    "scprep.plot.scatter2d( ... , \n",
    "                     c=cultivars, # We created this when importing the wine data\n",
    "                     title='Hue and % Alcohol of all wines', # Goes at the top\n",
    "                     xlabel='Alcohol', ylabel='Hue', # Labels the x and y axis\n",
    "                     # This legend_anchor position puts the legend outside the plot\n",
    "                     legend_title='Variety', legend_anchor=(1,1), \n",
    "                     figsize=(5.5,4))\n",
    "# ======="
   ]
  },
  {
   "cell_type": "markdown",
   "metadata": {
    "colab_type": "text",
    "id": "mJcsb0SZGPP5"
   },
   "source": [
    "#### _Breakpoint_  - once you get here, please help those around you!"
   ]
  },
  {
   "cell_type": "markdown",
   "metadata": {
    "colab_type": "text",
    "id": "VV2349jMGPP_"
   },
   "source": [
    "## Identify features that differentiate two cultivars\n",
    "\n",
    "In the exercise, each pair per table will pick a pair of cultivars and identify features that differentiate them using histograms. \n",
    "\n",
    "It will be helpful for you to look at [the documentation for `scprep.plot.histogram()`](https://scprep.readthedocs.io/en/stable/reference.html#scprep.plot.histogram).\n",
    "\n",
    "As a pair:\n",
    "1. Pick two of the three cultivars to study\n",
    "2. Go through the features one by one and plot their histograms (remember you can duplicate code blocks!)\n",
    "3. Identify the feature that best differentiates your two cultivars (however you define 'best')\n",
    "4. Once you are done, share your findings with your table"
   ]
  },
  {
   "cell_type": "code",
   "execution_count": null,
   "metadata": {
    "colab": {},
    "colab_type": "code",
    "id": "GCow8PiBGPQA"
   },
   "outputs": [],
   "source": [
    "# Pick a feature in the data\n",
    "feature = data['alcohol']\n",
    "\n",
    "# Type in your desired cultivars here\n",
    "a_group = 'Cultivar0'\n",
    "b_group = 'Cultivar1'\n",
    "\n",
    "scprep.plot.histogram([feature[cultivars == a_group], feature[cultivars == b_group]],\n",
    "                      title=feature.name, bins=20,\n",
    "                      xlabel='Feature value',ylabel='Frequency')"
   ]
  },
  {
   "cell_type": "markdown",
   "metadata": {
    "colab_type": "text",
    "id": "CQztB4aDGPQM"
   },
   "source": [
    "#### _Breakpoint_  - once you get here, please help those around you!"
   ]
  },
  {
   "cell_type": "markdown",
   "metadata": {
    "colab_type": "text",
    "id": "xOsK1YjBGPQX"
   },
   "source": [
    "## 4. Calculating pairwise distances\n",
    "\n",
    "To calculate pairwise distances (i.e. the distance between two points), we will use the [`pdist`](https://docs.scipy.org/doc/scipy/reference/generated/scipy.spatial.distance.pdist.html) function from `scipy`. Next, we will visualize the data using a heatmap. Right now, there's no function for plotting heatmaps in `scprep`, because another package, seaborn, already has support for comprehensive plotting of heatmaps.\n",
    "\n",
    "Package descriptions:\n",
    "* [`scipy`](https://docs.scipy.org/doc/scipy/reference/index.html) - part of the same ecosystem as `numpy`. Contains many functions for scientific computing in Python including statistical computations, linear algebra, etc.\n",
    "* [`seaborn`](https://seaborn.pydata.org/) - an independent plotting package for Python that wraps around `matplotlib` to create beautiful, complex plots.\n",
    "\n"
   ]
  },
  {
   "cell_type": "markdown",
   "metadata": {
    "colab_type": "text",
    "id": "GG9lKg0LGPQc"
   },
   "source": [
    "### Imports"
   ]
  },
  {
   "cell_type": "code",
   "execution_count": null,
   "metadata": {
    "colab": {},
    "colab_type": "code",
    "id": "UgYC6ZKWGPQo"
   },
   "outputs": [],
   "source": [
    "# we only need a couple of functions from scipy.spatial.distance, so we'll directly import them\n",
    "from scipy.spatial.distance import pdist, squareform\n",
    "\n",
    "# it is common to import seaborn as sns\n",
    "import seaborn as sns"
   ]
  },
  {
   "cell_type": "markdown",
   "metadata": {
    "colab_type": "text",
    "id": "HUkrPOWOGPQ-"
   },
   "source": [
    "#### Calculating pairwise distances"
   ]
  },
  {
   "cell_type": "code",
   "execution_count": null,
   "metadata": {
    "colab": {},
    "colab_type": "code",
    "id": "BJPJA1aUGPQ_"
   },
   "outputs": [],
   "source": [
    "pairwise_distances = squareform(pdist(data))"
   ]
  },
  {
   "cell_type": "markdown",
   "metadata": {
    "colab_type": "text",
    "id": "i0-BlRXNGPRM"
   },
   "source": [
    "#### Plotting the heatmap\n",
    "\n",
    "Here we're using the `clustermap` function to get the row and column colors, but turning off the clustering component with `row_cluster=False` and `col_cluster=False`.\n",
    "\n",
    "Documentation for `clustermap` can be found here: https://seaborn.pydata.org/generated/seaborn.clustermap.html"
   ]
  },
  {
   "cell_type": "code",
   "execution_count": null,
   "metadata": {
    "colab": {},
    "colab_type": "code",
    "id": "RoU3um4KGPRP"
   },
   "outputs": [],
   "source": [
    "cg = sns.clustermap(pairwise_distances, \n",
    "               row_colors=plt.cm.tab10(wine['target']), \n",
    "               col_colors=plt.cm.tab10(wine['target']), \n",
    "               row_cluster=False, col_cluster=False,\n",
    "               xticklabels=[], yticklabels=[])\n",
    "\n",
    "cg.ax_heatmap.set_xlabel(r'Cell$_{i}$', fontsize=22)\n",
    "cg.ax_heatmap.set_ylabel(r'Cell$_{j}$', fontsize=22, rotation=90)"
   ]
  },
  {
   "cell_type": "markdown",
   "metadata": {
    "colab_type": "text",
    "id": "bik16eloGPRY"
   },
   "source": [
    "### Discussion\n",
    "\n",
    "Try commenting out (adding a \"#\" at the beginning of the line) the line that sets `row_cluster=False` and `col_cluster=False`. This will make `clustermap` automatically cluster the data. \n",
    "\n",
    "Discuss the following questions:\n",
    "1. What do you notice about the groupings? \n",
    "2. Do you think the wine cultivars are \"Euclidean blobs\"?"
   ]
  },
  {
   "cell_type": "markdown",
   "metadata": {
    "colab_type": "text",
    "id": "m4MpZ0dXGPRa"
   },
   "source": [
    "#### _Breakpoint_  - once you get here, please help those around you!"
   ]
  },
  {
   "cell_type": "markdown",
   "metadata": {
    "colab_type": "text",
    "id": "KVXuvWhYGPRb"
   },
   "source": [
    "### Why feature scaling is important\n",
    "\n",
    "We'll use `sklearn`'s `StandardScaler` to z-score the features of the wine dataset. You'll see that a heatmap of the data _without_ doing this is dominated by a single high-magnitude feature, which is much less informative."
   ]
  },
  {
   "cell_type": "code",
   "execution_count": null,
   "metadata": {
    "colab": {},
    "colab_type": "code",
    "id": "uwSpM0XSGPRd"
   },
   "outputs": [],
   "source": [
    "from sklearn.preprocessing import StandardScaler"
   ]
  },
  {
   "cell_type": "code",
   "execution_count": null,
   "metadata": {
    "colab": {},
    "colab_type": "code",
    "id": "lYiMaPTnGPRh"
   },
   "outputs": [],
   "source": [
    "data_scaled = StandardScaler().fit_transform(data)"
   ]
  },
  {
   "cell_type": "code",
   "execution_count": null,
   "metadata": {
    "colab": {},
    "colab_type": "code",
    "id": "pRzgHaB6GPRl"
   },
   "outputs": [],
   "source": [
    "sns.clustermap(data_scaled, xticklabels=data.columns, row_colors=plt.cm.tab10(wine['target']))"
   ]
  },
  {
   "cell_type": "markdown",
   "metadata": {
    "colab_type": "text",
    "id": "dE-M49GzGPR7"
   },
   "source": [
    "Notice that the data clusters together (as you see by the colors on the left, which corresponds to the cultivars) quite nicely. Now let's try again without the scaling."
   ]
  },
  {
   "cell_type": "code",
   "execution_count": null,
   "metadata": {
    "colab": {},
    "colab_type": "code",
    "id": "4LanMOysGPR8"
   },
   "outputs": [],
   "source": [
    "sns.clustermap(data, row_colors=plt.cm.tab10(wine['target']))"
   ]
  },
  {
   "cell_type": "markdown",
   "metadata": {
    "colab_type": "text",
    "id": "ZNX-nMmKGPSD"
   },
   "source": [
    "#### Scaling before distance calculation"
   ]
  },
  {
   "cell_type": "markdown",
   "metadata": {
    "colab_type": "text",
    "id": "3BpZkkgKGPSE"
   },
   "source": [
    "We can also take another look at our pairwise distances plot and see what scaling does to the output."
   ]
  },
  {
   "cell_type": "code",
   "execution_count": null,
   "metadata": {
    "colab": {},
    "colab_type": "code",
    "id": "Ep_ZX7M7GPSF"
   },
   "outputs": [],
   "source": [
    "pairwise_distances_scaled = squareform(pdist(data_scaled))\n",
    "\n",
    "cg = sns.clustermap(pairwise_distances_scaled, \n",
    "               row_colors=plt.cm.tab10(wine['target']), \n",
    "               col_colors=plt.cm.tab10(wine['target']), \n",
    "               row_cluster=False, col_cluster=False,\n",
    "               xticklabels=[], yticklabels=[])\n",
    "\n",
    "cg.ax_heatmap.set_xlabel(r'Cell$_{i}$', fontsize=22)\n",
    "cg.ax_heatmap.set_ylabel(r'Cell$_{j}$', fontsize=22, rotation=90)"
   ]
  },
  {
   "cell_type": "markdown",
   "metadata": {
    "colab_type": "text",
    "id": "6WMDxz2cGPSL"
   },
   "source": [
    "You can see that the three-cluster structure is much more clear here than when we just used the raw data, where we only really saw two obvious groups. If we allow `seaborn` to cluster the rows and columns, we'll see the structure more clearly.\n",
    "\n",
    "### Discussion\n",
    "\n",
    "Again, commenting out (adding a \"#\" at the beginning of the line) the line that sets `row_cluster=False` and `col_cluster=False`. This will make `clustermap` automatically cluster the data. \n",
    "\n",
    "Discuss the following questions:\n",
    "1. What do you notice about the groupings? \n",
    "2. Now do you think the wine cultivars are \"Euclidean blobs\"?"
   ]
  }
 ],
 "metadata": {
  "colab": {
   "name": "00_Plotting_UCI_wine.ipynb",
   "provenance": []
  },
  "kernelspec": {
   "display_name": "Python 3",
   "language": "python",
   "name": "python3"
  },
  "language_info": {
   "codemirror_mode": {
    "name": "ipython",
    "version": 3
   },
   "file_extension": ".py",
   "mimetype": "text/x-python",
   "name": "python",
   "nbconvert_exporter": "python",
   "pygments_lexer": "ipython3",
   "version": "3.7.3"
  }
 },
 "nbformat": 4,
 "nbformat_minor": 1
}
